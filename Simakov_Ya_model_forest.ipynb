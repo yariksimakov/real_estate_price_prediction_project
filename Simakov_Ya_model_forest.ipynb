{
 "cells": [
  {
   "cell_type": "code",
   "execution_count": 1,
   "outputs": [],
   "source": [
    "import numpy as np\n",
    "import pandas as pd\n",
    "import matplotlib.pyplot as  plt\n",
    "from sklearn.metrics import r2_score\n",
    "from sklearn.model_selection import train_test_split, GridSearchCV\n",
    "from sklearn.ensemble import RandomForestRegressor\n",
    "from sklearn.preprocessing import StandardScaler\n",
    "import seaborn as sns\n",
    "\n",
    "%matplotlib inline\n",
    "%config InlineBackend.figure_format = 'svg'\n",
    "plt.style.use('fivethirtyeight')"
   ],
   "metadata": {
    "collapsed": false,
    "pycharm": {
     "name": "#%%\n"
    }
   }
  },
  {
   "cell_type": "markdown",
   "source": [
    "I read data "
   ],
   "metadata": {
    "collapsed": false,
    "pycharm": {
     "name": "#%% md\n"
    }
   }
  },
  {
   "cell_type": "code",
   "execution_count": 43,
   "outputs": [],
   "source": [
    "df_train = pd.read_pickle('df_train.pkl')\n",
    "df_test = pd.read_pickle('df_test.pkl')\n",
    "\n",
    "TARGET_COLUMN = 'Price'\n",
    "CATEGORY_COLUMNS = ['DistrictId', 'Rooms', 'Ecology_1', 'Ecology_2', 'Shops_1', 'Helthcare_2', 'Rooms_outlier', 'HouseFloor_outlier',\n",
    "                   'District_big', 'Floor_category', 'Year_category', 'Healthcare_1_outlier', 'DistrictSize', 'PriceMedian_year', 'PriceMedian_district']\n",
    "NUMBER_COLUMNS = df_train.columns.drop(CATEGORY_COLUMNS).tolist()\n",
    "NUMBER_COLUMNS.remove(TARGET_COLUMN)\n",
    "NUMBER_COLUMNS.remove('Id')"
   ],
   "metadata": {
    "collapsed": false,
    "pycharm": {
     "name": "#%%\n"
    }
   }
  },
  {
   "cell_type": "markdown",
   "source": [
    "# 3 split df_train on train  and test"
   ],
   "metadata": {
    "collapsed": false
   }
  },
  {
   "cell_type": "code",
   "execution_count": 44,
   "outputs": [],
   "source": [
    "df_train.drop(columns='Id', inplace=True)\n",
    "\n",
    "def split_data(df, share_of_dough):\n",
    "    x = df.drop(TARGET_COLUMN, axis=1)\n",
    "    y = df[TARGET_COLUMN]\n",
    "    return train_test_split(x, y, test_size=share_of_dough, random_state=49)\n",
    "\n",
    "x_train, x_valid, y_train, y_valid = split_data(df_train, .25)"
   ],
   "metadata": {
    "collapsed": false,
    "pycharm": {
     "name": "#%%\n"
    }
   }
  },
  {
   "cell_type": "markdown",
   "source": [
    "Random Forest\n",
    "\n",
    "I used StandardScaler for data scaler"
   ],
   "metadata": {
    "collapsed": false
   }
  },
  {
   "cell_type": "code",
   "execution_count": 45,
   "outputs": [],
   "source": [
    "def scale_data(df_train, df_valid, model):\n",
    "    scaler_model = model\n",
    "    df_train[NUMBER_COLUMNS] = scaler_model.fit_transform(df_train[NUMBER_COLUMNS])\n",
    "    df_valid[NUMBER_COLUMNS] = scaler_model.transform(df_valid[NUMBER_COLUMNS])\n",
    "    return df_train, df_valid, scaler_model\n",
    "\n",
    "x_train, x_valid, scaler = scale_data(x_train, x_valid, StandardScaler())"
   ],
   "metadata": {
    "collapsed": false,
    "pycharm": {
     "name": "#%%\n"
    }
   }
  },
  {
   "cell_type": "markdown",
   "source": [
    "# 4 Fit predict model"
   ],
   "metadata": {
    "collapsed": false,
    "pycharm": {
     "name": "#%% md\n"
    }
   }
  },
  {
   "cell_type": "code",
   "execution_count": 47,
   "outputs": [
    {
     "name": "stdout",
     "output_type": "stream",
     "text": [
      "0.7437248986236076\tTRAIN\n",
      "0.6999098351903682\tVALID\n"
     ]
    }
   ],
   "source": [
    "\n",
    "def evalue_metrics(model):\n",
    "    predict_train = model.predict(x_train)\n",
    "    predict_valid = model.predict(x_valid)\n",
    "    print(r2_score(y_train, predict_train), 'TRAIN', sep='\\t')\n",
    "    print(r2_score(y_valid, predict_valid), 'VALID', sep='\\t')\n",
    "    return predict_train, predict_valid\n",
    "\n",
    "\n",
    "predict_model = RandomForestRegressor(n_estimators=100, max_depth=5, max_features=16, random_state=49)\n",
    "predict_model.fit(x_train, y_train)\n",
    "predict_train, predict_valid = evalue_metrics(predict_model)\n",
    "\n",
    "\n",
    "# 0.7434277243014902 TRAIN\n",
    "# 0.700714161180289\tVALID"
   ],
   "metadata": {
    "collapsed": false,
    "pycharm": {
     "name": "#%%\n"
    }
   }
  },
  {
   "cell_type": "code",
   "execution_count": null,
   "outputs": [],
   "source": [
    "x_train.shape\n",
    "# my_model.model_learn.feature_importances_"
   ],
   "metadata": {
    "collapsed": false,
    "pycharm": {
     "name": "#%%\n"
    }
   }
  },
  {
   "cell_type": "code",
   "execution_count": 48,
   "outputs": [
    {
     "name": "stderr",
     "output_type": "stream",
     "text": [
      "c:\\users\\user\\desktop\\data-science\\venv\\lib\\site-packages\\seaborn\\_decorators.py:36: FutureWarning: Pass the following variables as keyword args: x, y. From version 0.12, the only valid positional argument will be `data`, and passing other arguments without an explicit keyword will result in an error or misinterpretation.\n",
      "  warnings.warn(\n"
     ]
    },
    {
     "data": {
      "text/plain": "<Figure size 432x288 with 1 Axes>",
      "image/svg+xml": "<?xml version=\"1.0\" encoding=\"utf-8\" standalone=\"no\"?>\n<!DOCTYPE svg PUBLIC \"-//W3C//DTD SVG 1.1//EN\"\n  \"http://www.w3.org/Graphics/SVG/1.1/DTD/svg11.dtd\">\n<svg xmlns:xlink=\"http://www.w3.org/1999/xlink\" width=\"538.0275pt\" height=\"265.728281pt\" viewBox=\"0 0 538.0275 265.728281\" xmlns=\"http://www.w3.org/2000/svg\" version=\"1.1\">\n <metadata>\n  <rdf:RDF xmlns:dc=\"http://purl.org/dc/elements/1.1/\" xmlns:cc=\"http://creativecommons.org/ns#\" xmlns:rdf=\"http://www.w3.org/1999/02/22-rdf-syntax-ns#\">\n   <cc:Work>\n    <dc:type rdf:resource=\"http://purl.org/dc/dcmitype/StillImage\"/>\n    <dc:date>2022-04-03T12:51:14.112246</dc:date>\n    <dc:format>image/svg+xml</dc:format>\n    <dc:creator>\n     <cc:Agent>\n      <dc:title>Matplotlib v3.5.1, https://matplotlib.org/</dc:title>\n     </cc:Agent>\n    </dc:creator>\n   </cc:Work>\n  </rdf:RDF>\n </metadata>\n <defs>\n  <style type=\"text/css\">*{stroke-linejoin: round; stroke-linecap: butt}</style>\n </defs>\n <g id=\"figure_1\">\n  <g id=\"patch_1\">\n   <path d=\"M 0 265.728281 \nL 538.0275 265.728281 \nL 538.0275 0 \nL 0 0 \nz\n\" style=\"fill: #f0f0f0\"/>\n  </g>\n  <g id=\"axes_1\">\n   <g id=\"patch_2\">\n    <path d=\"M 154.9875 241.478906 \nL 530.8275 241.478906 \nL 530.8275 8.198906 \nL 154.9875 8.198906 \nz\n\" style=\"fill: #f0f0f0\"/>\n   </g>\n   <g id=\"matplotlib.axis_1\">\n    <g id=\"xtick_1\">\n     <g id=\"line2d_1\"/>\n     <g id=\"text_1\">\n      <!-- 0.0 -->\n      <g transform=\"translate(143.855313 255.616719)scale(0.14 -0.14)\">\n       <defs>\n        <path id=\"DejaVuSans-30\" d=\"M 2034 4250 \nQ 1547 4250 1301 3770 \nQ 1056 3291 1056 2328 \nQ 1056 1369 1301 889 \nQ 1547 409 2034 409 \nQ 2525 409 2770 889 \nQ 3016 1369 3016 2328 \nQ 3016 3291 2770 3770 \nQ 2525 4250 2034 4250 \nz\nM 2034 4750 \nQ 2819 4750 3233 4129 \nQ 3647 3509 3647 2328 \nQ 3647 1150 3233 529 \nQ 2819 -91 2034 -91 \nQ 1250 -91 836 529 \nQ 422 1150 422 2328 \nQ 422 3509 836 4129 \nQ 1250 4750 2034 4750 \nz\n\" transform=\"scale(0.015625)\"/>\n        <path id=\"DejaVuSans-2e\" d=\"M 684 794 \nL 1344 794 \nL 1344 0 \nL 684 0 \nL 684 794 \nz\n\" transform=\"scale(0.015625)\"/>\n       </defs>\n       <use xlink:href=\"#DejaVuSans-30\"/>\n       <use xlink:href=\"#DejaVuSans-2e\" x=\"63.623047\"/>\n       <use xlink:href=\"#DejaVuSans-30\" x=\"95.410156\"/>\n      </g>\n     </g>\n    </g>\n    <g id=\"xtick_2\">\n     <g id=\"line2d_2\"/>\n     <g id=\"text_2\">\n      <!-- 0.1 -->\n      <g transform=\"translate(201.485355 255.616719)scale(0.14 -0.14)\">\n       <defs>\n        <path id=\"DejaVuSans-31\" d=\"M 794 531 \nL 1825 531 \nL 1825 4091 \nL 703 3866 \nL 703 4441 \nL 1819 4666 \nL 2450 4666 \nL 2450 531 \nL 3481 531 \nL 3481 0 \nL 794 0 \nL 794 531 \nz\n\" transform=\"scale(0.015625)\"/>\n       </defs>\n       <use xlink:href=\"#DejaVuSans-30\"/>\n       <use xlink:href=\"#DejaVuSans-2e\" x=\"63.623047\"/>\n       <use xlink:href=\"#DejaVuSans-31\" x=\"95.410156\"/>\n      </g>\n     </g>\n    </g>\n    <g id=\"xtick_3\">\n     <g id=\"line2d_3\"/>\n     <g id=\"text_3\">\n      <!-- 0.2 -->\n      <g transform=\"translate(259.115397 255.616719)scale(0.14 -0.14)\">\n       <defs>\n        <path id=\"DejaVuSans-32\" d=\"M 1228 531 \nL 3431 531 \nL 3431 0 \nL 469 0 \nL 469 531 \nQ 828 903 1448 1529 \nQ 2069 2156 2228 2338 \nQ 2531 2678 2651 2914 \nQ 2772 3150 2772 3378 \nQ 2772 3750 2511 3984 \nQ 2250 4219 1831 4219 \nQ 1534 4219 1204 4116 \nQ 875 4013 500 3803 \nL 500 4441 \nQ 881 4594 1212 4672 \nQ 1544 4750 1819 4750 \nQ 2544 4750 2975 4387 \nQ 3406 4025 3406 3419 \nQ 3406 3131 3298 2873 \nQ 3191 2616 2906 2266 \nQ 2828 2175 2409 1742 \nQ 1991 1309 1228 531 \nz\n\" transform=\"scale(0.015625)\"/>\n       </defs>\n       <use xlink:href=\"#DejaVuSans-30\"/>\n       <use xlink:href=\"#DejaVuSans-2e\" x=\"63.623047\"/>\n       <use xlink:href=\"#DejaVuSans-32\" x=\"95.410156\"/>\n      </g>\n     </g>\n    </g>\n    <g id=\"xtick_4\">\n     <g id=\"line2d_4\"/>\n     <g id=\"text_4\">\n      <!-- 0.3 -->\n      <g transform=\"translate(316.74544 255.616719)scale(0.14 -0.14)\">\n       <defs>\n        <path id=\"DejaVuSans-33\" d=\"M 2597 2516 \nQ 3050 2419 3304 2112 \nQ 3559 1806 3559 1356 \nQ 3559 666 3084 287 \nQ 2609 -91 1734 -91 \nQ 1441 -91 1130 -33 \nQ 819 25 488 141 \nL 488 750 \nQ 750 597 1062 519 \nQ 1375 441 1716 441 \nQ 2309 441 2620 675 \nQ 2931 909 2931 1356 \nQ 2931 1769 2642 2001 \nQ 2353 2234 1838 2234 \nL 1294 2234 \nL 1294 2753 \nL 1863 2753 \nQ 2328 2753 2575 2939 \nQ 2822 3125 2822 3475 \nQ 2822 3834 2567 4026 \nQ 2313 4219 1838 4219 \nQ 1578 4219 1281 4162 \nQ 984 4106 628 3988 \nL 628 4550 \nQ 988 4650 1302 4700 \nQ 1616 4750 1894 4750 \nQ 2613 4750 3031 4423 \nQ 3450 4097 3450 3541 \nQ 3450 3153 3228 2886 \nQ 3006 2619 2597 2516 \nz\n\" transform=\"scale(0.015625)\"/>\n       </defs>\n       <use xlink:href=\"#DejaVuSans-30\"/>\n       <use xlink:href=\"#DejaVuSans-2e\" x=\"63.623047\"/>\n       <use xlink:href=\"#DejaVuSans-33\" x=\"95.410156\"/>\n      </g>\n     </g>\n    </g>\n    <g id=\"xtick_5\">\n     <g id=\"line2d_5\"/>\n     <g id=\"text_5\">\n      <!-- 0.4 -->\n      <g transform=\"translate(374.375482 255.616719)scale(0.14 -0.14)\">\n       <defs>\n        <path id=\"DejaVuSans-34\" d=\"M 2419 4116 \nL 825 1625 \nL 2419 1625 \nL 2419 4116 \nz\nM 2253 4666 \nL 3047 4666 \nL 3047 1625 \nL 3713 1625 \nL 3713 1100 \nL 3047 1100 \nL 3047 0 \nL 2419 0 \nL 2419 1100 \nL 313 1100 \nL 313 1709 \nL 2253 4666 \nz\n\" transform=\"scale(0.015625)\"/>\n       </defs>\n       <use xlink:href=\"#DejaVuSans-30\"/>\n       <use xlink:href=\"#DejaVuSans-2e\" x=\"63.623047\"/>\n       <use xlink:href=\"#DejaVuSans-34\" x=\"95.410156\"/>\n      </g>\n     </g>\n    </g>\n    <g id=\"xtick_6\">\n     <g id=\"line2d_6\"/>\n     <g id=\"text_6\">\n      <!-- 0.5 -->\n      <g transform=\"translate(432.005524 255.616719)scale(0.14 -0.14)\">\n       <defs>\n        <path id=\"DejaVuSans-35\" d=\"M 691 4666 \nL 3169 4666 \nL 3169 4134 \nL 1269 4134 \nL 1269 2991 \nQ 1406 3038 1543 3061 \nQ 1681 3084 1819 3084 \nQ 2600 3084 3056 2656 \nQ 3513 2228 3513 1497 \nQ 3513 744 3044 326 \nQ 2575 -91 1722 -91 \nQ 1428 -91 1123 -41 \nQ 819 9 494 109 \nL 494 744 \nQ 775 591 1075 516 \nQ 1375 441 1709 441 \nQ 2250 441 2565 725 \nQ 2881 1009 2881 1497 \nQ 2881 1984 2565 2268 \nQ 2250 2553 1709 2553 \nQ 1456 2553 1204 2497 \nQ 953 2441 691 2322 \nL 691 4666 \nz\n\" transform=\"scale(0.015625)\"/>\n       </defs>\n       <use xlink:href=\"#DejaVuSans-30\"/>\n       <use xlink:href=\"#DejaVuSans-2e\" x=\"63.623047\"/>\n       <use xlink:href=\"#DejaVuSans-35\" x=\"95.410156\"/>\n      </g>\n     </g>\n    </g>\n    <g id=\"xtick_7\">\n     <g id=\"line2d_7\"/>\n     <g id=\"text_7\">\n      <!-- 0.6 -->\n      <g transform=\"translate(489.635567 255.616719)scale(0.14 -0.14)\">\n       <defs>\n        <path id=\"DejaVuSans-36\" d=\"M 2113 2584 \nQ 1688 2584 1439 2293 \nQ 1191 2003 1191 1497 \nQ 1191 994 1439 701 \nQ 1688 409 2113 409 \nQ 2538 409 2786 701 \nQ 3034 994 3034 1497 \nQ 3034 2003 2786 2293 \nQ 2538 2584 2113 2584 \nz\nM 3366 4563 \nL 3366 3988 \nQ 3128 4100 2886 4159 \nQ 2644 4219 2406 4219 \nQ 1781 4219 1451 3797 \nQ 1122 3375 1075 2522 \nQ 1259 2794 1537 2939 \nQ 1816 3084 2150 3084 \nQ 2853 3084 3261 2657 \nQ 3669 2231 3669 1497 \nQ 3669 778 3244 343 \nQ 2819 -91 2113 -91 \nQ 1303 -91 875 529 \nQ 447 1150 447 2328 \nQ 447 3434 972 4092 \nQ 1497 4750 2381 4750 \nQ 2619 4750 2861 4703 \nQ 3103 4656 3366 4563 \nz\n\" transform=\"scale(0.015625)\"/>\n       </defs>\n       <use xlink:href=\"#DejaVuSans-30\"/>\n       <use xlink:href=\"#DejaVuSans-2e\" x=\"63.623047\"/>\n       <use xlink:href=\"#DejaVuSans-36\" x=\"95.410156\"/>\n      </g>\n     </g>\n    </g>\n   </g>\n   <g id=\"matplotlib.axis_2\">\n    <g id=\"ytick_1\">\n     <g id=\"line2d_8\">\n      <path d=\"M 154.9875 12.518906 \nL 530.8275 12.518906 \n\" clip-path=\"url(#p0268d770c3)\" style=\"fill: none; stroke: #cbcbcb\"/>\n     </g>\n     <g id=\"line2d_9\"/>\n     <g id=\"text_8\">\n      <!-- DistrictId -->\n      <g transform=\"translate(88.187813 17.837812)scale(0.14 -0.14)\">\n       <defs>\n        <path id=\"DejaVuSans-44\" d=\"M 1259 4147 \nL 1259 519 \nL 2022 519 \nQ 2988 519 3436 956 \nQ 3884 1394 3884 2338 \nQ 3884 3275 3436 3711 \nQ 2988 4147 2022 4147 \nL 1259 4147 \nz\nM 628 4666 \nL 1925 4666 \nQ 3281 4666 3915 4102 \nQ 4550 3538 4550 2338 \nQ 4550 1131 3912 565 \nQ 3275 0 1925 0 \nL 628 0 \nL 628 4666 \nz\n\" transform=\"scale(0.015625)\"/>\n        <path id=\"DejaVuSans-69\" d=\"M 603 3500 \nL 1178 3500 \nL 1178 0 \nL 603 0 \nL 603 3500 \nz\nM 603 4863 \nL 1178 4863 \nL 1178 4134 \nL 603 4134 \nL 603 4863 \nz\n\" transform=\"scale(0.015625)\"/>\n        <path id=\"DejaVuSans-73\" d=\"M 2834 3397 \nL 2834 2853 \nQ 2591 2978 2328 3040 \nQ 2066 3103 1784 3103 \nQ 1356 3103 1142 2972 \nQ 928 2841 928 2578 \nQ 928 2378 1081 2264 \nQ 1234 2150 1697 2047 \nL 1894 2003 \nQ 2506 1872 2764 1633 \nQ 3022 1394 3022 966 \nQ 3022 478 2636 193 \nQ 2250 -91 1575 -91 \nQ 1294 -91 989 -36 \nQ 684 19 347 128 \nL 347 722 \nQ 666 556 975 473 \nQ 1284 391 1588 391 \nQ 1994 391 2212 530 \nQ 2431 669 2431 922 \nQ 2431 1156 2273 1281 \nQ 2116 1406 1581 1522 \nL 1381 1569 \nQ 847 1681 609 1914 \nQ 372 2147 372 2553 \nQ 372 3047 722 3315 \nQ 1072 3584 1716 3584 \nQ 2034 3584 2315 3537 \nQ 2597 3491 2834 3397 \nz\n\" transform=\"scale(0.015625)\"/>\n        <path id=\"DejaVuSans-74\" d=\"M 1172 4494 \nL 1172 3500 \nL 2356 3500 \nL 2356 3053 \nL 1172 3053 \nL 1172 1153 \nQ 1172 725 1289 603 \nQ 1406 481 1766 481 \nL 2356 481 \nL 2356 0 \nL 1766 0 \nQ 1100 0 847 248 \nQ 594 497 594 1153 \nL 594 3053 \nL 172 3053 \nL 172 3500 \nL 594 3500 \nL 594 4494 \nL 1172 4494 \nz\n\" transform=\"scale(0.015625)\"/>\n        <path id=\"DejaVuSans-72\" d=\"M 2631 2963 \nQ 2534 3019 2420 3045 \nQ 2306 3072 2169 3072 \nQ 1681 3072 1420 2755 \nQ 1159 2438 1159 1844 \nL 1159 0 \nL 581 0 \nL 581 3500 \nL 1159 3500 \nL 1159 2956 \nQ 1341 3275 1631 3429 \nQ 1922 3584 2338 3584 \nQ 2397 3584 2469 3576 \nQ 2541 3569 2628 3553 \nL 2631 2963 \nz\n\" transform=\"scale(0.015625)\"/>\n        <path id=\"DejaVuSans-63\" d=\"M 3122 3366 \nL 3122 2828 \nQ 2878 2963 2633 3030 \nQ 2388 3097 2138 3097 \nQ 1578 3097 1268 2742 \nQ 959 2388 959 1747 \nQ 959 1106 1268 751 \nQ 1578 397 2138 397 \nQ 2388 397 2633 464 \nQ 2878 531 3122 666 \nL 3122 134 \nQ 2881 22 2623 -34 \nQ 2366 -91 2075 -91 \nQ 1284 -91 818 406 \nQ 353 903 353 1747 \nQ 353 2603 823 3093 \nQ 1294 3584 2113 3584 \nQ 2378 3584 2631 3529 \nQ 2884 3475 3122 3366 \nz\n\" transform=\"scale(0.015625)\"/>\n        <path id=\"DejaVuSans-49\" d=\"M 628 4666 \nL 1259 4666 \nL 1259 0 \nL 628 0 \nL 628 4666 \nz\n\" transform=\"scale(0.015625)\"/>\n        <path id=\"DejaVuSans-64\" d=\"M 2906 2969 \nL 2906 4863 \nL 3481 4863 \nL 3481 0 \nL 2906 0 \nL 2906 525 \nQ 2725 213 2448 61 \nQ 2172 -91 1784 -91 \nQ 1150 -91 751 415 \nQ 353 922 353 1747 \nQ 353 2572 751 3078 \nQ 1150 3584 1784 3584 \nQ 2172 3584 2448 3432 \nQ 2725 3281 2906 2969 \nz\nM 947 1747 \nQ 947 1113 1208 752 \nQ 1469 391 1925 391 \nQ 2381 391 2643 752 \nQ 2906 1113 2906 1747 \nQ 2906 2381 2643 2742 \nQ 2381 3103 1925 3103 \nQ 1469 3103 1208 2742 \nQ 947 2381 947 1747 \nz\n\" transform=\"scale(0.015625)\"/>\n       </defs>\n       <use xlink:href=\"#DejaVuSans-44\"/>\n       <use xlink:href=\"#DejaVuSans-69\" x=\"77.001953\"/>\n       <use xlink:href=\"#DejaVuSans-73\" x=\"104.785156\"/>\n       <use xlink:href=\"#DejaVuSans-74\" x=\"156.884766\"/>\n       <use xlink:href=\"#DejaVuSans-72\" x=\"196.09375\"/>\n       <use xlink:href=\"#DejaVuSans-69\" x=\"237.207031\"/>\n       <use xlink:href=\"#DejaVuSans-63\" x=\"264.990234\"/>\n       <use xlink:href=\"#DejaVuSans-74\" x=\"319.970703\"/>\n       <use xlink:href=\"#DejaVuSans-49\" x=\"359.179688\"/>\n       <use xlink:href=\"#DejaVuSans-64\" x=\"388.671875\"/>\n      </g>\n     </g>\n    </g>\n    <g id=\"ytick_2\">\n     <g id=\"line2d_10\">\n      <path d=\"M 154.9875 21.158906 \nL 530.8275 21.158906 \n\" clip-path=\"url(#p0268d770c3)\" style=\"fill: none; stroke: #cbcbcb\"/>\n     </g>\n     <g id=\"line2d_11\"/>\n     <g id=\"text_9\">\n      <!-- Rooms -->\n      <g transform=\"translate(104.327188 26.477812)scale(0.14 -0.14)\">\n       <defs>\n        <path id=\"DejaVuSans-52\" d=\"M 2841 2188 \nQ 3044 2119 3236 1894 \nQ 3428 1669 3622 1275 \nL 4263 0 \nL 3584 0 \nL 2988 1197 \nQ 2756 1666 2539 1819 \nQ 2322 1972 1947 1972 \nL 1259 1972 \nL 1259 0 \nL 628 0 \nL 628 4666 \nL 2053 4666 \nQ 2853 4666 3247 4331 \nQ 3641 3997 3641 3322 \nQ 3641 2881 3436 2590 \nQ 3231 2300 2841 2188 \nz\nM 1259 4147 \nL 1259 2491 \nL 2053 2491 \nQ 2509 2491 2742 2702 \nQ 2975 2913 2975 3322 \nQ 2975 3731 2742 3939 \nQ 2509 4147 2053 4147 \nL 1259 4147 \nz\n\" transform=\"scale(0.015625)\"/>\n        <path id=\"DejaVuSans-6f\" d=\"M 1959 3097 \nQ 1497 3097 1228 2736 \nQ 959 2375 959 1747 \nQ 959 1119 1226 758 \nQ 1494 397 1959 397 \nQ 2419 397 2687 759 \nQ 2956 1122 2956 1747 \nQ 2956 2369 2687 2733 \nQ 2419 3097 1959 3097 \nz\nM 1959 3584 \nQ 2709 3584 3137 3096 \nQ 3566 2609 3566 1747 \nQ 3566 888 3137 398 \nQ 2709 -91 1959 -91 \nQ 1206 -91 779 398 \nQ 353 888 353 1747 \nQ 353 2609 779 3096 \nQ 1206 3584 1959 3584 \nz\n\" transform=\"scale(0.015625)\"/>\n        <path id=\"DejaVuSans-6d\" d=\"M 3328 2828 \nQ 3544 3216 3844 3400 \nQ 4144 3584 4550 3584 \nQ 5097 3584 5394 3201 \nQ 5691 2819 5691 2113 \nL 5691 0 \nL 5113 0 \nL 5113 2094 \nQ 5113 2597 4934 2840 \nQ 4756 3084 4391 3084 \nQ 3944 3084 3684 2787 \nQ 3425 2491 3425 1978 \nL 3425 0 \nL 2847 0 \nL 2847 2094 \nQ 2847 2600 2669 2842 \nQ 2491 3084 2119 3084 \nQ 1678 3084 1418 2786 \nQ 1159 2488 1159 1978 \nL 1159 0 \nL 581 0 \nL 581 3500 \nL 1159 3500 \nL 1159 2956 \nQ 1356 3278 1631 3431 \nQ 1906 3584 2284 3584 \nQ 2666 3584 2933 3390 \nQ 3200 3197 3328 2828 \nz\n\" transform=\"scale(0.015625)\"/>\n       </defs>\n       <use xlink:href=\"#DejaVuSans-52\"/>\n       <use xlink:href=\"#DejaVuSans-6f\" x=\"64.982422\"/>\n       <use xlink:href=\"#DejaVuSans-6f\" x=\"126.164062\"/>\n       <use xlink:href=\"#DejaVuSans-6d\" x=\"187.345703\"/>\n       <use xlink:href=\"#DejaVuSans-73\" x=\"284.757812\"/>\n      </g>\n     </g>\n    </g>\n    <g id=\"ytick_3\">\n     <g id=\"line2d_12\">\n      <path d=\"M 154.9875 29.798906 \nL 530.8275 29.798906 \n\" clip-path=\"url(#p0268d770c3)\" style=\"fill: none; stroke: #cbcbcb\"/>\n     </g>\n     <g id=\"line2d_13\"/>\n     <g id=\"text_10\">\n      <!-- Square -->\n      <g transform=\"translate(102.205313 35.117812)scale(0.14 -0.14)\">\n       <defs>\n        <path id=\"DejaVuSans-53\" d=\"M 3425 4513 \nL 3425 3897 \nQ 3066 4069 2747 4153 \nQ 2428 4238 2131 4238 \nQ 1616 4238 1336 4038 \nQ 1056 3838 1056 3469 \nQ 1056 3159 1242 3001 \nQ 1428 2844 1947 2747 \nL 2328 2669 \nQ 3034 2534 3370 2195 \nQ 3706 1856 3706 1288 \nQ 3706 609 3251 259 \nQ 2797 -91 1919 -91 \nQ 1588 -91 1214 -16 \nQ 841 59 441 206 \nL 441 856 \nQ 825 641 1194 531 \nQ 1563 422 1919 422 \nQ 2459 422 2753 634 \nQ 3047 847 3047 1241 \nQ 3047 1584 2836 1778 \nQ 2625 1972 2144 2069 \nL 1759 2144 \nQ 1053 2284 737 2584 \nQ 422 2884 422 3419 \nQ 422 4038 858 4394 \nQ 1294 4750 2059 4750 \nQ 2388 4750 2728 4690 \nQ 3069 4631 3425 4513 \nz\n\" transform=\"scale(0.015625)\"/>\n        <path id=\"DejaVuSans-71\" d=\"M 947 1747 \nQ 947 1113 1208 752 \nQ 1469 391 1925 391 \nQ 2381 391 2643 752 \nQ 2906 1113 2906 1747 \nQ 2906 2381 2643 2742 \nQ 2381 3103 1925 3103 \nQ 1469 3103 1208 2742 \nQ 947 2381 947 1747 \nz\nM 2906 525 \nQ 2725 213 2448 61 \nQ 2172 -91 1784 -91 \nQ 1150 -91 751 415 \nQ 353 922 353 1747 \nQ 353 2572 751 3078 \nQ 1150 3584 1784 3584 \nQ 2172 3584 2448 3432 \nQ 2725 3281 2906 2969 \nL 2906 3500 \nL 3481 3500 \nL 3481 -1331 \nL 2906 -1331 \nL 2906 525 \nz\n\" transform=\"scale(0.015625)\"/>\n        <path id=\"DejaVuSans-75\" d=\"M 544 1381 \nL 544 3500 \nL 1119 3500 \nL 1119 1403 \nQ 1119 906 1312 657 \nQ 1506 409 1894 409 \nQ 2359 409 2629 706 \nQ 2900 1003 2900 1516 \nL 2900 3500 \nL 3475 3500 \nL 3475 0 \nL 2900 0 \nL 2900 538 \nQ 2691 219 2414 64 \nQ 2138 -91 1772 -91 \nQ 1169 -91 856 284 \nQ 544 659 544 1381 \nz\nM 1991 3584 \nL 1991 3584 \nz\n\" transform=\"scale(0.015625)\"/>\n        <path id=\"DejaVuSans-61\" d=\"M 2194 1759 \nQ 1497 1759 1228 1600 \nQ 959 1441 959 1056 \nQ 959 750 1161 570 \nQ 1363 391 1709 391 \nQ 2188 391 2477 730 \nQ 2766 1069 2766 1631 \nL 2766 1759 \nL 2194 1759 \nz\nM 3341 1997 \nL 3341 0 \nL 2766 0 \nL 2766 531 \nQ 2569 213 2275 61 \nQ 1981 -91 1556 -91 \nQ 1019 -91 701 211 \nQ 384 513 384 1019 \nQ 384 1609 779 1909 \nQ 1175 2209 1959 2209 \nL 2766 2209 \nL 2766 2266 \nQ 2766 2663 2505 2880 \nQ 2244 3097 1772 3097 \nQ 1472 3097 1187 3025 \nQ 903 2953 641 2809 \nL 641 3341 \nQ 956 3463 1253 3523 \nQ 1550 3584 1831 3584 \nQ 2591 3584 2966 3190 \nQ 3341 2797 3341 1997 \nz\n\" transform=\"scale(0.015625)\"/>\n        <path id=\"DejaVuSans-65\" d=\"M 3597 1894 \nL 3597 1613 \nL 953 1613 \nQ 991 1019 1311 708 \nQ 1631 397 2203 397 \nQ 2534 397 2845 478 \nQ 3156 559 3463 722 \nL 3463 178 \nQ 3153 47 2828 -22 \nQ 2503 -91 2169 -91 \nQ 1331 -91 842 396 \nQ 353 884 353 1716 \nQ 353 2575 817 3079 \nQ 1281 3584 2069 3584 \nQ 2775 3584 3186 3129 \nQ 3597 2675 3597 1894 \nz\nM 3022 2063 \nQ 3016 2534 2758 2815 \nQ 2500 3097 2075 3097 \nQ 1594 3097 1305 2825 \nQ 1016 2553 972 2059 \nL 3022 2063 \nz\n\" transform=\"scale(0.015625)\"/>\n       </defs>\n       <use xlink:href=\"#DejaVuSans-53\"/>\n       <use xlink:href=\"#DejaVuSans-71\" x=\"63.476562\"/>\n       <use xlink:href=\"#DejaVuSans-75\" x=\"126.953125\"/>\n       <use xlink:href=\"#DejaVuSans-61\" x=\"190.332031\"/>\n       <use xlink:href=\"#DejaVuSans-72\" x=\"251.611328\"/>\n       <use xlink:href=\"#DejaVuSans-65\" x=\"290.474609\"/>\n      </g>\n     </g>\n    </g>\n    <g id=\"ytick_4\">\n     <g id=\"line2d_14\">\n      <path d=\"M 154.9875 38.438906 \nL 530.8275 38.438906 \n\" clip-path=\"url(#p0268d770c3)\" style=\"fill: none; stroke: #cbcbcb\"/>\n     </g>\n     <g id=\"line2d_15\"/>\n     <g id=\"text_11\">\n      <!-- LifeSquare -->\n      <g transform=\"translate(76.9725 43.757812)scale(0.14 -0.14)\">\n       <defs>\n        <path id=\"DejaVuSans-4c\" d=\"M 628 4666 \nL 1259 4666 \nL 1259 531 \nL 3531 531 \nL 3531 0 \nL 628 0 \nL 628 4666 \nz\n\" transform=\"scale(0.015625)\"/>\n        <path id=\"DejaVuSans-66\" d=\"M 2375 4863 \nL 2375 4384 \nL 1825 4384 \nQ 1516 4384 1395 4259 \nQ 1275 4134 1275 3809 \nL 1275 3500 \nL 2222 3500 \nL 2222 3053 \nL 1275 3053 \nL 1275 0 \nL 697 0 \nL 697 3053 \nL 147 3053 \nL 147 3500 \nL 697 3500 \nL 697 3744 \nQ 697 4328 969 4595 \nQ 1241 4863 1831 4863 \nL 2375 4863 \nz\n\" transform=\"scale(0.015625)\"/>\n       </defs>\n       <use xlink:href=\"#DejaVuSans-4c\"/>\n       <use xlink:href=\"#DejaVuSans-69\" x=\"55.712891\"/>\n       <use xlink:href=\"#DejaVuSans-66\" x=\"83.496094\"/>\n       <use xlink:href=\"#DejaVuSans-65\" x=\"118.701172\"/>\n       <use xlink:href=\"#DejaVuSans-53\" x=\"180.224609\"/>\n       <use xlink:href=\"#DejaVuSans-71\" x=\"243.701172\"/>\n       <use xlink:href=\"#DejaVuSans-75\" x=\"307.177734\"/>\n       <use xlink:href=\"#DejaVuSans-61\" x=\"370.556641\"/>\n       <use xlink:href=\"#DejaVuSans-72\" x=\"431.835938\"/>\n       <use xlink:href=\"#DejaVuSans-65\" x=\"470.699219\"/>\n      </g>\n     </g>\n    </g>\n    <g id=\"ytick_5\">\n     <g id=\"line2d_16\">\n      <path d=\"M 154.9875 47.078906 \nL 530.8275 47.078906 \n\" clip-path=\"url(#p0268d770c3)\" style=\"fill: none; stroke: #cbcbcb\"/>\n     </g>\n     <g id=\"line2d_17\"/>\n     <g id=\"text_12\">\n      <!-- KitchenSquare -->\n      <g transform=\"translate(49.589375 52.397812)scale(0.14 -0.14)\">\n       <defs>\n        <path id=\"DejaVuSans-4b\" d=\"M 628 4666 \nL 1259 4666 \nL 1259 2694 \nL 3353 4666 \nL 4166 4666 \nL 1850 2491 \nL 4331 0 \nL 3500 0 \nL 1259 2247 \nL 1259 0 \nL 628 0 \nL 628 4666 \nz\n\" transform=\"scale(0.015625)\"/>\n        <path id=\"DejaVuSans-68\" d=\"M 3513 2113 \nL 3513 0 \nL 2938 0 \nL 2938 2094 \nQ 2938 2591 2744 2837 \nQ 2550 3084 2163 3084 \nQ 1697 3084 1428 2787 \nQ 1159 2491 1159 1978 \nL 1159 0 \nL 581 0 \nL 581 4863 \nL 1159 4863 \nL 1159 2956 \nQ 1366 3272 1645 3428 \nQ 1925 3584 2291 3584 \nQ 2894 3584 3203 3211 \nQ 3513 2838 3513 2113 \nz\n\" transform=\"scale(0.015625)\"/>\n        <path id=\"DejaVuSans-6e\" d=\"M 3513 2113 \nL 3513 0 \nL 2938 0 \nL 2938 2094 \nQ 2938 2591 2744 2837 \nQ 2550 3084 2163 3084 \nQ 1697 3084 1428 2787 \nQ 1159 2491 1159 1978 \nL 1159 0 \nL 581 0 \nL 581 3500 \nL 1159 3500 \nL 1159 2956 \nQ 1366 3272 1645 3428 \nQ 1925 3584 2291 3584 \nQ 2894 3584 3203 3211 \nQ 3513 2838 3513 2113 \nz\n\" transform=\"scale(0.015625)\"/>\n       </defs>\n       <use xlink:href=\"#DejaVuSans-4b\"/>\n       <use xlink:href=\"#DejaVuSans-69\" x=\"65.576172\"/>\n       <use xlink:href=\"#DejaVuSans-74\" x=\"93.359375\"/>\n       <use xlink:href=\"#DejaVuSans-63\" x=\"132.568359\"/>\n       <use xlink:href=\"#DejaVuSans-68\" x=\"187.548828\"/>\n       <use xlink:href=\"#DejaVuSans-65\" x=\"250.927734\"/>\n       <use xlink:href=\"#DejaVuSans-6e\" x=\"312.451172\"/>\n       <use xlink:href=\"#DejaVuSans-53\" x=\"375.830078\"/>\n       <use xlink:href=\"#DejaVuSans-71\" x=\"439.306641\"/>\n       <use xlink:href=\"#DejaVuSans-75\" x=\"502.783203\"/>\n       <use xlink:href=\"#DejaVuSans-61\" x=\"566.162109\"/>\n       <use xlink:href=\"#DejaVuSans-72\" x=\"627.441406\"/>\n       <use xlink:href=\"#DejaVuSans-65\" x=\"666.304688\"/>\n      </g>\n     </g>\n    </g>\n    <g id=\"ytick_6\">\n     <g id=\"line2d_18\">\n      <path d=\"M 154.9875 55.718906 \nL 530.8275 55.718906 \n\" clip-path=\"url(#p0268d770c3)\" style=\"fill: none; stroke: #cbcbcb\"/>\n     </g>\n     <g id=\"line2d_19\"/>\n     <g id=\"text_13\">\n      <!-- Floor -->\n      <g transform=\"translate(116.658125 61.037812)scale(0.14 -0.14)\">\n       <defs>\n        <path id=\"DejaVuSans-46\" d=\"M 628 4666 \nL 3309 4666 \nL 3309 4134 \nL 1259 4134 \nL 1259 2759 \nL 3109 2759 \nL 3109 2228 \nL 1259 2228 \nL 1259 0 \nL 628 0 \nL 628 4666 \nz\n\" transform=\"scale(0.015625)\"/>\n        <path id=\"DejaVuSans-6c\" d=\"M 603 4863 \nL 1178 4863 \nL 1178 0 \nL 603 0 \nL 603 4863 \nz\n\" transform=\"scale(0.015625)\"/>\n       </defs>\n       <use xlink:href=\"#DejaVuSans-46\"/>\n       <use xlink:href=\"#DejaVuSans-6c\" x=\"57.519531\"/>\n       <use xlink:href=\"#DejaVuSans-6f\" x=\"85.302734\"/>\n       <use xlink:href=\"#DejaVuSans-6f\" x=\"146.484375\"/>\n       <use xlink:href=\"#DejaVuSans-72\" x=\"207.666016\"/>\n      </g>\n     </g>\n    </g>\n    <g id=\"ytick_7\">\n     <g id=\"line2d_20\">\n      <path d=\"M 154.9875 64.358906 \nL 530.8275 64.358906 \n\" clip-path=\"url(#p0268d770c3)\" style=\"fill: none; stroke: #cbcbcb\"/>\n     </g>\n     <g id=\"line2d_21\"/>\n     <g id=\"text_14\">\n      <!-- HouseFloor -->\n      <g transform=\"translate(72.783438 69.677812)scale(0.14 -0.14)\">\n       <defs>\n        <path id=\"DejaVuSans-48\" d=\"M 628 4666 \nL 1259 4666 \nL 1259 2753 \nL 3553 2753 \nL 3553 4666 \nL 4184 4666 \nL 4184 0 \nL 3553 0 \nL 3553 2222 \nL 1259 2222 \nL 1259 0 \nL 628 0 \nL 628 4666 \nz\n\" transform=\"scale(0.015625)\"/>\n       </defs>\n       <use xlink:href=\"#DejaVuSans-48\"/>\n       <use xlink:href=\"#DejaVuSans-6f\" x=\"75.195312\"/>\n       <use xlink:href=\"#DejaVuSans-75\" x=\"136.376953\"/>\n       <use xlink:href=\"#DejaVuSans-73\" x=\"199.755859\"/>\n       <use xlink:href=\"#DejaVuSans-65\" x=\"251.855469\"/>\n       <use xlink:href=\"#DejaVuSans-46\" x=\"313.378906\"/>\n       <use xlink:href=\"#DejaVuSans-6c\" x=\"370.898438\"/>\n       <use xlink:href=\"#DejaVuSans-6f\" x=\"398.681641\"/>\n       <use xlink:href=\"#DejaVuSans-6f\" x=\"459.863281\"/>\n       <use xlink:href=\"#DejaVuSans-72\" x=\"521.044922\"/>\n      </g>\n     </g>\n    </g>\n    <g id=\"ytick_8\">\n     <g id=\"line2d_22\">\n      <path d=\"M 154.9875 72.998906 \nL 530.8275 72.998906 \n\" clip-path=\"url(#p0268d770c3)\" style=\"fill: none; stroke: #cbcbcb\"/>\n     </g>\n     <g id=\"line2d_23\"/>\n     <g id=\"text_15\">\n      <!-- HouseYear -->\n      <g transform=\"translate(77.967813 78.317813)scale(0.14 -0.14)\">\n       <defs>\n        <path id=\"DejaVuSans-59\" d=\"M -13 4666 \nL 666 4666 \nL 1959 2747 \nL 3244 4666 \nL 3922 4666 \nL 2272 2222 \nL 2272 0 \nL 1638 0 \nL 1638 2222 \nL -13 4666 \nz\n\" transform=\"scale(0.015625)\"/>\n       </defs>\n       <use xlink:href=\"#DejaVuSans-48\"/>\n       <use xlink:href=\"#DejaVuSans-6f\" x=\"75.195312\"/>\n       <use xlink:href=\"#DejaVuSans-75\" x=\"136.376953\"/>\n       <use xlink:href=\"#DejaVuSans-73\" x=\"199.755859\"/>\n       <use xlink:href=\"#DejaVuSans-65\" x=\"251.855469\"/>\n       <use xlink:href=\"#DejaVuSans-59\" x=\"313.378906\"/>\n       <use xlink:href=\"#DejaVuSans-65\" x=\"361.212891\"/>\n       <use xlink:href=\"#DejaVuSans-61\" x=\"422.736328\"/>\n       <use xlink:href=\"#DejaVuSans-72\" x=\"484.015625\"/>\n      </g>\n     </g>\n    </g>\n    <g id=\"ytick_9\">\n     <g id=\"line2d_24\">\n      <path d=\"M 154.9875 81.638906 \nL 530.8275 81.638906 \n\" clip-path=\"url(#p0268d770c3)\" style=\"fill: none; stroke: #cbcbcb\"/>\n     </g>\n     <g id=\"line2d_25\"/>\n     <g id=\"text_16\">\n      <!-- Ecology_1 -->\n      <g transform=\"translate(80.84 86.957812)scale(0.14 -0.14)\">\n       <defs>\n        <path id=\"DejaVuSans-45\" d=\"M 628 4666 \nL 3578 4666 \nL 3578 4134 \nL 1259 4134 \nL 1259 2753 \nL 3481 2753 \nL 3481 2222 \nL 1259 2222 \nL 1259 531 \nL 3634 531 \nL 3634 0 \nL 628 0 \nL 628 4666 \nz\n\" transform=\"scale(0.015625)\"/>\n        <path id=\"DejaVuSans-67\" d=\"M 2906 1791 \nQ 2906 2416 2648 2759 \nQ 2391 3103 1925 3103 \nQ 1463 3103 1205 2759 \nQ 947 2416 947 1791 \nQ 947 1169 1205 825 \nQ 1463 481 1925 481 \nQ 2391 481 2648 825 \nQ 2906 1169 2906 1791 \nz\nM 3481 434 \nQ 3481 -459 3084 -895 \nQ 2688 -1331 1869 -1331 \nQ 1566 -1331 1297 -1286 \nQ 1028 -1241 775 -1147 \nL 775 -588 \nQ 1028 -725 1275 -790 \nQ 1522 -856 1778 -856 \nQ 2344 -856 2625 -561 \nQ 2906 -266 2906 331 \nL 2906 616 \nQ 2728 306 2450 153 \nQ 2172 0 1784 0 \nQ 1141 0 747 490 \nQ 353 981 353 1791 \nQ 353 2603 747 3093 \nQ 1141 3584 1784 3584 \nQ 2172 3584 2450 3431 \nQ 2728 3278 2906 2969 \nL 2906 3500 \nL 3481 3500 \nL 3481 434 \nz\n\" transform=\"scale(0.015625)\"/>\n        <path id=\"DejaVuSans-79\" d=\"M 2059 -325 \nQ 1816 -950 1584 -1140 \nQ 1353 -1331 966 -1331 \nL 506 -1331 \nL 506 -850 \nL 844 -850 \nQ 1081 -850 1212 -737 \nQ 1344 -625 1503 -206 \nL 1606 56 \nL 191 3500 \nL 800 3500 \nL 1894 763 \nL 2988 3500 \nL 3597 3500 \nL 2059 -325 \nz\n\" transform=\"scale(0.015625)\"/>\n        <path id=\"DejaVuSans-5f\" d=\"M 3263 -1063 \nL 3263 -1509 \nL -63 -1509 \nL -63 -1063 \nL 3263 -1063 \nz\n\" transform=\"scale(0.015625)\"/>\n       </defs>\n       <use xlink:href=\"#DejaVuSans-45\"/>\n       <use xlink:href=\"#DejaVuSans-63\" x=\"63.183594\"/>\n       <use xlink:href=\"#DejaVuSans-6f\" x=\"118.164062\"/>\n       <use xlink:href=\"#DejaVuSans-6c\" x=\"179.345703\"/>\n       <use xlink:href=\"#DejaVuSans-6f\" x=\"207.128906\"/>\n       <use xlink:href=\"#DejaVuSans-67\" x=\"268.310547\"/>\n       <use xlink:href=\"#DejaVuSans-79\" x=\"331.787109\"/>\n       <use xlink:href=\"#DejaVuSans-5f\" x=\"390.966797\"/>\n       <use xlink:href=\"#DejaVuSans-31\" x=\"440.966797\"/>\n      </g>\n     </g>\n    </g>\n    <g id=\"ytick_10\">\n     <g id=\"line2d_26\">\n      <path d=\"M 154.9875 90.278906 \nL 530.8275 90.278906 \n\" clip-path=\"url(#p0268d770c3)\" style=\"fill: none; stroke: #cbcbcb\"/>\n     </g>\n     <g id=\"line2d_27\"/>\n     <g id=\"text_17\">\n      <!-- Ecology_2 -->\n      <g transform=\"translate(80.84 95.597812)scale(0.14 -0.14)\">\n       <use xlink:href=\"#DejaVuSans-45\"/>\n       <use xlink:href=\"#DejaVuSans-63\" x=\"63.183594\"/>\n       <use xlink:href=\"#DejaVuSans-6f\" x=\"118.164062\"/>\n       <use xlink:href=\"#DejaVuSans-6c\" x=\"179.345703\"/>\n       <use xlink:href=\"#DejaVuSans-6f\" x=\"207.128906\"/>\n       <use xlink:href=\"#DejaVuSans-67\" x=\"268.310547\"/>\n       <use xlink:href=\"#DejaVuSans-79\" x=\"331.787109\"/>\n       <use xlink:href=\"#DejaVuSans-5f\" x=\"390.966797\"/>\n       <use xlink:href=\"#DejaVuSans-32\" x=\"440.966797\"/>\n      </g>\n     </g>\n    </g>\n    <g id=\"ytick_11\">\n     <g id=\"line2d_28\">\n      <path d=\"M 154.9875 98.918906 \nL 530.8275 98.918906 \n\" clip-path=\"url(#p0268d770c3)\" style=\"fill: none; stroke: #cbcbcb\"/>\n     </g>\n     <g id=\"line2d_29\"/>\n     <g id=\"text_18\">\n      <!-- Ecology_3 -->\n      <g transform=\"translate(80.84 104.237812)scale(0.14 -0.14)\">\n       <use xlink:href=\"#DejaVuSans-45\"/>\n       <use xlink:href=\"#DejaVuSans-63\" x=\"63.183594\"/>\n       <use xlink:href=\"#DejaVuSans-6f\" x=\"118.164062\"/>\n       <use xlink:href=\"#DejaVuSans-6c\" x=\"179.345703\"/>\n       <use xlink:href=\"#DejaVuSans-6f\" x=\"207.128906\"/>\n       <use xlink:href=\"#DejaVuSans-67\" x=\"268.310547\"/>\n       <use xlink:href=\"#DejaVuSans-79\" x=\"331.787109\"/>\n       <use xlink:href=\"#DejaVuSans-5f\" x=\"390.966797\"/>\n       <use xlink:href=\"#DejaVuSans-33\" x=\"440.966797\"/>\n      </g>\n     </g>\n    </g>\n    <g id=\"ytick_12\">\n     <g id=\"line2d_30\">\n      <path d=\"M 154.9875 107.558906 \nL 530.8275 107.558906 \n\" clip-path=\"url(#p0268d770c3)\" style=\"fill: none; stroke: #cbcbcb\"/>\n     </g>\n     <g id=\"line2d_31\"/>\n     <g id=\"text_19\">\n      <!-- Social_1 -->\n      <g transform=\"translate(94.07 112.877813)scale(0.14 -0.14)\">\n       <use xlink:href=\"#DejaVuSans-53\"/>\n       <use xlink:href=\"#DejaVuSans-6f\" x=\"63.476562\"/>\n       <use xlink:href=\"#DejaVuSans-63\" x=\"124.658203\"/>\n       <use xlink:href=\"#DejaVuSans-69\" x=\"179.638672\"/>\n       <use xlink:href=\"#DejaVuSans-61\" x=\"207.421875\"/>\n       <use xlink:href=\"#DejaVuSans-6c\" x=\"268.701172\"/>\n       <use xlink:href=\"#DejaVuSans-5f\" x=\"296.484375\"/>\n       <use xlink:href=\"#DejaVuSans-31\" x=\"346.484375\"/>\n      </g>\n     </g>\n    </g>\n    <g id=\"ytick_13\">\n     <g id=\"line2d_32\">\n      <path d=\"M 154.9875 116.198906 \nL 530.8275 116.198906 \n\" clip-path=\"url(#p0268d770c3)\" style=\"fill: none; stroke: #cbcbcb\"/>\n     </g>\n     <g id=\"line2d_33\"/>\n     <g id=\"text_20\">\n      <!-- Social_2 -->\n      <g transform=\"translate(94.07 121.517812)scale(0.14 -0.14)\">\n       <use xlink:href=\"#DejaVuSans-53\"/>\n       <use xlink:href=\"#DejaVuSans-6f\" x=\"63.476562\"/>\n       <use xlink:href=\"#DejaVuSans-63\" x=\"124.658203\"/>\n       <use xlink:href=\"#DejaVuSans-69\" x=\"179.638672\"/>\n       <use xlink:href=\"#DejaVuSans-61\" x=\"207.421875\"/>\n       <use xlink:href=\"#DejaVuSans-6c\" x=\"268.701172\"/>\n       <use xlink:href=\"#DejaVuSans-5f\" x=\"296.484375\"/>\n       <use xlink:href=\"#DejaVuSans-32\" x=\"346.484375\"/>\n      </g>\n     </g>\n    </g>\n    <g id=\"ytick_14\">\n     <g id=\"line2d_34\">\n      <path d=\"M 154.9875 124.838906 \nL 530.8275 124.838906 \n\" clip-path=\"url(#p0268d770c3)\" style=\"fill: none; stroke: #cbcbcb\"/>\n     </g>\n     <g id=\"line2d_35\"/>\n     <g id=\"text_21\">\n      <!-- Social_3 -->\n      <g transform=\"translate(94.07 130.157812)scale(0.14 -0.14)\">\n       <use xlink:href=\"#DejaVuSans-53\"/>\n       <use xlink:href=\"#DejaVuSans-6f\" x=\"63.476562\"/>\n       <use xlink:href=\"#DejaVuSans-63\" x=\"124.658203\"/>\n       <use xlink:href=\"#DejaVuSans-69\" x=\"179.638672\"/>\n       <use xlink:href=\"#DejaVuSans-61\" x=\"207.421875\"/>\n       <use xlink:href=\"#DejaVuSans-6c\" x=\"268.701172\"/>\n       <use xlink:href=\"#DejaVuSans-5f\" x=\"296.484375\"/>\n       <use xlink:href=\"#DejaVuSans-33\" x=\"346.484375\"/>\n      </g>\n     </g>\n    </g>\n    <g id=\"ytick_15\">\n     <g id=\"line2d_36\">\n      <path d=\"M 154.9875 133.478906 \nL 530.8275 133.478906 \n\" clip-path=\"url(#p0268d770c3)\" style=\"fill: none; stroke: #cbcbcb\"/>\n     </g>\n     <g id=\"line2d_37\"/>\n     <g id=\"text_22\">\n      <!-- Healthcare_1 -->\n      <g transform=\"translate(59.275625 138.797812)scale(0.14 -0.14)\">\n       <use xlink:href=\"#DejaVuSans-48\"/>\n       <use xlink:href=\"#DejaVuSans-65\" x=\"75.195312\"/>\n       <use xlink:href=\"#DejaVuSans-61\" x=\"136.71875\"/>\n       <use xlink:href=\"#DejaVuSans-6c\" x=\"197.998047\"/>\n       <use xlink:href=\"#DejaVuSans-74\" x=\"225.78125\"/>\n       <use xlink:href=\"#DejaVuSans-68\" x=\"264.990234\"/>\n       <use xlink:href=\"#DejaVuSans-63\" x=\"328.369141\"/>\n       <use xlink:href=\"#DejaVuSans-61\" x=\"383.349609\"/>\n       <use xlink:href=\"#DejaVuSans-72\" x=\"444.628906\"/>\n       <use xlink:href=\"#DejaVuSans-65\" x=\"483.492188\"/>\n       <use xlink:href=\"#DejaVuSans-5f\" x=\"545.015625\"/>\n       <use xlink:href=\"#DejaVuSans-31\" x=\"595.015625\"/>\n      </g>\n     </g>\n    </g>\n    <g id=\"ytick_16\">\n     <g id=\"line2d_38\">\n      <path d=\"M 154.9875 142.118906 \nL 530.8275 142.118906 \n\" clip-path=\"url(#p0268d770c3)\" style=\"fill: none; stroke: #cbcbcb\"/>\n     </g>\n     <g id=\"line2d_39\"/>\n     <g id=\"text_23\">\n      <!-- Helthcare_2 -->\n      <g transform=\"translate(67.855 147.437813)scale(0.14 -0.14)\">\n       <use xlink:href=\"#DejaVuSans-48\"/>\n       <use xlink:href=\"#DejaVuSans-65\" x=\"75.195312\"/>\n       <use xlink:href=\"#DejaVuSans-6c\" x=\"136.71875\"/>\n       <use xlink:href=\"#DejaVuSans-74\" x=\"164.501953\"/>\n       <use xlink:href=\"#DejaVuSans-68\" x=\"203.710938\"/>\n       <use xlink:href=\"#DejaVuSans-63\" x=\"267.089844\"/>\n       <use xlink:href=\"#DejaVuSans-61\" x=\"322.070312\"/>\n       <use xlink:href=\"#DejaVuSans-72\" x=\"383.349609\"/>\n       <use xlink:href=\"#DejaVuSans-65\" x=\"422.212891\"/>\n       <use xlink:href=\"#DejaVuSans-5f\" x=\"483.736328\"/>\n       <use xlink:href=\"#DejaVuSans-32\" x=\"533.736328\"/>\n      </g>\n     </g>\n    </g>\n    <g id=\"ytick_17\">\n     <g id=\"line2d_40\">\n      <path d=\"M 154.9875 150.758906 \nL 530.8275 150.758906 \n\" clip-path=\"url(#p0268d770c3)\" style=\"fill: none; stroke: #cbcbcb\"/>\n     </g>\n     <g id=\"line2d_41\"/>\n     <g id=\"text_24\">\n      <!-- Shops_1 -->\n      <g transform=\"translate(93.0725 156.077812)scale(0.14 -0.14)\">\n       <defs>\n        <path id=\"DejaVuSans-70\" d=\"M 1159 525 \nL 1159 -1331 \nL 581 -1331 \nL 581 3500 \nL 1159 3500 \nL 1159 2969 \nQ 1341 3281 1617 3432 \nQ 1894 3584 2278 3584 \nQ 2916 3584 3314 3078 \nQ 3713 2572 3713 1747 \nQ 3713 922 3314 415 \nQ 2916 -91 2278 -91 \nQ 1894 -91 1617 61 \nQ 1341 213 1159 525 \nz\nM 3116 1747 \nQ 3116 2381 2855 2742 \nQ 2594 3103 2138 3103 \nQ 1681 3103 1420 2742 \nQ 1159 2381 1159 1747 \nQ 1159 1113 1420 752 \nQ 1681 391 2138 391 \nQ 2594 391 2855 752 \nQ 3116 1113 3116 1747 \nz\n\" transform=\"scale(0.015625)\"/>\n       </defs>\n       <use xlink:href=\"#DejaVuSans-53\"/>\n       <use xlink:href=\"#DejaVuSans-68\" x=\"63.476562\"/>\n       <use xlink:href=\"#DejaVuSans-6f\" x=\"126.855469\"/>\n       <use xlink:href=\"#DejaVuSans-70\" x=\"188.037109\"/>\n       <use xlink:href=\"#DejaVuSans-73\" x=\"251.513672\"/>\n       <use xlink:href=\"#DejaVuSans-5f\" x=\"303.613281\"/>\n       <use xlink:href=\"#DejaVuSans-31\" x=\"353.613281\"/>\n      </g>\n     </g>\n    </g>\n    <g id=\"ytick_18\">\n     <g id=\"line2d_42\">\n      <path d=\"M 154.9875 159.398906 \nL 530.8275 159.398906 \n\" clip-path=\"url(#p0268d770c3)\" style=\"fill: none; stroke: #cbcbcb\"/>\n     </g>\n     <g id=\"line2d_43\"/>\n     <g id=\"text_25\">\n      <!-- Shops_2 -->\n      <g transform=\"translate(93.0725 164.717812)scale(0.14 -0.14)\">\n       <use xlink:href=\"#DejaVuSans-53\"/>\n       <use xlink:href=\"#DejaVuSans-68\" x=\"63.476562\"/>\n       <use xlink:href=\"#DejaVuSans-6f\" x=\"126.855469\"/>\n       <use xlink:href=\"#DejaVuSans-70\" x=\"188.037109\"/>\n       <use xlink:href=\"#DejaVuSans-73\" x=\"251.513672\"/>\n       <use xlink:href=\"#DejaVuSans-5f\" x=\"303.613281\"/>\n       <use xlink:href=\"#DejaVuSans-32\" x=\"353.613281\"/>\n      </g>\n     </g>\n    </g>\n    <g id=\"ytick_19\">\n     <g id=\"line2d_44\">\n      <path d=\"M 154.9875 168.038906 \nL 530.8275 168.038906 \n\" clip-path=\"url(#p0268d770c3)\" style=\"fill: none; stroke: #cbcbcb\"/>\n     </g>\n     <g id=\"line2d_45\"/>\n     <g id=\"text_26\">\n      <!-- Rooms_outlier -->\n      <g transform=\"translate(52.251563 173.357812)scale(0.14 -0.14)\">\n       <use xlink:href=\"#DejaVuSans-52\"/>\n       <use xlink:href=\"#DejaVuSans-6f\" x=\"64.982422\"/>\n       <use xlink:href=\"#DejaVuSans-6f\" x=\"126.164062\"/>\n       <use xlink:href=\"#DejaVuSans-6d\" x=\"187.345703\"/>\n       <use xlink:href=\"#DejaVuSans-73\" x=\"284.757812\"/>\n       <use xlink:href=\"#DejaVuSans-5f\" x=\"336.857422\"/>\n       <use xlink:href=\"#DejaVuSans-6f\" x=\"386.857422\"/>\n       <use xlink:href=\"#DejaVuSans-75\" x=\"448.039062\"/>\n       <use xlink:href=\"#DejaVuSans-74\" x=\"511.417969\"/>\n       <use xlink:href=\"#DejaVuSans-6c\" x=\"550.626953\"/>\n       <use xlink:href=\"#DejaVuSans-69\" x=\"578.410156\"/>\n       <use xlink:href=\"#DejaVuSans-65\" x=\"606.193359\"/>\n       <use xlink:href=\"#DejaVuSans-72\" x=\"667.716797\"/>\n      </g>\n     </g>\n    </g>\n    <g id=\"ytick_20\">\n     <g id=\"line2d_46\">\n      <path d=\"M 154.9875 176.678906 \nL 530.8275 176.678906 \n\" clip-path=\"url(#p0268d770c3)\" style=\"fill: none; stroke: #cbcbcb\"/>\n     </g>\n     <g id=\"line2d_47\"/>\n     <g id=\"text_27\">\n      <!-- HouseFloor_outlier -->\n      <g transform=\"translate(20.707812 181.997813)scale(0.14 -0.14)\">\n       <use xlink:href=\"#DejaVuSans-48\"/>\n       <use xlink:href=\"#DejaVuSans-6f\" x=\"75.195312\"/>\n       <use xlink:href=\"#DejaVuSans-75\" x=\"136.376953\"/>\n       <use xlink:href=\"#DejaVuSans-73\" x=\"199.755859\"/>\n       <use xlink:href=\"#DejaVuSans-65\" x=\"251.855469\"/>\n       <use xlink:href=\"#DejaVuSans-46\" x=\"313.378906\"/>\n       <use xlink:href=\"#DejaVuSans-6c\" x=\"370.898438\"/>\n       <use xlink:href=\"#DejaVuSans-6f\" x=\"398.681641\"/>\n       <use xlink:href=\"#DejaVuSans-6f\" x=\"459.863281\"/>\n       <use xlink:href=\"#DejaVuSans-72\" x=\"521.044922\"/>\n       <use xlink:href=\"#DejaVuSans-5f\" x=\"562.158203\"/>\n       <use xlink:href=\"#DejaVuSans-6f\" x=\"612.158203\"/>\n       <use xlink:href=\"#DejaVuSans-75\" x=\"673.339844\"/>\n       <use xlink:href=\"#DejaVuSans-74\" x=\"736.71875\"/>\n       <use xlink:href=\"#DejaVuSans-6c\" x=\"775.927734\"/>\n       <use xlink:href=\"#DejaVuSans-69\" x=\"803.710938\"/>\n       <use xlink:href=\"#DejaVuSans-65\" x=\"831.494141\"/>\n       <use xlink:href=\"#DejaVuSans-72\" x=\"893.017578\"/>\n      </g>\n     </g>\n    </g>\n    <g id=\"ytick_21\">\n     <g id=\"line2d_48\">\n      <path d=\"M 154.9875 185.318906 \nL 530.8275 185.318906 \n\" clip-path=\"url(#p0268d770c3)\" style=\"fill: none; stroke: #cbcbcb\"/>\n     </g>\n     <g id=\"line2d_49\"/>\n     <g id=\"text_28\">\n      <!-- DistrictSize -->\n      <g transform=\"translate(72.46625 190.637812)scale(0.14 -0.14)\">\n       <defs>\n        <path id=\"DejaVuSans-7a\" d=\"M 353 3500 \nL 3084 3500 \nL 3084 2975 \nL 922 459 \nL 3084 459 \nL 3084 0 \nL 275 0 \nL 275 525 \nL 2438 3041 \nL 353 3041 \nL 353 3500 \nz\n\" transform=\"scale(0.015625)\"/>\n       </defs>\n       <use xlink:href=\"#DejaVuSans-44\"/>\n       <use xlink:href=\"#DejaVuSans-69\" x=\"77.001953\"/>\n       <use xlink:href=\"#DejaVuSans-73\" x=\"104.785156\"/>\n       <use xlink:href=\"#DejaVuSans-74\" x=\"156.884766\"/>\n       <use xlink:href=\"#DejaVuSans-72\" x=\"196.09375\"/>\n       <use xlink:href=\"#DejaVuSans-69\" x=\"237.207031\"/>\n       <use xlink:href=\"#DejaVuSans-63\" x=\"264.990234\"/>\n       <use xlink:href=\"#DejaVuSans-74\" x=\"319.970703\"/>\n       <use xlink:href=\"#DejaVuSans-53\" x=\"359.179688\"/>\n       <use xlink:href=\"#DejaVuSans-69\" x=\"422.65625\"/>\n       <use xlink:href=\"#DejaVuSans-7a\" x=\"450.439453\"/>\n       <use xlink:href=\"#DejaVuSans-65\" x=\"502.929688\"/>\n      </g>\n     </g>\n    </g>\n    <g id=\"ytick_22\">\n     <g id=\"line2d_50\">\n      <path d=\"M 154.9875 193.958906 \nL 530.8275 193.958906 \n\" clip-path=\"url(#p0268d770c3)\" style=\"fill: none; stroke: #cbcbcb\"/>\n     </g>\n     <g id=\"line2d_51\"/>\n     <g id=\"text_29\">\n      <!-- District_big -->\n      <g transform=\"translate(72.540625 199.277812)scale(0.14 -0.14)\">\n       <defs>\n        <path id=\"DejaVuSans-62\" d=\"M 3116 1747 \nQ 3116 2381 2855 2742 \nQ 2594 3103 2138 3103 \nQ 1681 3103 1420 2742 \nQ 1159 2381 1159 1747 \nQ 1159 1113 1420 752 \nQ 1681 391 2138 391 \nQ 2594 391 2855 752 \nQ 3116 1113 3116 1747 \nz\nM 1159 2969 \nQ 1341 3281 1617 3432 \nQ 1894 3584 2278 3584 \nQ 2916 3584 3314 3078 \nQ 3713 2572 3713 1747 \nQ 3713 922 3314 415 \nQ 2916 -91 2278 -91 \nQ 1894 -91 1617 61 \nQ 1341 213 1159 525 \nL 1159 0 \nL 581 0 \nL 581 4863 \nL 1159 4863 \nL 1159 2969 \nz\n\" transform=\"scale(0.015625)\"/>\n       </defs>\n       <use xlink:href=\"#DejaVuSans-44\"/>\n       <use xlink:href=\"#DejaVuSans-69\" x=\"77.001953\"/>\n       <use xlink:href=\"#DejaVuSans-73\" x=\"104.785156\"/>\n       <use xlink:href=\"#DejaVuSans-74\" x=\"156.884766\"/>\n       <use xlink:href=\"#DejaVuSans-72\" x=\"196.09375\"/>\n       <use xlink:href=\"#DejaVuSans-69\" x=\"237.207031\"/>\n       <use xlink:href=\"#DejaVuSans-63\" x=\"264.990234\"/>\n       <use xlink:href=\"#DejaVuSans-74\" x=\"319.970703\"/>\n       <use xlink:href=\"#DejaVuSans-5f\" x=\"359.179688\"/>\n       <use xlink:href=\"#DejaVuSans-62\" x=\"409.179688\"/>\n       <use xlink:href=\"#DejaVuSans-69\" x=\"472.65625\"/>\n       <use xlink:href=\"#DejaVuSans-67\" x=\"500.439453\"/>\n      </g>\n     </g>\n    </g>\n    <g id=\"ytick_23\">\n     <g id=\"line2d_52\">\n      <path d=\"M 154.9875 202.598906 \nL 530.8275 202.598906 \n\" clip-path=\"url(#p0268d770c3)\" style=\"fill: none; stroke: #cbcbcb\"/>\n     </g>\n     <g id=\"line2d_53\"/>\n     <g id=\"text_30\">\n      <!-- Floor_category -->\n      <g transform=\"translate(47.7825 207.917812)scale(0.14 -0.14)\">\n       <use xlink:href=\"#DejaVuSans-46\"/>\n       <use xlink:href=\"#DejaVuSans-6c\" x=\"57.519531\"/>\n       <use xlink:href=\"#DejaVuSans-6f\" x=\"85.302734\"/>\n       <use xlink:href=\"#DejaVuSans-6f\" x=\"146.484375\"/>\n       <use xlink:href=\"#DejaVuSans-72\" x=\"207.666016\"/>\n       <use xlink:href=\"#DejaVuSans-5f\" x=\"248.779297\"/>\n       <use xlink:href=\"#DejaVuSans-63\" x=\"298.779297\"/>\n       <use xlink:href=\"#DejaVuSans-61\" x=\"353.759766\"/>\n       <use xlink:href=\"#DejaVuSans-74\" x=\"415.039062\"/>\n       <use xlink:href=\"#DejaVuSans-65\" x=\"454.248047\"/>\n       <use xlink:href=\"#DejaVuSans-67\" x=\"515.771484\"/>\n       <use xlink:href=\"#DejaVuSans-6f\" x=\"579.248047\"/>\n       <use xlink:href=\"#DejaVuSans-72\" x=\"640.429688\"/>\n       <use xlink:href=\"#DejaVuSans-79\" x=\"681.542969\"/>\n      </g>\n     </g>\n    </g>\n    <g id=\"ytick_24\">\n     <g id=\"line2d_54\">\n      <path d=\"M 154.9875 211.238906 \nL 530.8275 211.238906 \n\" clip-path=\"url(#p0268d770c3)\" style=\"fill: none; stroke: #cbcbcb\"/>\n     </g>\n     <g id=\"line2d_55\"/>\n     <g id=\"text_31\">\n      <!-- Year_category -->\n      <g transform=\"translate(52.966875 216.363125)scale(0.14 -0.14)\">\n       <use xlink:href=\"#DejaVuSans-59\"/>\n       <use xlink:href=\"#DejaVuSans-65\" x=\"47.833984\"/>\n       <use xlink:href=\"#DejaVuSans-61\" x=\"109.357422\"/>\n       <use xlink:href=\"#DejaVuSans-72\" x=\"170.636719\"/>\n       <use xlink:href=\"#DejaVuSans-5f\" x=\"211.75\"/>\n       <use xlink:href=\"#DejaVuSans-63\" x=\"261.75\"/>\n       <use xlink:href=\"#DejaVuSans-61\" x=\"316.730469\"/>\n       <use xlink:href=\"#DejaVuSans-74\" x=\"378.009766\"/>\n       <use xlink:href=\"#DejaVuSans-65\" x=\"417.21875\"/>\n       <use xlink:href=\"#DejaVuSans-67\" x=\"478.742188\"/>\n       <use xlink:href=\"#DejaVuSans-6f\" x=\"542.21875\"/>\n       <use xlink:href=\"#DejaVuSans-72\" x=\"603.400391\"/>\n       <use xlink:href=\"#DejaVuSans-79\" x=\"644.513672\"/>\n      </g>\n     </g>\n    </g>\n    <g id=\"ytick_25\">\n     <g id=\"line2d_56\">\n      <path d=\"M 154.9875 219.878906 \nL 530.8275 219.878906 \n\" clip-path=\"url(#p0268d770c3)\" style=\"fill: none; stroke: #cbcbcb\"/>\n     </g>\n     <g id=\"line2d_57\"/>\n     <g id=\"text_32\">\n      <!-- PriceMedian_district -->\n      <g transform=\"translate(11.021562 225.197812)scale(0.14 -0.14)\">\n       <defs>\n        <path id=\"DejaVuSans-50\" d=\"M 1259 4147 \nL 1259 2394 \nL 2053 2394 \nQ 2494 2394 2734 2622 \nQ 2975 2850 2975 3272 \nQ 2975 3691 2734 3919 \nQ 2494 4147 2053 4147 \nL 1259 4147 \nz\nM 628 4666 \nL 2053 4666 \nQ 2838 4666 3239 4311 \nQ 3641 3956 3641 3272 \nQ 3641 2581 3239 2228 \nQ 2838 1875 2053 1875 \nL 1259 1875 \nL 1259 0 \nL 628 0 \nL 628 4666 \nz\n\" transform=\"scale(0.015625)\"/>\n        <path id=\"DejaVuSans-4d\" d=\"M 628 4666 \nL 1569 4666 \nL 2759 1491 \nL 3956 4666 \nL 4897 4666 \nL 4897 0 \nL 4281 0 \nL 4281 4097 \nL 3078 897 \nL 2444 897 \nL 1241 4097 \nL 1241 0 \nL 628 0 \nL 628 4666 \nz\n\" transform=\"scale(0.015625)\"/>\n       </defs>\n       <use xlink:href=\"#DejaVuSans-50\"/>\n       <use xlink:href=\"#DejaVuSans-72\" x=\"58.552734\"/>\n       <use xlink:href=\"#DejaVuSans-69\" x=\"99.666016\"/>\n       <use xlink:href=\"#DejaVuSans-63\" x=\"127.449219\"/>\n       <use xlink:href=\"#DejaVuSans-65\" x=\"182.429688\"/>\n       <use xlink:href=\"#DejaVuSans-4d\" x=\"243.953125\"/>\n       <use xlink:href=\"#DejaVuSans-65\" x=\"330.232422\"/>\n       <use xlink:href=\"#DejaVuSans-64\" x=\"391.755859\"/>\n       <use xlink:href=\"#DejaVuSans-69\" x=\"455.232422\"/>\n       <use xlink:href=\"#DejaVuSans-61\" x=\"483.015625\"/>\n       <use xlink:href=\"#DejaVuSans-6e\" x=\"544.294922\"/>\n       <use xlink:href=\"#DejaVuSans-5f\" x=\"607.673828\"/>\n       <use xlink:href=\"#DejaVuSans-64\" x=\"657.673828\"/>\n       <use xlink:href=\"#DejaVuSans-69\" x=\"721.150391\"/>\n       <use xlink:href=\"#DejaVuSans-73\" x=\"748.933594\"/>\n       <use xlink:href=\"#DejaVuSans-74\" x=\"801.033203\"/>\n       <use xlink:href=\"#DejaVuSans-72\" x=\"840.242188\"/>\n       <use xlink:href=\"#DejaVuSans-69\" x=\"881.355469\"/>\n       <use xlink:href=\"#DejaVuSans-63\" x=\"909.138672\"/>\n       <use xlink:href=\"#DejaVuSans-74\" x=\"964.119141\"/>\n      </g>\n     </g>\n    </g>\n    <g id=\"ytick_26\">\n     <g id=\"line2d_58\">\n      <path d=\"M 154.9875 228.518906 \nL 530.8275 228.518906 \n\" clip-path=\"url(#p0268d770c3)\" style=\"fill: none; stroke: #cbcbcb\"/>\n     </g>\n     <g id=\"line2d_59\"/>\n     <g id=\"text_33\">\n      <!-- PriceMedian_year -->\n      <g transform=\"translate(28.175938 233.837812)scale(0.14 -0.14)\">\n       <use xlink:href=\"#DejaVuSans-50\"/>\n       <use xlink:href=\"#DejaVuSans-72\" x=\"58.552734\"/>\n       <use xlink:href=\"#DejaVuSans-69\" x=\"99.666016\"/>\n       <use xlink:href=\"#DejaVuSans-63\" x=\"127.449219\"/>\n       <use xlink:href=\"#DejaVuSans-65\" x=\"182.429688\"/>\n       <use xlink:href=\"#DejaVuSans-4d\" x=\"243.953125\"/>\n       <use xlink:href=\"#DejaVuSans-65\" x=\"330.232422\"/>\n       <use xlink:href=\"#DejaVuSans-64\" x=\"391.755859\"/>\n       <use xlink:href=\"#DejaVuSans-69\" x=\"455.232422\"/>\n       <use xlink:href=\"#DejaVuSans-61\" x=\"483.015625\"/>\n       <use xlink:href=\"#DejaVuSans-6e\" x=\"544.294922\"/>\n       <use xlink:href=\"#DejaVuSans-5f\" x=\"607.673828\"/>\n       <use xlink:href=\"#DejaVuSans-79\" x=\"657.673828\"/>\n       <use xlink:href=\"#DejaVuSans-65\" x=\"716.853516\"/>\n       <use xlink:href=\"#DejaVuSans-61\" x=\"778.376953\"/>\n       <use xlink:href=\"#DejaVuSans-72\" x=\"839.65625\"/>\n      </g>\n     </g>\n    </g>\n    <g id=\"ytick_27\">\n     <g id=\"line2d_60\">\n      <path d=\"M 154.9875 237.158906 \nL 530.8275 237.158906 \n\" clip-path=\"url(#p0268d770c3)\" style=\"fill: none; stroke: #cbcbcb\"/>\n     </g>\n     <g id=\"line2d_61\"/>\n     <g id=\"text_34\">\n      <!-- Healthcare_1_outlier -->\n      <g transform=\"translate(7.2 242.477812)scale(0.14 -0.14)\">\n       <use xlink:href=\"#DejaVuSans-48\"/>\n       <use xlink:href=\"#DejaVuSans-65\" x=\"75.195312\"/>\n       <use xlink:href=\"#DejaVuSans-61\" x=\"136.71875\"/>\n       <use xlink:href=\"#DejaVuSans-6c\" x=\"197.998047\"/>\n       <use xlink:href=\"#DejaVuSans-74\" x=\"225.78125\"/>\n       <use xlink:href=\"#DejaVuSans-68\" x=\"264.990234\"/>\n       <use xlink:href=\"#DejaVuSans-63\" x=\"328.369141\"/>\n       <use xlink:href=\"#DejaVuSans-61\" x=\"383.349609\"/>\n       <use xlink:href=\"#DejaVuSans-72\" x=\"444.628906\"/>\n       <use xlink:href=\"#DejaVuSans-65\" x=\"483.492188\"/>\n       <use xlink:href=\"#DejaVuSans-5f\" x=\"545.015625\"/>\n       <use xlink:href=\"#DejaVuSans-31\" x=\"595.015625\"/>\n       <use xlink:href=\"#DejaVuSans-5f\" x=\"658.638672\"/>\n       <use xlink:href=\"#DejaVuSans-6f\" x=\"708.638672\"/>\n       <use xlink:href=\"#DejaVuSans-75\" x=\"769.820312\"/>\n       <use xlink:href=\"#DejaVuSans-74\" x=\"833.199219\"/>\n       <use xlink:href=\"#DejaVuSans-6c\" x=\"872.408203\"/>\n       <use xlink:href=\"#DejaVuSans-69\" x=\"900.191406\"/>\n       <use xlink:href=\"#DejaVuSans-65\" x=\"927.974609\"/>\n       <use xlink:href=\"#DejaVuSans-72\" x=\"989.498047\"/>\n      </g>\n     </g>\n    </g>\n   </g>\n   <g id=\"patch_3\">\n    <path d=\"M 154.9875 9.062906 \nL 155.825168 9.062906 \nL 155.825168 15.974906 \nL 154.9875 15.974906 \nz\n\" clip-path=\"url(#p0268d770c3)\" style=\"fill: #ea96a3\"/>\n   </g>\n   <g id=\"patch_4\">\n    <path d=\"M 154.9875 17.702906 \nL 181.048796 17.702906 \nL 181.048796 24.614906 \nL 154.9875 24.614906 \nz\n\" clip-path=\"url(#p0268d770c3)\" style=\"fill: #e9978e\"/>\n   </g>\n   <g id=\"patch_5\">\n    <path d=\"M 154.9875 26.342906 \nL 272.024276 26.342906 \nL 272.024276 33.254906 \nL 154.9875 33.254906 \nz\n\" clip-path=\"url(#p0268d770c3)\" style=\"fill: #e39366\"/>\n   </g>\n   <g id=\"patch_6\">\n    <path d=\"M 154.9875 34.982906 \nL 163.406135 34.982906 \nL 163.406135 41.894906 \nL 154.9875 41.894906 \nz\n\" clip-path=\"url(#p0268d770c3)\" style=\"fill: #d1964d\"/>\n   </g>\n   <g id=\"patch_7\">\n    <path d=\"M 154.9875 43.622906 \nL 159.78628 43.622906 \nL 159.78628 50.534906 \nL 154.9875 50.534906 \nz\n\" clip-path=\"url(#p0268d770c3)\" style=\"fill: #c09a4a\"/>\n   </g>\n   <g id=\"patch_8\">\n    <path d=\"M 154.9875 52.262906 \nL 155.742162 52.262906 \nL 155.742162 59.174906 \nL 154.9875 59.174906 \nz\n\" clip-path=\"url(#p0268d770c3)\" style=\"fill: #b19d48\"/>\n   </g>\n   <g id=\"patch_9\">\n    <path d=\"M 154.9875 60.902906 \nL 159.120558 60.902906 \nL 159.120558 67.814906 \nL 154.9875 67.814906 \nz\n\" clip-path=\"url(#p0268d770c3)\" style=\"fill: #a29f46\"/>\n   </g>\n   <g id=\"patch_10\">\n    <path d=\"M 154.9875 69.542906 \nL 159.103095 69.542906 \nL 159.103095 76.454906 \nL 154.9875 76.454906 \nz\n\" clip-path=\"url(#p0268d770c3)\" style=\"fill: #94a346\"/>\n   </g>\n   <g id=\"patch_11\">\n    <path d=\"M 154.9875 78.182906 \nL 156.458685 78.182906 \nL 156.458685 85.094906 \nL 154.9875 85.094906 \nz\n\" clip-path=\"url(#p0268d770c3)\" style=\"fill: #82a846\"/>\n   </g>\n   <g id=\"patch_12\">\n    <path d=\"M 154.9875 86.822906 \nL 154.9875 86.822906 \nL 154.9875 93.734906 \nL 154.9875 93.734906 \nz\n\" clip-path=\"url(#p0268d770c3)\" style=\"fill: #60ae47\"/>\n   </g>\n   <g id=\"patch_13\">\n    <path d=\"M 154.9875 95.462906 \nL 154.9875 95.462906 \nL 154.9875 102.374906 \nL 154.9875 102.374906 \nz\n\" clip-path=\"url(#p0268d770c3)\" style=\"fill: #48af6e\"/>\n   </g>\n   <g id=\"patch_14\">\n    <path d=\"M 154.9875 104.102906 \nL 164.357956 104.102906 \nL 164.357956 111.014906 \nL 154.9875 111.014906 \nz\n\" clip-path=\"url(#p0268d770c3)\" style=\"fill: #49ae86\"/>\n   </g>\n   <g id=\"patch_15\">\n    <path d=\"M 154.9875 112.742906 \nL 161.057295 112.742906 \nL 161.057295 119.654906 \nL 154.9875 119.654906 \nz\n\" clip-path=\"url(#p0268d770c3)\" style=\"fill: #4aad95\"/>\n   </g>\n   <g id=\"patch_16\">\n    <path d=\"M 154.9875 121.382906 \nL 158.438287 121.382906 \nL 158.438287 128.294906 \nL 154.9875 128.294906 \nz\n\" clip-path=\"url(#p0268d770c3)\" style=\"fill: #4bac9f\"/>\n   </g>\n   <g id=\"patch_17\">\n    <path d=\"M 154.9875 130.022906 \nL 156.433979 130.022906 \nL 156.433979 136.934906 \nL 154.9875 136.934906 \nz\n\" clip-path=\"url(#p0268d770c3)\" style=\"fill: #4baba9\"/>\n   </g>\n   <g id=\"patch_18\">\n    <path d=\"M 154.9875 138.662906 \nL 155.66116 138.662906 \nL 155.66116 145.574906 \nL 154.9875 145.574906 \nz\n\" clip-path=\"url(#p0268d770c3)\" style=\"fill: #4dabb3\"/>\n   </g>\n   <g id=\"patch_19\">\n    <path d=\"M 154.9875 147.302906 \nL 155.442365 147.302906 \nL 155.442365 154.214906 \nL 154.9875 154.214906 \nz\n\" clip-path=\"url(#p0268d770c3)\" style=\"fill: #50acc0\"/>\n   </g>\n   <g id=\"patch_20\">\n    <path d=\"M 154.9875 155.942906 \nL 155.026185 155.942906 \nL 155.026185 162.854906 \nL 154.9875 162.854906 \nz\n\" clip-path=\"url(#p0268d770c3)\" style=\"fill: #53acd0\"/>\n   </g>\n   <g id=\"patch_21\">\n    <path d=\"M 154.9875 164.582906 \nL 154.99291 164.582906 \nL 154.99291 171.494906 \nL 154.9875 171.494906 \nz\n\" clip-path=\"url(#p0268d770c3)\" style=\"fill: #6daee2\"/>\n   </g>\n   <g id=\"patch_22\">\n    <path d=\"M 154.9875 173.222906 \nL 154.9875 173.222906 \nL 154.9875 180.134906 \nL 154.9875 180.134906 \nz\n\" clip-path=\"url(#p0268d770c3)\" style=\"fill: #97ade8\"/>\n   </g>\n   <g id=\"patch_23\">\n    <path d=\"M 154.9875 181.862906 \nL 183.165375 181.862906 \nL 183.165375 188.774906 \nL 154.9875 188.774906 \nz\n\" clip-path=\"url(#p0268d770c3)\" style=\"fill: #b1aaeb\"/>\n   </g>\n   <g id=\"patch_24\">\n    <path d=\"M 154.9875 190.502906 \nL 155.193559 190.502906 \nL 155.193559 197.414906 \nL 154.9875 197.414906 \nz\n\" clip-path=\"url(#p0268d770c3)\" style=\"fill: #c4a1ea\"/>\n   </g>\n   <g id=\"patch_25\">\n    <path d=\"M 154.9875 199.142906 \nL 155.202258 199.142906 \nL 155.202258 206.054906 \nL 154.9875 206.054906 \nz\n\" clip-path=\"url(#p0268d770c3)\" style=\"fill: #d596e8\"/>\n   </g>\n   <g id=\"patch_26\">\n    <path d=\"M 154.9875 207.782906 \nL 155.328066 207.782906 \nL 155.328066 214.694906 \nL 154.9875 214.694906 \nz\n\" clip-path=\"url(#p0268d770c3)\" style=\"fill: #e689e3\"/>\n   </g>\n   <g id=\"patch_27\">\n    <path d=\"M 154.9875 216.422906 \nL 512.930357 216.422906 \nL 512.930357 223.334906 \nL 154.9875 223.334906 \nz\n\" clip-path=\"url(#p0268d770c3)\" style=\"fill: #e88ed1\"/>\n   </g>\n   <g id=\"patch_28\">\n    <path d=\"M 154.9875 225.062906 \nL 155.219134 225.062906 \nL 155.219134 231.974906 \nL 154.9875 231.974906 \nz\n\" clip-path=\"url(#p0268d770c3)\" style=\"fill: #e891c2\"/>\n   </g>\n   <g id=\"patch_29\">\n    <path d=\"M 154.9875 233.702906 \nL 155.036384 233.702906 \nL 155.036384 240.614906 \nL 154.9875 240.614906 \nz\n\" clip-path=\"url(#p0268d770c3)\" style=\"fill: #e993b4\"/>\n   </g>\n   <g id=\"line2d_62\">\n    <path clip-path=\"url(#p0268d770c3)\" style=\"fill: none; stroke: #424242; stroke-width: 7.2\"/>\n   </g>\n   <g id=\"line2d_63\">\n    <path clip-path=\"url(#p0268d770c3)\" style=\"fill: none; stroke: #424242; stroke-width: 7.2\"/>\n   </g>\n   <g id=\"line2d_64\">\n    <path clip-path=\"url(#p0268d770c3)\" style=\"fill: none; stroke: #424242; stroke-width: 7.2\"/>\n   </g>\n   <g id=\"line2d_65\">\n    <path clip-path=\"url(#p0268d770c3)\" style=\"fill: none; stroke: #424242; stroke-width: 7.2\"/>\n   </g>\n   <g id=\"line2d_66\">\n    <path clip-path=\"url(#p0268d770c3)\" style=\"fill: none; stroke: #424242; stroke-width: 7.2\"/>\n   </g>\n   <g id=\"line2d_67\">\n    <path clip-path=\"url(#p0268d770c3)\" style=\"fill: none; stroke: #424242; stroke-width: 7.2\"/>\n   </g>\n   <g id=\"line2d_68\">\n    <path clip-path=\"url(#p0268d770c3)\" style=\"fill: none; stroke: #424242; stroke-width: 7.2\"/>\n   </g>\n   <g id=\"line2d_69\">\n    <path clip-path=\"url(#p0268d770c3)\" style=\"fill: none; stroke: #424242; stroke-width: 7.2\"/>\n   </g>\n   <g id=\"line2d_70\">\n    <path clip-path=\"url(#p0268d770c3)\" style=\"fill: none; stroke: #424242; stroke-width: 7.2\"/>\n   </g>\n   <g id=\"line2d_71\">\n    <path clip-path=\"url(#p0268d770c3)\" style=\"fill: none; stroke: #424242; stroke-width: 7.2\"/>\n   </g>\n   <g id=\"line2d_72\">\n    <path clip-path=\"url(#p0268d770c3)\" style=\"fill: none; stroke: #424242; stroke-width: 7.2\"/>\n   </g>\n   <g id=\"line2d_73\">\n    <path clip-path=\"url(#p0268d770c3)\" style=\"fill: none; stroke: #424242; stroke-width: 7.2\"/>\n   </g>\n   <g id=\"line2d_74\">\n    <path clip-path=\"url(#p0268d770c3)\" style=\"fill: none; stroke: #424242; stroke-width: 7.2\"/>\n   </g>\n   <g id=\"line2d_75\">\n    <path clip-path=\"url(#p0268d770c3)\" style=\"fill: none; stroke: #424242; stroke-width: 7.2\"/>\n   </g>\n   <g id=\"line2d_76\">\n    <path clip-path=\"url(#p0268d770c3)\" style=\"fill: none; stroke: #424242; stroke-width: 7.2\"/>\n   </g>\n   <g id=\"line2d_77\">\n    <path clip-path=\"url(#p0268d770c3)\" style=\"fill: none; stroke: #424242; stroke-width: 7.2\"/>\n   </g>\n   <g id=\"line2d_78\">\n    <path clip-path=\"url(#p0268d770c3)\" style=\"fill: none; stroke: #424242; stroke-width: 7.2\"/>\n   </g>\n   <g id=\"line2d_79\">\n    <path clip-path=\"url(#p0268d770c3)\" style=\"fill: none; stroke: #424242; stroke-width: 7.2\"/>\n   </g>\n   <g id=\"line2d_80\">\n    <path clip-path=\"url(#p0268d770c3)\" style=\"fill: none; stroke: #424242; stroke-width: 7.2\"/>\n   </g>\n   <g id=\"line2d_81\">\n    <path clip-path=\"url(#p0268d770c3)\" style=\"fill: none; stroke: #424242; stroke-width: 7.2\"/>\n   </g>\n   <g id=\"line2d_82\">\n    <path clip-path=\"url(#p0268d770c3)\" style=\"fill: none; stroke: #424242; stroke-width: 7.2\"/>\n   </g>\n   <g id=\"line2d_83\">\n    <path clip-path=\"url(#p0268d770c3)\" style=\"fill: none; stroke: #424242; stroke-width: 7.2\"/>\n   </g>\n   <g id=\"line2d_84\">\n    <path clip-path=\"url(#p0268d770c3)\" style=\"fill: none; stroke: #424242; stroke-width: 7.2\"/>\n   </g>\n   <g id=\"line2d_85\">\n    <path clip-path=\"url(#p0268d770c3)\" style=\"fill: none; stroke: #424242; stroke-width: 7.2\"/>\n   </g>\n   <g id=\"line2d_86\">\n    <path clip-path=\"url(#p0268d770c3)\" style=\"fill: none; stroke: #424242; stroke-width: 7.2\"/>\n   </g>\n   <g id=\"line2d_87\">\n    <path clip-path=\"url(#p0268d770c3)\" style=\"fill: none; stroke: #424242; stroke-width: 7.2\"/>\n   </g>\n   <g id=\"line2d_88\">\n    <path clip-path=\"url(#p0268d770c3)\" style=\"fill: none; stroke: #424242; stroke-width: 7.2\"/>\n   </g>\n   <g id=\"patch_30\">\n    <path d=\"M 154.9875 241.478906 \nL 154.9875 8.198906 \n\" style=\"fill: none; stroke: #f0f0f0; stroke-width: 3; stroke-linejoin: miter; stroke-linecap: square\"/>\n   </g>\n   <g id=\"patch_31\">\n    <path d=\"M 530.8275 241.478906 \nL 530.8275 8.198906 \n\" style=\"fill: none; stroke: #f0f0f0; stroke-width: 3; stroke-linejoin: miter; stroke-linecap: square\"/>\n   </g>\n   <g id=\"patch_32\">\n    <path d=\"M 154.9875 241.478906 \nL 530.8275 241.478906 \n\" style=\"fill: none; stroke: #f0f0f0; stroke-width: 3; stroke-linejoin: miter; stroke-linecap: square\"/>\n   </g>\n   <g id=\"patch_33\">\n    <path d=\"M 154.9875 8.198906 \nL 530.8275 8.198906 \n\" style=\"fill: none; stroke: #f0f0f0; stroke-width: 3; stroke-linejoin: miter; stroke-linecap: square\"/>\n   </g>\n  </g>\n </g>\n <defs>\n  <clipPath id=\"p0268d770c3\">\n   <rect x=\"154.9875\" y=\"8.198906\" width=\"375.84\" height=\"233.28\"/>\n  </clipPath>\n </defs>\n</svg>\n"
     },
     "metadata": {},
     "output_type": "display_data"
    }
   ],
   "source": [
    "sns.barplot(predict_model.feature_importances_, x_train.columns)\n",
    "plt.grid()"
   ],
   "metadata": {
    "collapsed": false,
    "pycharm": {
     "name": "#%%\n"
    }
   }
  },
  {
   "cell_type": "code",
   "execution_count": 49,
   "outputs": [
    {
     "data": {
      "text/plain": "{'max_depth': 6, 'max_features': 19, 'n_estimators': 150}"
     },
     "execution_count": 49,
     "metadata": {},
     "output_type": "execute_result"
    }
   ],
   "source": [
    "parameters = [{'n_estimators': [100, 150, 200],\n",
    "               'max_features': np.arange(16, 20),\n",
    "               'max_depth': np.arange(4, 7)}]\n",
    "grid_forest = GridSearchCV(estimator=RandomForestRegressor(random_state=49),\n",
    "                           param_grid=parameters,\n",
    "                           scoring='r2',\n",
    "                           cv=5)\n",
    "\n",
    "grid_forest.fit(x_train, y_train)\n",
    "grid_forest.best_params_\n",
    "\n",
    "# {'max_depth': 6, 'max_features': 19, 'n_estimators': 150}"
   ],
   "metadata": {
    "collapsed": false,
    "pycharm": {
     "name": "#%%\n"
    }
   }
  },
  {
   "cell_type": "code",
   "execution_count": 23,
   "outputs": [
    {
     "data": {
      "text/plain": "dict_keys(['mean_fit_time', 'std_fit_time', 'mean_score_time', 'std_score_time', 'param_max_depth', 'param_max_features', 'param_n_estimators', 'params', 'split0_test_score', 'split1_test_score', 'split2_test_score', 'split3_test_score', 'split4_test_score', 'mean_test_score', 'std_test_score', 'rank_test_score'])"
     },
     "execution_count": 23,
     "metadata": {},
     "output_type": "execute_result"
    }
   ],
   "source": [
    "grid_forest.cv_results_.keys()"
   ],
   "metadata": {
    "collapsed": false,
    "pycharm": {
     "name": "#%%\n"
    }
   }
  },
  {
   "cell_type": "code",
   "execution_count": 50,
   "outputs": [
    {
     "name": "stdout",
     "output_type": "stream",
     "text": [
      "0.779417153552581\tTRAIN\n",
      "0.719156553551692\tVALID\n"
     ]
    }
   ],
   "source": [
    "\n",
    "# y_pred_train = grid_forest.predict(x_train)\n",
    "# r2_score(y_train, y_pred_train)\n",
    "\n",
    "predict_train, predict_valid = evalue_metrics(grid_forest)\n",
    "\n",
    "# 0.779417153552581\tTRAIN\n",
    "# 0.719156553551692\tVALID"
   ],
   "metadata": {
    "collapsed": false,
    "pycharm": {
     "name": "#%%\n"
    }
   }
  },
  {
   "cell_type": "markdown",
   "source": [
    "### I used forest tree regression, found the best parameters, validation with help r2_score  metric\n"
   ],
   "metadata": {
    "collapsed": false
   }
  },
  {
   "cell_type": "markdown",
   "source": [
    "I use the best model for df_test"
   ],
   "metadata": {
    "collapsed": false,
    "pycharm": {
     "name": "#%% md\n"
    }
   }
  },
  {
   "cell_type": "code",
   "execution_count": 53,
   "outputs": [],
   "source": [
    "test_id = df_test['Id']\n",
    "df_test.drop(columns='Id', inplace=True)\n",
    "\n",
    "df_test[NUMBER_COLUMNS] = scaler.transform(df_test[NUMBER_COLUMNS])\n",
    "predict_test = grid_forest.predict(df_test)"
   ],
   "metadata": {
    "collapsed": false,
    "pycharm": {
     "name": "#%%\n"
    }
   }
  },
  {
   "cell_type": "code",
   "execution_count": 56,
   "outputs": [
    {
     "data": {
      "text/plain": "         Id          Price\n0      4567  164255.899790\n1      5925  135191.095315\n2       960  166457.442618\n3      3848  159322.141291\n4       746  168412.314698\n...     ...            ...\n4995  10379  181984.289312\n4996  16138  384436.863117\n4997   3912  151290.256704\n4998   5722  171788.337928\n4999  11004  247869.039551\n\n[5000 rows x 2 columns]",
      "text/html": "<div>\n<style scoped>\n    .dataframe tbody tr th:only-of-type {\n        vertical-align: middle;\n    }\n\n    .dataframe tbody tr th {\n        vertical-align: top;\n    }\n\n    .dataframe thead th {\n        text-align: right;\n    }\n</style>\n<table border=\"1\" class=\"dataframe\">\n  <thead>\n    <tr style=\"text-align: right;\">\n      <th></th>\n      <th>Id</th>\n      <th>Price</th>\n    </tr>\n  </thead>\n  <tbody>\n    <tr>\n      <th>0</th>\n      <td>4567</td>\n      <td>164255.899790</td>\n    </tr>\n    <tr>\n      <th>1</th>\n      <td>5925</td>\n      <td>135191.095315</td>\n    </tr>\n    <tr>\n      <th>2</th>\n      <td>960</td>\n      <td>166457.442618</td>\n    </tr>\n    <tr>\n      <th>3</th>\n      <td>3848</td>\n      <td>159322.141291</td>\n    </tr>\n    <tr>\n      <th>4</th>\n      <td>746</td>\n      <td>168412.314698</td>\n    </tr>\n    <tr>\n      <th>...</th>\n      <td>...</td>\n      <td>...</td>\n    </tr>\n    <tr>\n      <th>4995</th>\n      <td>10379</td>\n      <td>181984.289312</td>\n    </tr>\n    <tr>\n      <th>4996</th>\n      <td>16138</td>\n      <td>384436.863117</td>\n    </tr>\n    <tr>\n      <th>4997</th>\n      <td>3912</td>\n      <td>151290.256704</td>\n    </tr>\n    <tr>\n      <th>4998</th>\n      <td>5722</td>\n      <td>171788.337928</td>\n    </tr>\n    <tr>\n      <th>4999</th>\n      <td>11004</td>\n      <td>247869.039551</td>\n    </tr>\n  </tbody>\n</table>\n<p>5000 rows × 2 columns</p>\n</div>"
     },
     "execution_count": 56,
     "metadata": {},
     "output_type": "execute_result"
    }
   ],
   "source": [
    "\n",
    "predict_df = pd.DataFrame({'Id': test_id, 'Price': predict_test}, columns=['Id', 'Price'])\n",
    "predict_df"
   ],
   "metadata": {
    "collapsed": false,
    "pycharm": {
     "name": "#%%\n"
    }
   }
  },
  {
   "cell_type": "markdown",
   "source": [
    "Save result"
   ],
   "metadata": {
    "collapsed": false,
    "pycharm": {
     "name": "#%% md\n"
    }
   }
  },
  {
   "cell_type": "code",
   "execution_count": 57,
   "outputs": [],
   "source": [
    "predict_df.to_csv('Simakov_Ya_forest_predict.csv', index=False)"
   ],
   "metadata": {
    "collapsed": false,
    "pycharm": {
     "name": "#%%\n"
    }
   }
  }
 ],
 "metadata": {
  "kernelspec": {
   "display_name": "Python 3",
   "language": "python",
   "name": "python3"
  },
  "language_info": {
   "codemirror_mode": {
    "name": "ipython",
    "version": 2
   },
   "file_extension": ".py",
   "mimetype": "text/x-python",
   "name": "python",
   "nbconvert_exporter": "python",
   "pygments_lexer": "ipython2",
   "version": "2.7.6"
  }
 },
 "nbformat": 4,
 "nbformat_minor": 0
}