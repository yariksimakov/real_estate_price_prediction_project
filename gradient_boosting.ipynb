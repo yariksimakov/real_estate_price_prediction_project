{
 "cells": [
  {
   "cell_type": "code",
   "execution_count": 535,
   "metadata": {
    "collapsed": true
   },
   "outputs": [],
   "source": [
    "import datetime\n",
    "import numpy as np\n",
    "import pandas as pd\n",
    "import random\n",
    "from sklearn.model_selection import train_test_split, cross_val_score\n",
    "from sklearn.preprocessing import StandardScaler, RobustScaler, MinMaxScaler\n",
    "from sklearn.ensemble import RandomForestRegressor, BaggingRegressor, GradientBoostingRegressor\n",
    "from sklearn.metrics import r2_score as r_2\n",
    "import matplotlib as mpl\n",
    "import matplotlib.pyplot as plt\n",
    "import seaborn as sns\n",
    "\n",
    "%matplotlib inline"
   ]
  },
  {
   "cell_type": "code",
   "execution_count": null,
   "outputs": [],
   "source": [
    "import warnings\n",
    "\n",
    "warnings.filterwarnings('ignore')\n",
    "mpl.rcParams.update({'font.size': 13})"
   ],
   "metadata": {
    "collapsed": false,
    "pycharm": {
     "name": "#%%\n"
    }
   }
  },
  {
   "cell_type": "markdown",
   "source": [
    "### Read data"
   ],
   "metadata": {
    "collapsed": false,
    "pycharm": {
     "name": "#%% md\n"
    }
   }
  },
  {
   "cell_type": "code",
   "execution_count": 557,
   "outputs": [],
   "source": [
    "df_train = pd.read_csv('datasets/train.csv')\n",
    "df_test = pd.read_csv('datasets/test.csv')"
   ],
   "metadata": {
    "collapsed": false,
    "pycharm": {
     "name": "#%%\n"
    }
   }
  },
  {
   "cell_type": "code",
   "execution_count": 350,
   "outputs": [
    {
     "data": {
      "text/plain": "                Id    DistrictId         Rooms        Square   LifeSquare  \\\ncount  10000.00000  10000.000000  10000.000000  10000.000000  7887.000000   \nmean    8383.40770     50.400800      1.890500     56.315775    37.199645   \nstd     4859.01902     43.587592      0.839512     21.058732    86.241209   \nmin        0.00000      0.000000      0.000000      1.136859     0.370619   \n25%     4169.50000     20.000000      1.000000     41.774881    22.769832   \n50%     8394.50000     36.000000      2.000000     52.513310    32.781260   \n75%    12592.50000     75.000000      2.000000     65.900625    45.128803   \nmax    16798.00000    209.000000     19.000000    641.065193  7480.592129   \n\n       KitchenSquare         Floor    HouseFloor     HouseYear     Ecology_1  \\\ncount   10000.000000  10000.000000  10000.000000  1.000000e+04  10000.000000   \nmean        6.273300      8.526700     12.609400  3.990166e+03      0.118858   \nstd        28.560917      5.241148      6.775974  2.005003e+05      0.119025   \nmin         0.000000      1.000000      0.000000  1.910000e+03      0.000000   \n25%         1.000000      4.000000      9.000000  1.974000e+03      0.017647   \n50%         6.000000      7.000000     13.000000  1.977000e+03      0.075424   \n75%         9.000000     12.000000     17.000000  2.001000e+03      0.195781   \nmax      2014.000000     42.000000    117.000000  2.005201e+07      0.521867   \n\n           Social_1      Social_2      Social_3  Healthcare_1   Helthcare_2  \\\ncount  10000.000000  10000.000000  10000.000000   5202.000000  10000.000000   \nmean      24.687000   5352.157400      8.039200   1142.904460      1.319500   \nstd       17.532614   4006.799803     23.831875   1021.517264      1.493601   \nmin        0.000000    168.000000      0.000000      0.000000      0.000000   \n25%        6.000000   1564.000000      0.000000    350.000000      0.000000   \n50%       25.000000   5285.000000      2.000000    900.000000      1.000000   \n75%       36.000000   7227.000000      5.000000   1548.000000      2.000000   \nmax       74.000000  19083.000000    141.000000   4849.000000      6.000000   \n\n            Shops_1          Price  \ncount  10000.000000   10000.000000  \nmean       4.231300  214138.857399  \nstd        4.806341   92872.293865  \nmin        0.000000   59174.778028  \n25%        1.000000  153872.633942  \n50%        3.000000  192269.644879  \n75%        6.000000  249135.462171  \nmax       23.000000  633233.466570  ",
      "text/html": "<div>\n<style scoped>\n    .dataframe tbody tr th:only-of-type {\n        vertical-align: middle;\n    }\n\n    .dataframe tbody tr th {\n        vertical-align: top;\n    }\n\n    .dataframe thead th {\n        text-align: right;\n    }\n</style>\n<table border=\"1\" class=\"dataframe\">\n  <thead>\n    <tr style=\"text-align: right;\">\n      <th></th>\n      <th>Id</th>\n      <th>DistrictId</th>\n      <th>Rooms</th>\n      <th>Square</th>\n      <th>LifeSquare</th>\n      <th>KitchenSquare</th>\n      <th>Floor</th>\n      <th>HouseFloor</th>\n      <th>HouseYear</th>\n      <th>Ecology_1</th>\n      <th>Social_1</th>\n      <th>Social_2</th>\n      <th>Social_3</th>\n      <th>Healthcare_1</th>\n      <th>Helthcare_2</th>\n      <th>Shops_1</th>\n      <th>Price</th>\n    </tr>\n  </thead>\n  <tbody>\n    <tr>\n      <th>count</th>\n      <td>10000.00000</td>\n      <td>10000.000000</td>\n      <td>10000.000000</td>\n      <td>10000.000000</td>\n      <td>7887.000000</td>\n      <td>10000.000000</td>\n      <td>10000.000000</td>\n      <td>10000.000000</td>\n      <td>1.000000e+04</td>\n      <td>10000.000000</td>\n      <td>10000.000000</td>\n      <td>10000.000000</td>\n      <td>10000.000000</td>\n      <td>5202.000000</td>\n      <td>10000.000000</td>\n      <td>10000.000000</td>\n      <td>10000.000000</td>\n    </tr>\n    <tr>\n      <th>mean</th>\n      <td>8383.40770</td>\n      <td>50.400800</td>\n      <td>1.890500</td>\n      <td>56.315775</td>\n      <td>37.199645</td>\n      <td>6.273300</td>\n      <td>8.526700</td>\n      <td>12.609400</td>\n      <td>3.990166e+03</td>\n      <td>0.118858</td>\n      <td>24.687000</td>\n      <td>5352.157400</td>\n      <td>8.039200</td>\n      <td>1142.904460</td>\n      <td>1.319500</td>\n      <td>4.231300</td>\n      <td>214138.857399</td>\n    </tr>\n    <tr>\n      <th>std</th>\n      <td>4859.01902</td>\n      <td>43.587592</td>\n      <td>0.839512</td>\n      <td>21.058732</td>\n      <td>86.241209</td>\n      <td>28.560917</td>\n      <td>5.241148</td>\n      <td>6.775974</td>\n      <td>2.005003e+05</td>\n      <td>0.119025</td>\n      <td>17.532614</td>\n      <td>4006.799803</td>\n      <td>23.831875</td>\n      <td>1021.517264</td>\n      <td>1.493601</td>\n      <td>4.806341</td>\n      <td>92872.293865</td>\n    </tr>\n    <tr>\n      <th>min</th>\n      <td>0.00000</td>\n      <td>0.000000</td>\n      <td>0.000000</td>\n      <td>1.136859</td>\n      <td>0.370619</td>\n      <td>0.000000</td>\n      <td>1.000000</td>\n      <td>0.000000</td>\n      <td>1.910000e+03</td>\n      <td>0.000000</td>\n      <td>0.000000</td>\n      <td>168.000000</td>\n      <td>0.000000</td>\n      <td>0.000000</td>\n      <td>0.000000</td>\n      <td>0.000000</td>\n      <td>59174.778028</td>\n    </tr>\n    <tr>\n      <th>25%</th>\n      <td>4169.50000</td>\n      <td>20.000000</td>\n      <td>1.000000</td>\n      <td>41.774881</td>\n      <td>22.769832</td>\n      <td>1.000000</td>\n      <td>4.000000</td>\n      <td>9.000000</td>\n      <td>1.974000e+03</td>\n      <td>0.017647</td>\n      <td>6.000000</td>\n      <td>1564.000000</td>\n      <td>0.000000</td>\n      <td>350.000000</td>\n      <td>0.000000</td>\n      <td>1.000000</td>\n      <td>153872.633942</td>\n    </tr>\n    <tr>\n      <th>50%</th>\n      <td>8394.50000</td>\n      <td>36.000000</td>\n      <td>2.000000</td>\n      <td>52.513310</td>\n      <td>32.781260</td>\n      <td>6.000000</td>\n      <td>7.000000</td>\n      <td>13.000000</td>\n      <td>1.977000e+03</td>\n      <td>0.075424</td>\n      <td>25.000000</td>\n      <td>5285.000000</td>\n      <td>2.000000</td>\n      <td>900.000000</td>\n      <td>1.000000</td>\n      <td>3.000000</td>\n      <td>192269.644879</td>\n    </tr>\n    <tr>\n      <th>75%</th>\n      <td>12592.50000</td>\n      <td>75.000000</td>\n      <td>2.000000</td>\n      <td>65.900625</td>\n      <td>45.128803</td>\n      <td>9.000000</td>\n      <td>12.000000</td>\n      <td>17.000000</td>\n      <td>2.001000e+03</td>\n      <td>0.195781</td>\n      <td>36.000000</td>\n      <td>7227.000000</td>\n      <td>5.000000</td>\n      <td>1548.000000</td>\n      <td>2.000000</td>\n      <td>6.000000</td>\n      <td>249135.462171</td>\n    </tr>\n    <tr>\n      <th>max</th>\n      <td>16798.00000</td>\n      <td>209.000000</td>\n      <td>19.000000</td>\n      <td>641.065193</td>\n      <td>7480.592129</td>\n      <td>2014.000000</td>\n      <td>42.000000</td>\n      <td>117.000000</td>\n      <td>2.005201e+07</td>\n      <td>0.521867</td>\n      <td>74.000000</td>\n      <td>19083.000000</td>\n      <td>141.000000</td>\n      <td>4849.000000</td>\n      <td>6.000000</td>\n      <td>23.000000</td>\n      <td>633233.466570</td>\n    </tr>\n  </tbody>\n</table>\n</div>"
     },
     "execution_count": 350,
     "metadata": {},
     "output_type": "execute_result"
    }
   ],
   "source": [
    "df_train.describe()"
   ],
   "metadata": {
    "collapsed": false,
    "pycharm": {
     "name": "#%%\n"
    }
   }
  },
  {
   "cell_type": "code",
   "execution_count": 7,
   "outputs": [
    {
     "data": {
      "text/plain": "     Id  DistrictId  Rooms     Square  LifeSquare  KitchenSquare  Floor  \\\n0  4567          44    1.0  36.847630   19.094182            5.0      5   \n1  5925          62    1.0  42.493907   42.568133           10.0      7   \n2   960          27    2.0  59.463678         NaN            9.0     19   \n3  3848          23    3.0  49.646030   33.893825            6.0      2   \n4   746          74    1.0  53.837056         NaN            1.0      8   \n\n   HouseFloor  HouseYear  Ecology_1 Ecology_2 Ecology_3  Social_1  Social_2  \\\n0         9.0       1970   0.036122         B         B        24      4378   \n1        17.0       2017   0.072158         B         B         2       629   \n2        19.0       1977   0.211401         B         B         9      1892   \n3         2.0       1965   0.014073         B         B         2       475   \n4        17.0       1977   0.309479         B         B        35      7715   \n\n   Social_3  Healthcare_1  Helthcare_2  Shops_1 Shops_2  \n0         0        1036.0            1        1       B  \n1         1           NaN            0        0       A  \n2         0           NaN            0        1       B  \n3         0           NaN            0        0       B  \n4         4         990.0            0        6       B  ",
      "text/html": "<div>\n<style scoped>\n    .dataframe tbody tr th:only-of-type {\n        vertical-align: middle;\n    }\n\n    .dataframe tbody tr th {\n        vertical-align: top;\n    }\n\n    .dataframe thead th {\n        text-align: right;\n    }\n</style>\n<table border=\"1\" class=\"dataframe\">\n  <thead>\n    <tr style=\"text-align: right;\">\n      <th></th>\n      <th>Id</th>\n      <th>DistrictId</th>\n      <th>Rooms</th>\n      <th>Square</th>\n      <th>LifeSquare</th>\n      <th>KitchenSquare</th>\n      <th>Floor</th>\n      <th>HouseFloor</th>\n      <th>HouseYear</th>\n      <th>Ecology_1</th>\n      <th>Ecology_2</th>\n      <th>Ecology_3</th>\n      <th>Social_1</th>\n      <th>Social_2</th>\n      <th>Social_3</th>\n      <th>Healthcare_1</th>\n      <th>Helthcare_2</th>\n      <th>Shops_1</th>\n      <th>Shops_2</th>\n    </tr>\n  </thead>\n  <tbody>\n    <tr>\n      <th>0</th>\n      <td>4567</td>\n      <td>44</td>\n      <td>1.0</td>\n      <td>36.847630</td>\n      <td>19.094182</td>\n      <td>5.0</td>\n      <td>5</td>\n      <td>9.0</td>\n      <td>1970</td>\n      <td>0.036122</td>\n      <td>B</td>\n      <td>B</td>\n      <td>24</td>\n      <td>4378</td>\n      <td>0</td>\n      <td>1036.0</td>\n      <td>1</td>\n      <td>1</td>\n      <td>B</td>\n    </tr>\n    <tr>\n      <th>1</th>\n      <td>5925</td>\n      <td>62</td>\n      <td>1.0</td>\n      <td>42.493907</td>\n      <td>42.568133</td>\n      <td>10.0</td>\n      <td>7</td>\n      <td>17.0</td>\n      <td>2017</td>\n      <td>0.072158</td>\n      <td>B</td>\n      <td>B</td>\n      <td>2</td>\n      <td>629</td>\n      <td>1</td>\n      <td>NaN</td>\n      <td>0</td>\n      <td>0</td>\n      <td>A</td>\n    </tr>\n    <tr>\n      <th>2</th>\n      <td>960</td>\n      <td>27</td>\n      <td>2.0</td>\n      <td>59.463678</td>\n      <td>NaN</td>\n      <td>9.0</td>\n      <td>19</td>\n      <td>19.0</td>\n      <td>1977</td>\n      <td>0.211401</td>\n      <td>B</td>\n      <td>B</td>\n      <td>9</td>\n      <td>1892</td>\n      <td>0</td>\n      <td>NaN</td>\n      <td>0</td>\n      <td>1</td>\n      <td>B</td>\n    </tr>\n    <tr>\n      <th>3</th>\n      <td>3848</td>\n      <td>23</td>\n      <td>3.0</td>\n      <td>49.646030</td>\n      <td>33.893825</td>\n      <td>6.0</td>\n      <td>2</td>\n      <td>2.0</td>\n      <td>1965</td>\n      <td>0.014073</td>\n      <td>B</td>\n      <td>B</td>\n      <td>2</td>\n      <td>475</td>\n      <td>0</td>\n      <td>NaN</td>\n      <td>0</td>\n      <td>0</td>\n      <td>B</td>\n    </tr>\n    <tr>\n      <th>4</th>\n      <td>746</td>\n      <td>74</td>\n      <td>1.0</td>\n      <td>53.837056</td>\n      <td>NaN</td>\n      <td>1.0</td>\n      <td>8</td>\n      <td>17.0</td>\n      <td>1977</td>\n      <td>0.309479</td>\n      <td>B</td>\n      <td>B</td>\n      <td>35</td>\n      <td>7715</td>\n      <td>4</td>\n      <td>990.0</td>\n      <td>0</td>\n      <td>6</td>\n      <td>B</td>\n    </tr>\n  </tbody>\n</table>\n</div>"
     },
     "execution_count": 7,
     "metadata": {},
     "output_type": "execute_result"
    }
   ],
   "source": [
    "df_test.head()"
   ],
   "metadata": {
    "collapsed": false,
    "pycharm": {
     "name": "#%%\n"
    }
   }
  },
  {
   "cell_type": "markdown",
   "source": [
    "### EDA and clean data"
   ],
   "metadata": {
    "collapsed": false,
    "pycharm": {
     "name": "#%% md\n"
    }
   }
  },
  {
   "cell_type": "markdown",
   "source": [
    "***"
   ],
   "metadata": {
    "collapsed": false,
    "pycharm": {
     "name": "#%% md\n"
    }
   }
  },
  {
   "cell_type": "code",
   "execution_count": 9,
   "outputs": [
    {
     "name": "stdout",
     "output_type": "stream",
     "text": [
      "Memory usage start 1562.625 KB\n",
      "memory after reduce 693.84765625\n",
      "Memory usage start 742.3125 KB\n",
      "memory after reduce 327.63671875\n"
     ]
    },
    {
     "data": {
      "text/plain": "         Id  DistrictId  Rooms    Square  LifeSquare  KitchenSquare  Floor  \\\n0      4567          44    1.0  36.84375    19.09375            5.0      5   \n1      5925          62    1.0  42.50000    42.56250           10.0      7   \n2       960          27    2.0  59.46875         NaN            9.0     19   \n3      3848          23    3.0  49.65625    33.90625            6.0      2   \n4       746          74    1.0  53.84375         NaN            1.0      8   \n...     ...         ...    ...       ...         ...            ...    ...   \n4995  10379          29    2.0  43.18750    30.34375            5.0      6   \n4996  16138          38    3.0  93.68750    94.50000           10.0     21   \n4997   3912         101    1.0  33.65625    19.00000            5.0      2   \n4998   5722          10    1.0  38.62500    20.96875            9.0      8   \n4999  11004          21    2.0  67.12500    33.93750           13.0      9   \n\n      HouseFloor  HouseYear  Ecology_1 Ecology_2 Ecology_3  Social_1  \\\n0            9.0       1970   0.036133         B         B        24   \n1           17.0       2017   0.072144         B         B         2   \n2           19.0       1977   0.211426         B         B         9   \n3            2.0       1965   0.014076         B         B         2   \n4           17.0       1977   0.309570         B         B        35   \n...          ...        ...        ...       ...       ...       ...   \n4995         5.0       1962   0.069641         B         B        31   \n4996        27.0       2018   0.060760         B         B        15   \n4997         5.0       1966   0.038696         B         B        28   \n4998        14.0       1970   0.089050         B         B        33   \n4999        17.0       2009   0.194458         B         B        47   \n\n      Social_2  Social_3  Healthcare_1  Helthcare_2  Shops_1 Shops_2  \n0         4378         0        1036.0            1        1       B  \n1          629         1           NaN            0        0       A  \n2         1892         0           NaN            0        1       B  \n3          475         0           NaN            0        0       B  \n4         7715         4         990.0            0        6       B  \n...        ...       ...           ...          ...      ...     ...  \n4995      6119         4           NaN            1        2       B  \n4996      2787         2         520.0            0        7       B  \n4997      6533         1        1015.0            2        5       B  \n4998      7976         5           NaN            0       11       B  \n4999      8004         3         125.0            3        5       B  \n\n[5000 rows x 19 columns]",
      "text/html": "<div>\n<style scoped>\n    .dataframe tbody tr th:only-of-type {\n        vertical-align: middle;\n    }\n\n    .dataframe tbody tr th {\n        vertical-align: top;\n    }\n\n    .dataframe thead th {\n        text-align: right;\n    }\n</style>\n<table border=\"1\" class=\"dataframe\">\n  <thead>\n    <tr style=\"text-align: right;\">\n      <th></th>\n      <th>Id</th>\n      <th>DistrictId</th>\n      <th>Rooms</th>\n      <th>Square</th>\n      <th>LifeSquare</th>\n      <th>KitchenSquare</th>\n      <th>Floor</th>\n      <th>HouseFloor</th>\n      <th>HouseYear</th>\n      <th>Ecology_1</th>\n      <th>Ecology_2</th>\n      <th>Ecology_3</th>\n      <th>Social_1</th>\n      <th>Social_2</th>\n      <th>Social_3</th>\n      <th>Healthcare_1</th>\n      <th>Helthcare_2</th>\n      <th>Shops_1</th>\n      <th>Shops_2</th>\n    </tr>\n  </thead>\n  <tbody>\n    <tr>\n      <th>0</th>\n      <td>4567</td>\n      <td>44</td>\n      <td>1.0</td>\n      <td>36.84375</td>\n      <td>19.09375</td>\n      <td>5.0</td>\n      <td>5</td>\n      <td>9.0</td>\n      <td>1970</td>\n      <td>0.036133</td>\n      <td>B</td>\n      <td>B</td>\n      <td>24</td>\n      <td>4378</td>\n      <td>0</td>\n      <td>1036.0</td>\n      <td>1</td>\n      <td>1</td>\n      <td>B</td>\n    </tr>\n    <tr>\n      <th>1</th>\n      <td>5925</td>\n      <td>62</td>\n      <td>1.0</td>\n      <td>42.50000</td>\n      <td>42.56250</td>\n      <td>10.0</td>\n      <td>7</td>\n      <td>17.0</td>\n      <td>2017</td>\n      <td>0.072144</td>\n      <td>B</td>\n      <td>B</td>\n      <td>2</td>\n      <td>629</td>\n      <td>1</td>\n      <td>NaN</td>\n      <td>0</td>\n      <td>0</td>\n      <td>A</td>\n    </tr>\n    <tr>\n      <th>2</th>\n      <td>960</td>\n      <td>27</td>\n      <td>2.0</td>\n      <td>59.46875</td>\n      <td>NaN</td>\n      <td>9.0</td>\n      <td>19</td>\n      <td>19.0</td>\n      <td>1977</td>\n      <td>0.211426</td>\n      <td>B</td>\n      <td>B</td>\n      <td>9</td>\n      <td>1892</td>\n      <td>0</td>\n      <td>NaN</td>\n      <td>0</td>\n      <td>1</td>\n      <td>B</td>\n    </tr>\n    <tr>\n      <th>3</th>\n      <td>3848</td>\n      <td>23</td>\n      <td>3.0</td>\n      <td>49.65625</td>\n      <td>33.90625</td>\n      <td>6.0</td>\n      <td>2</td>\n      <td>2.0</td>\n      <td>1965</td>\n      <td>0.014076</td>\n      <td>B</td>\n      <td>B</td>\n      <td>2</td>\n      <td>475</td>\n      <td>0</td>\n      <td>NaN</td>\n      <td>0</td>\n      <td>0</td>\n      <td>B</td>\n    </tr>\n    <tr>\n      <th>4</th>\n      <td>746</td>\n      <td>74</td>\n      <td>1.0</td>\n      <td>53.84375</td>\n      <td>NaN</td>\n      <td>1.0</td>\n      <td>8</td>\n      <td>17.0</td>\n      <td>1977</td>\n      <td>0.309570</td>\n      <td>B</td>\n      <td>B</td>\n      <td>35</td>\n      <td>7715</td>\n      <td>4</td>\n      <td>990.0</td>\n      <td>0</td>\n      <td>6</td>\n      <td>B</td>\n    </tr>\n    <tr>\n      <th>...</th>\n      <td>...</td>\n      <td>...</td>\n      <td>...</td>\n      <td>...</td>\n      <td>...</td>\n      <td>...</td>\n      <td>...</td>\n      <td>...</td>\n      <td>...</td>\n      <td>...</td>\n      <td>...</td>\n      <td>...</td>\n      <td>...</td>\n      <td>...</td>\n      <td>...</td>\n      <td>...</td>\n      <td>...</td>\n      <td>...</td>\n      <td>...</td>\n    </tr>\n    <tr>\n      <th>4995</th>\n      <td>10379</td>\n      <td>29</td>\n      <td>2.0</td>\n      <td>43.18750</td>\n      <td>30.34375</td>\n      <td>5.0</td>\n      <td>6</td>\n      <td>5.0</td>\n      <td>1962</td>\n      <td>0.069641</td>\n      <td>B</td>\n      <td>B</td>\n      <td>31</td>\n      <td>6119</td>\n      <td>4</td>\n      <td>NaN</td>\n      <td>1</td>\n      <td>2</td>\n      <td>B</td>\n    </tr>\n    <tr>\n      <th>4996</th>\n      <td>16138</td>\n      <td>38</td>\n      <td>3.0</td>\n      <td>93.68750</td>\n      <td>94.50000</td>\n      <td>10.0</td>\n      <td>21</td>\n      <td>27.0</td>\n      <td>2018</td>\n      <td>0.060760</td>\n      <td>B</td>\n      <td>B</td>\n      <td>15</td>\n      <td>2787</td>\n      <td>2</td>\n      <td>520.0</td>\n      <td>0</td>\n      <td>7</td>\n      <td>B</td>\n    </tr>\n    <tr>\n      <th>4997</th>\n      <td>3912</td>\n      <td>101</td>\n      <td>1.0</td>\n      <td>33.65625</td>\n      <td>19.00000</td>\n      <td>5.0</td>\n      <td>2</td>\n      <td>5.0</td>\n      <td>1966</td>\n      <td>0.038696</td>\n      <td>B</td>\n      <td>B</td>\n      <td>28</td>\n      <td>6533</td>\n      <td>1</td>\n      <td>1015.0</td>\n      <td>2</td>\n      <td>5</td>\n      <td>B</td>\n    </tr>\n    <tr>\n      <th>4998</th>\n      <td>5722</td>\n      <td>10</td>\n      <td>1.0</td>\n      <td>38.62500</td>\n      <td>20.96875</td>\n      <td>9.0</td>\n      <td>8</td>\n      <td>14.0</td>\n      <td>1970</td>\n      <td>0.089050</td>\n      <td>B</td>\n      <td>B</td>\n      <td>33</td>\n      <td>7976</td>\n      <td>5</td>\n      <td>NaN</td>\n      <td>0</td>\n      <td>11</td>\n      <td>B</td>\n    </tr>\n    <tr>\n      <th>4999</th>\n      <td>11004</td>\n      <td>21</td>\n      <td>2.0</td>\n      <td>67.12500</td>\n      <td>33.93750</td>\n      <td>13.0</td>\n      <td>9</td>\n      <td>17.0</td>\n      <td>2009</td>\n      <td>0.194458</td>\n      <td>B</td>\n      <td>B</td>\n      <td>47</td>\n      <td>8004</td>\n      <td>3</td>\n      <td>125.0</td>\n      <td>3</td>\n      <td>5</td>\n      <td>B</td>\n    </tr>\n  </tbody>\n</table>\n<p>5000 rows × 19 columns</p>\n</div>"
     },
     "execution_count": 9,
     "metadata": {},
     "output_type": "execute_result"
    }
   ],
   "source": [
    "def reduce_mem_df(df):\n",
    "    start_mem = df.memory_usage().sum() / 1024\n",
    "    print(f'Memory usage start {start_mem} KB')\n",
    "\n",
    "    for column in df.columns:\n",
    "        col_type = df[column].dtype\n",
    "\n",
    "        if col_type.kind != 'O':\n",
    "            col_min = df[column].min()\n",
    "            col_max = df[column].max()\n",
    "\n",
    "            if df[column].dtype.kind == 'i':\n",
    "                for int_param in [np.int8, np.int16, np.int32]:\n",
    "                    if col_min > np.iinfo(int_param).min and col_max < np.iinfo(int_param).max:\n",
    "                        df[column] = df[column].astype(int_param)\n",
    "            else:\n",
    "                for float_param in [np.float16, np.float32]:\n",
    "                    if col_min > np.finfo(float_param).min and col_max < np.finfo(float_param).max:\n",
    "                        df[column] = df[column].astype(float_param)\n",
    "        else:\n",
    "            df[column] = df[column].astype('category')\n",
    "\n",
    "    end_mem = df.memory_usage().sum() / 1024\n",
    "    print(f'memory after reduce {end_mem}')\n",
    "    return df\n",
    "\n",
    "# reduce_mem_df(df_train)\n",
    "# reduce_mem_df(df_test)"
   ],
   "metadata": {
    "collapsed": false,
    "pycharm": {
     "name": "#%%\n"
    }
   }
  },
  {
   "cell_type": "code",
   "execution_count": 116,
   "outputs": [
    {
     "data": {
      "text/plain": "Text(0.5, 1.0, 'Price of df_train')"
     },
     "execution_count": 116,
     "metadata": {},
     "output_type": "execute_result"
    },
    {
     "data": {
      "text/plain": "<Figure size 432x288 with 1 Axes>",
      "image/png": "[encoded data removed]"
     },
     "metadata": {},
     "output_type": "display_data"
    }
   ],
   "source": [
    "\"\"\" show on price\"\"\"\n",
    "# plt.figure(figsize=(12, 8))\n",
    "plt.style.use('fivethirtyeight')\n",
    "\n",
    "plt.hist(df_train['Price'], bins=30)\n",
    "plt.xlabel('Count')\n",
    "plt.ylabel('Price')\n",
    "plt.title('Price of df_train')"
   ],
   "metadata": {
    "collapsed": false,
    "pycharm": {
     "name": "#%%\n"
    }
   }
  },
  {
   "cell_type": "code",
   "execution_count": 17,
   "outputs": [
    {
     "data": {
      "text/plain": "              Rooms        Square   LifeSquare  KitchenSquare         Floor  \\\ncount  10000.000000  10000.000000  7887.000000   10000.000000  10000.000000   \nmean       1.890500     56.315613    37.199677       6.273300      8.526700   \nstd        0.839512     21.058096    86.234680      28.560917      5.241148   \nmin        0.000000      1.136719     0.370605       0.000000      1.000000   \n25%        1.000000     41.781250    22.765625       1.000000      4.000000   \n50%        2.000000     52.500000    32.781250       6.000000      7.000000   \n75%        2.000000     65.875000    45.125000       9.000000     12.000000   \nmax       19.000000    641.000000  7480.000000    2014.000000     42.000000   \n\n         HouseFloor     HouseYear     Ecology_1      Social_1      Social_2  \\\ncount  10000.000000  1.000000e+04  10000.000000  10000.000000  10000.000000   \nmean      12.609400  3.990166e+03      0.118856     24.687000   5352.157400   \nstd        6.775974  2.005003e+05      0.119024     17.532614   4006.799803   \nmin        0.000000  1.910000e+03      0.000000      0.000000    168.000000   \n25%        9.000000  1.974000e+03      0.017654      6.000000   1564.000000   \n50%       13.000000  1.977000e+03      0.075439     25.000000   5285.000000   \n75%       17.000000  2.001000e+03      0.195801     36.000000   7227.000000   \nmax      117.000000  2.005201e+07      0.521973     74.000000  19083.000000   \n\n           Social_3  Healthcare_1   Helthcare_2       Shops_1          Price  \ncount  10000.000000   5202.000000  10000.000000  10000.000000   10000.000000  \nmean       8.039200   1142.905029      1.319500      4.231300  214138.859375  \nstd       23.831875   1021.544495      1.493601      4.806341   92872.289062  \nmin        0.000000      0.000000      0.000000      0.000000   59174.777344  \n25%        0.000000    350.000000      0.000000      1.000000  153872.628906  \n50%        2.000000    900.000000      1.000000      3.000000  192269.648438  \n75%        5.000000   1548.000000      2.000000      6.000000  249135.460938  \nmax      141.000000   4848.000000      6.000000     23.000000  633233.437500  ",
      "text/html": "<div>\n<style scoped>\n    .dataframe tbody tr th:only-of-type {\n        vertical-align: middle;\n    }\n\n    .dataframe tbody tr th {\n        vertical-align: top;\n    }\n\n    .dataframe thead th {\n        text-align: right;\n    }\n</style>\n<table border=\"1\" class=\"dataframe\">\n  <thead>\n    <tr style=\"text-align: right;\">\n      <th></th>\n      <th>Rooms</th>\n      <th>Square</th>\n      <th>LifeSquare</th>\n      <th>KitchenSquare</th>\n      <th>Floor</th>\n      <th>HouseFloor</th>\n      <th>HouseYear</th>\n      <th>Ecology_1</th>\n      <th>Social_1</th>\n      <th>Social_2</th>\n      <th>Social_3</th>\n      <th>Healthcare_1</th>\n      <th>Helthcare_2</th>\n      <th>Shops_1</th>\n      <th>Price</th>\n    </tr>\n  </thead>\n  <tbody>\n    <tr>\n      <th>count</th>\n      <td>10000.000000</td>\n      <td>10000.000000</td>\n      <td>7887.000000</td>\n      <td>10000.000000</td>\n      <td>10000.000000</td>\n      <td>10000.000000</td>\n      <td>1.000000e+04</td>\n      <td>10000.000000</td>\n      <td>10000.000000</td>\n      <td>10000.000000</td>\n      <td>10000.000000</td>\n      <td>5202.000000</td>\n      <td>10000.000000</td>\n      <td>10000.000000</td>\n      <td>10000.000000</td>\n    </tr>\n    <tr>\n      <th>mean</th>\n      <td>1.890500</td>\n      <td>56.315613</td>\n      <td>37.199677</td>\n      <td>6.273300</td>\n      <td>8.526700</td>\n      <td>12.609400</td>\n      <td>3.990166e+03</td>\n      <td>0.118856</td>\n      <td>24.687000</td>\n      <td>5352.157400</td>\n      <td>8.039200</td>\n      <td>1142.905029</td>\n      <td>1.319500</td>\n      <td>4.231300</td>\n      <td>214138.859375</td>\n    </tr>\n    <tr>\n      <th>std</th>\n      <td>0.839512</td>\n      <td>21.058096</td>\n      <td>86.234680</td>\n      <td>28.560917</td>\n      <td>5.241148</td>\n      <td>6.775974</td>\n      <td>2.005003e+05</td>\n      <td>0.119024</td>\n      <td>17.532614</td>\n      <td>4006.799803</td>\n      <td>23.831875</td>\n      <td>1021.544495</td>\n      <td>1.493601</td>\n      <td>4.806341</td>\n      <td>92872.289062</td>\n    </tr>\n    <tr>\n      <th>min</th>\n      <td>0.000000</td>\n      <td>1.136719</td>\n      <td>0.370605</td>\n      <td>0.000000</td>\n      <td>1.000000</td>\n      <td>0.000000</td>\n      <td>1.910000e+03</td>\n      <td>0.000000</td>\n      <td>0.000000</td>\n      <td>168.000000</td>\n      <td>0.000000</td>\n      <td>0.000000</td>\n      <td>0.000000</td>\n      <td>0.000000</td>\n      <td>59174.777344</td>\n    </tr>\n    <tr>\n      <th>25%</th>\n      <td>1.000000</td>\n      <td>41.781250</td>\n      <td>22.765625</td>\n      <td>1.000000</td>\n      <td>4.000000</td>\n      <td>9.000000</td>\n      <td>1.974000e+03</td>\n      <td>0.017654</td>\n      <td>6.000000</td>\n      <td>1564.000000</td>\n      <td>0.000000</td>\n      <td>350.000000</td>\n      <td>0.000000</td>\n      <td>1.000000</td>\n      <td>153872.628906</td>\n    </tr>\n    <tr>\n      <th>50%</th>\n      <td>2.000000</td>\n      <td>52.500000</td>\n      <td>32.781250</td>\n      <td>6.000000</td>\n      <td>7.000000</td>\n      <td>13.000000</td>\n      <td>1.977000e+03</td>\n      <td>0.075439</td>\n      <td>25.000000</td>\n      <td>5285.000000</td>\n      <td>2.000000</td>\n      <td>900.000000</td>\n      <td>1.000000</td>\n      <td>3.000000</td>\n      <td>192269.648438</td>\n    </tr>\n    <tr>\n      <th>75%</th>\n      <td>2.000000</td>\n      <td>65.875000</td>\n      <td>45.125000</td>\n      <td>9.000000</td>\n      <td>12.000000</td>\n      <td>17.000000</td>\n      <td>2.001000e+03</td>\n      <td>0.195801</td>\n      <td>36.000000</td>\n      <td>7227.000000</td>\n      <td>5.000000</td>\n      <td>1548.000000</td>\n      <td>2.000000</td>\n      <td>6.000000</td>\n      <td>249135.460938</td>\n    </tr>\n    <tr>\n      <th>max</th>\n      <td>19.000000</td>\n      <td>641.000000</td>\n      <td>7480.000000</td>\n      <td>2014.000000</td>\n      <td>42.000000</td>\n      <td>117.000000</td>\n      <td>2.005201e+07</td>\n      <td>0.521973</td>\n      <td>74.000000</td>\n      <td>19083.000000</td>\n      <td>141.000000</td>\n      <td>4848.000000</td>\n      <td>6.000000</td>\n      <td>23.000000</td>\n      <td>633233.437500</td>\n    </tr>\n  </tbody>\n</table>\n</div>"
     },
     "execution_count": 17,
     "metadata": {},
     "output_type": "execute_result"
    }
   ],
   "source": [
    "df_train.describe()"
   ],
   "metadata": {
    "collapsed": false,
    "pycharm": {
     "name": "#%%\n"
    }
   }
  },
  {
   "cell_type": "code",
   "execution_count": 20,
   "outputs": [
    {
     "data": {
      "text/plain": "['Id', 'DistrictId']"
     },
     "execution_count": 20,
     "metadata": {},
     "output_type": "execute_result"
    }
   ],
   "source": [
    "df_train.select_dtypes(include=object).columns.tolist()"
   ],
   "metadata": {
    "collapsed": false,
    "pycharm": {
     "name": "#%%\n"
    }
   }
  },
  {
   "cell_type": "code",
   "execution_count": 43,
   "outputs": [
    {
     "data": {
      "text/plain": "2.0     3880\n1.0     3705\n3.0     2235\n4.0      150\n5.0       18\n0.0        8\n10.0       2\n19.0       1\n6.0        1\nName: Rooms, dtype: int64"
     },
     "execution_count": 43,
     "metadata": {},
     "output_type": "execute_result"
    }
   ],
   "source": [
    "df_train['Rooms'].value_counts()"
   ],
   "metadata": {
    "collapsed": false,
    "pycharm": {
     "name": "#%%\n"
    }
   }
  },
  {
   "cell_type": "code",
   "execution_count": null,
   "outputs": [],
   "source": [
    "df_train['KitchenSquare'].value_counts()"
   ],
   "metadata": {
    "collapsed": false,
    "pycharm": {
     "name": "#%%\n"
    }
   }
  },
  {
   "cell_type": "code",
   "execution_count": 57,
   "outputs": [
    {
     "data": {
      "text/plain": "array([  0.,   1.,   2.,   3.,   4.,   5.,   6.,   7.,   8.,   9.,  10.,\n        11.,  12.,  13.,  14.,  15.,  16.,  17.,  18.,  19.,  20.,  21.,\n        22.,  23.,  24.,  25.,  26.,  27.,  28.,  29.,  30.,  31.,  32.,\n        36.,  37.,  38.,  39.,  40.,  44.,  45.,  47.,  48.,  99., 117.])"
     },
     "execution_count": 57,
     "metadata": {},
     "output_type": "execute_result"
    }
   ],
   "source": [
    "df_train['HouseFloor'].sort_values().unique()"
   ],
   "metadata": {
    "collapsed": false,
    "pycharm": {
     "name": "#%%\n"
    }
   }
  },
  {
   "cell_type": "code",
   "execution_count": 58,
   "outputs": [
    {
     "data": {
      "text/plain": "4     949\n5     876\n3     871\n6     802\n7     759\n8     643\n9     604\n2     591\n10    553\n11    457\n12    438\n13    398\n14    362\n16    290\n15    287\n17    255\n1     235\n18    185\n19    121\n20     68\n21     59\n24     53\n22     53\n25     34\n23     25\n26     18\n27      5\n28      3\n32      2\n31      1\n33      1\n42      1\n37      1\nName: Floor, dtype: int64"
     },
     "execution_count": 58,
     "metadata": {},
     "output_type": "execute_result"
    }
   ],
   "source": [
    "df_train['Floor'].value_counts()"
   ],
   "metadata": {
    "collapsed": false,
    "pycharm": {
     "name": "#%%\n"
    }
   }
  },
  {
   "cell_type": "code",
   "execution_count": 113,
   "outputs": [
    {
     "name": "stdout",
     "output_type": "stream",
     "text": [
      "<class 'pandas.core.frame.DataFrame'>\n",
      "RangeIndex: 10000 entries, 0 to 9999\n",
      "Data columns (total 23 columns):\n",
      " #   Column              Non-Null Count  Dtype  \n",
      "---  ------              --------------  -----  \n",
      " 0   Id                  10000 non-null  object \n",
      " 1   DistrictId          10000 non-null  object \n",
      " 2   Rooms               10000 non-null  float64\n",
      " 3   Square              10000 non-null  float64\n",
      " 4   LifeSquare          10000 non-null  float64\n",
      " 5   KitchenSquare       10000 non-null  float64\n",
      " 6   Floor               10000 non-null  int64  \n",
      " 7   HouseFloor          10000 non-null  float64\n",
      " 8   HouseYear           10000 non-null  int64  \n",
      " 9   Ecology_1           10000 non-null  float64\n",
      " 10  Ecology_2           10000 non-null  object \n",
      " 11  Ecology_3           10000 non-null  object \n",
      " 12  Social_1            10000 non-null  int64  \n",
      " 13  Social_2            10000 non-null  int64  \n",
      " 14  Social_3            10000 non-null  int64  \n",
      " 15  Healthcare_1        5204 non-null   float64\n",
      " 16  Helthcare_2         10000 non-null  int64  \n",
      " 17  Shops_1             10000 non-null  int64  \n",
      " 18  Shops_2             10000 non-null  object \n",
      " 19  Price               10000 non-null  float64\n",
      " 20  Rooms_outlier       10000 non-null  int64  \n",
      " 21  HouseFloor_outlier  10000 non-null  int64  \n",
      " 22  LifeSquare_none     10000 non-null  int32  \n",
      "dtypes: float64(8), int32(1), int64(9), object(5)\n",
      "memory usage: 1.7+ MB\n"
     ]
    }
   ],
   "source": [
    "df_train.info()"
   ],
   "metadata": {
    "collapsed": false,
    "pycharm": {
     "name": "#%%\n"
    }
   }
  },
  {
   "cell_type": "markdown",
   "source": [
    "***\n",
    "### Conclusion"
   ],
   "metadata": {
    "collapsed": false,
    "pycharm": {
     "name": "#%% md\n"
    }
   }
  },
  {
   "cell_type": "code",
   "execution_count": 558,
   "outputs": [
    {
     "data": {
      "text/plain": "         Id DistrictId  Rooms     Square  LifeSquare  KitchenSquare  Floor  \\\n0      4567         44    1.0  36.847630   19.094182            5.0      5   \n1      5925         62    1.0  42.493907   42.568133           10.0      7   \n2       960         27    2.0  59.463678   50.463678            9.0     19   \n3      3848         23    3.0  49.646030   33.893825            6.0      2   \n4       746         74    1.0  53.837056   50.837056            3.0      8   \n...     ...        ...    ...        ...         ...            ...    ...   \n4995  10379         29    2.0  43.177521   30.339945            5.0      4   \n4996  16138         38    3.0  93.698122   94.521465           10.0     21   \n4997   3912        101    1.0  33.656723   19.003259            5.0      2   \n4998   5722         10    1.0  38.635155   20.976257            9.0      8   \n4999  11004         21    2.0  67.122742   33.944344           13.0      9   \n\n      HouseFloor  HouseYear  Ecology_1 Ecology_2 Ecology_3  Social_1  \\\n0            9.0       1970   0.036122         B         B        24   \n1           17.0       2017   0.072158         B         B         2   \n2           19.0       1977   0.211401         B         B         9   \n3            2.0       1965   0.014073         B         B         2   \n4           17.0       1977   0.309479         B         B        35   \n...          ...        ...        ...       ...       ...       ...   \n4995         5.0       1962   0.069660         B         B        31   \n4996        27.0       2018   0.060753         B         B        15   \n4997         5.0       1966   0.038693         B         B        28   \n4998        14.0       1970   0.089040         B         B        33   \n4999        17.0       2009   0.194489         B         B        47   \n\n      Social_2  Social_3  Healthcare_1  Helthcare_2  Shops_1 Shops_2  \\\n0         4378         0        1036.0            1        1       B   \n1          629         1           NaN            0        0       A   \n2         1892         0           NaN            0        1       B   \n3          475         0           NaN            0        0       B   \n4         7715         4         990.0            0        6       B   \n...        ...       ...           ...          ...      ...     ...   \n4995      6119         4           NaN            1        2       B   \n4996      2787         2         520.0            0        7       B   \n4997      6533         1        1015.0            2        5       B   \n4998      7976         5           NaN            0       11       B   \n4999      8004         3         125.0            3        5       B   \n\n      Rooms_outlier  HouseFloor_outlier  \n0                 0                   0  \n1                 0                   0  \n2                 0                   0  \n3                 0                   0  \n4                 0                   0  \n...             ...                 ...  \n4995              0                   1  \n4996              0                   0  \n4997              0                   0  \n4998              0                   0  \n4999              0                   0  \n\n[5000 rows x 21 columns]",
      "text/html": "<div>\n<style scoped>\n    .dataframe tbody tr th:only-of-type {\n        vertical-align: middle;\n    }\n\n    .dataframe tbody tr th {\n        vertical-align: top;\n    }\n\n    .dataframe thead th {\n        text-align: right;\n    }\n</style>\n<table border=\"1\" class=\"dataframe\">\n  <thead>\n    <tr style=\"text-align: right;\">\n      <th></th>\n      <th>Id</th>\n      <th>DistrictId</th>\n      <th>Rooms</th>\n      <th>Square</th>\n      <th>LifeSquare</th>\n      <th>KitchenSquare</th>\n      <th>Floor</th>\n      <th>HouseFloor</th>\n      <th>HouseYear</th>\n      <th>Ecology_1</th>\n      <th>Ecology_2</th>\n      <th>Ecology_3</th>\n      <th>Social_1</th>\n      <th>Social_2</th>\n      <th>Social_3</th>\n      <th>Healthcare_1</th>\n      <th>Helthcare_2</th>\n      <th>Shops_1</th>\n      <th>Shops_2</th>\n      <th>Rooms_outlier</th>\n      <th>HouseFloor_outlier</th>\n    </tr>\n  </thead>\n  <tbody>\n    <tr>\n      <th>0</th>\n      <td>4567</td>\n      <td>44</td>\n      <td>1.0</td>\n      <td>36.847630</td>\n      <td>19.094182</td>\n      <td>5.0</td>\n      <td>5</td>\n      <td>9.0</td>\n      <td>1970</td>\n      <td>0.036122</td>\n      <td>B</td>\n      <td>B</td>\n      <td>24</td>\n      <td>4378</td>\n      <td>0</td>\n      <td>1036.0</td>\n      <td>1</td>\n      <td>1</td>\n      <td>B</td>\n      <td>0</td>\n      <td>0</td>\n    </tr>\n    <tr>\n      <th>1</th>\n      <td>5925</td>\n      <td>62</td>\n      <td>1.0</td>\n      <td>42.493907</td>\n      <td>42.568133</td>\n      <td>10.0</td>\n      <td>7</td>\n      <td>17.0</td>\n      <td>2017</td>\n      <td>0.072158</td>\n      <td>B</td>\n      <td>B</td>\n      <td>2</td>\n      <td>629</td>\n      <td>1</td>\n      <td>NaN</td>\n      <td>0</td>\n      <td>0</td>\n      <td>A</td>\n      <td>0</td>\n      <td>0</td>\n    </tr>\n    <tr>\n      <th>2</th>\n      <td>960</td>\n      <td>27</td>\n      <td>2.0</td>\n      <td>59.463678</td>\n      <td>50.463678</td>\n      <td>9.0</td>\n      <td>19</td>\n      <td>19.0</td>\n      <td>1977</td>\n      <td>0.211401</td>\n      <td>B</td>\n      <td>B</td>\n      <td>9</td>\n      <td>1892</td>\n      <td>0</td>\n      <td>NaN</td>\n      <td>0</td>\n      <td>1</td>\n      <td>B</td>\n      <td>0</td>\n      <td>0</td>\n    </tr>\n    <tr>\n      <th>3</th>\n      <td>3848</td>\n      <td>23</td>\n      <td>3.0</td>\n      <td>49.646030</td>\n      <td>33.893825</td>\n      <td>6.0</td>\n      <td>2</td>\n      <td>2.0</td>\n      <td>1965</td>\n      <td>0.014073</td>\n      <td>B</td>\n      <td>B</td>\n      <td>2</td>\n      <td>475</td>\n      <td>0</td>\n      <td>NaN</td>\n      <td>0</td>\n      <td>0</td>\n      <td>B</td>\n      <td>0</td>\n      <td>0</td>\n    </tr>\n    <tr>\n      <th>4</th>\n      <td>746</td>\n      <td>74</td>\n      <td>1.0</td>\n      <td>53.837056</td>\n      <td>50.837056</td>\n      <td>3.0</td>\n      <td>8</td>\n      <td>17.0</td>\n      <td>1977</td>\n      <td>0.309479</td>\n      <td>B</td>\n      <td>B</td>\n      <td>35</td>\n      <td>7715</td>\n      <td>4</td>\n      <td>990.0</td>\n      <td>0</td>\n      <td>6</td>\n      <td>B</td>\n      <td>0</td>\n      <td>0</td>\n    </tr>\n    <tr>\n      <th>...</th>\n      <td>...</td>\n      <td>...</td>\n      <td>...</td>\n      <td>...</td>\n      <td>...</td>\n      <td>...</td>\n      <td>...</td>\n      <td>...</td>\n      <td>...</td>\n      <td>...</td>\n      <td>...</td>\n      <td>...</td>\n      <td>...</td>\n      <td>...</td>\n      <td>...</td>\n      <td>...</td>\n      <td>...</td>\n      <td>...</td>\n      <td>...</td>\n      <td>...</td>\n      <td>...</td>\n    </tr>\n    <tr>\n      <th>4995</th>\n      <td>10379</td>\n      <td>29</td>\n      <td>2.0</td>\n      <td>43.177521</td>\n      <td>30.339945</td>\n      <td>5.0</td>\n      <td>4</td>\n      <td>5.0</td>\n      <td>1962</td>\n      <td>0.069660</td>\n      <td>B</td>\n      <td>B</td>\n      <td>31</td>\n      <td>6119</td>\n      <td>4</td>\n      <td>NaN</td>\n      <td>1</td>\n      <td>2</td>\n      <td>B</td>\n      <td>0</td>\n      <td>1</td>\n    </tr>\n    <tr>\n      <th>4996</th>\n      <td>16138</td>\n      <td>38</td>\n      <td>3.0</td>\n      <td>93.698122</td>\n      <td>94.521465</td>\n      <td>10.0</td>\n      <td>21</td>\n      <td>27.0</td>\n      <td>2018</td>\n      <td>0.060753</td>\n      <td>B</td>\n      <td>B</td>\n      <td>15</td>\n      <td>2787</td>\n      <td>2</td>\n      <td>520.0</td>\n      <td>0</td>\n      <td>7</td>\n      <td>B</td>\n      <td>0</td>\n      <td>0</td>\n    </tr>\n    <tr>\n      <th>4997</th>\n      <td>3912</td>\n      <td>101</td>\n      <td>1.0</td>\n      <td>33.656723</td>\n      <td>19.003259</td>\n      <td>5.0</td>\n      <td>2</td>\n      <td>5.0</td>\n      <td>1966</td>\n      <td>0.038693</td>\n      <td>B</td>\n      <td>B</td>\n      <td>28</td>\n      <td>6533</td>\n      <td>1</td>\n      <td>1015.0</td>\n      <td>2</td>\n      <td>5</td>\n      <td>B</td>\n      <td>0</td>\n      <td>0</td>\n    </tr>\n    <tr>\n      <th>4998</th>\n      <td>5722</td>\n      <td>10</td>\n      <td>1.0</td>\n      <td>38.635155</td>\n      <td>20.976257</td>\n      <td>9.0</td>\n      <td>8</td>\n      <td>14.0</td>\n      <td>1970</td>\n      <td>0.089040</td>\n      <td>B</td>\n      <td>B</td>\n      <td>33</td>\n      <td>7976</td>\n      <td>5</td>\n      <td>NaN</td>\n      <td>0</td>\n      <td>11</td>\n      <td>B</td>\n      <td>0</td>\n      <td>0</td>\n    </tr>\n    <tr>\n      <th>4999</th>\n      <td>11004</td>\n      <td>21</td>\n      <td>2.0</td>\n      <td>67.122742</td>\n      <td>33.944344</td>\n      <td>13.0</td>\n      <td>9</td>\n      <td>17.0</td>\n      <td>2009</td>\n      <td>0.194489</td>\n      <td>B</td>\n      <td>B</td>\n      <td>47</td>\n      <td>8004</td>\n      <td>3</td>\n      <td>125.0</td>\n      <td>3</td>\n      <td>5</td>\n      <td>B</td>\n      <td>0</td>\n      <td>0</td>\n    </tr>\n  </tbody>\n</table>\n<p>5000 rows × 21 columns</p>\n</div>"
     },
     "execution_count": 558,
     "metadata": {},
     "output_type": "execute_result"
    }
   ],
   "source": [
    "class DataPreprocessing:\n",
    "    def __init__(self):\n",
    "        self.median = None\n",
    "        self.quantile_kitchen_square_975 = None\n",
    "\n",
    "    def transform_df(self, df):\n",
    "        df = self.room_preprocessing(df)\n",
    "        df = self.kitchen_preprocessing(df)\n",
    "        df = self.house_floor_preprocessing(df)\n",
    "        df = self.floor_preprocessing(df)\n",
    "        df = self.house_year_preprocessing(df)\n",
    "        df = self.life_square_preprocessing(df)\n",
    "        return df\n",
    "\n",
    "    def fit_median_quantile(self, df):\n",
    "        self.median = df.median()\n",
    "        self.quantile_kitchen_square_975 = df['KitchenSquare'].quantile(0.975)\n",
    "\n",
    "    @staticmethod\n",
    "    def data_astype(df):\n",
    "        df['Id'] = df['Id'].astype(str)\n",
    "        df['DistrictId'] = df['DistrictId'].astype(str)\n",
    "        return df\n",
    "\n",
    "    def room_preprocessing(self, df):\n",
    "        df = self.room_outlier(df)\n",
    "        df.loc[df_train['Rooms'] == 0, 'Rooms'] = 1\n",
    "        df.loc[df_train['Rooms'] > 6, 'Rooms'] = df['Rooms'].median()\n",
    "        return df\n",
    "\n",
    "    def kitchen_preprocessing(self, df):\n",
    "        filter = (df['KitchenSquare'] > self.quantile_kitchen_square_975) |\\\n",
    "                 (df['KitchenSquare'].isna())\n",
    "\n",
    "        df.loc[filter, 'KitchenSquare'] = self.median['KitchenSquare']\n",
    "        df.loc[df['KitchenSquare'] < 3, 'KitchenSquare'] = 3\n",
    "        return df\n",
    "\n",
    "    def house_floor_preprocessing(self, df):\n",
    "        df = self.house_floor_outlier(df)\n",
    "        df.loc[(df['HouseFloor'] == 0) |\n",
    "                    (df['HouseFloor'] > 95), 'HouseFloor'] = self.median['HouseFloor']\n",
    "        return df\n",
    "\n",
    "    def floor_preprocessing(self, df):\n",
    "        floor_outlier_index = df.loc[df['Floor'] > df['HouseFloor']].index\n",
    "\n",
    "        df.loc[floor_outlier_index, 'Floor'] = df.loc[floor_outlier_index, 'HouseFloor']\\\n",
    "            .apply(lambda x: random.randint(1, x))\n",
    "        return df\n",
    "\n",
    "    def house_year_preprocessing(self, df):\n",
    "        curent_data = datetime.datetime.now().year\n",
    "\n",
    "        df.loc[df['HouseYear'] > curent_data, 'HouseYear'] = curent_data\n",
    "        return df\n",
    "\n",
    "    def life_square_preprocessing(self, df):\n",
    "        life_square_condition = (df['LifeSquare'].isna()) &\\\n",
    "                        (~df['Square'].isna()) &\\\n",
    "                        (~df['KitchenSquare'].isna())\n",
    "\n",
    "        df.loc[life_square_condition, 'LifeSquare'] = df.loc[life_square_condition, 'Square'] -\\\n",
    "                                                    df.loc[life_square_condition, 'KitchenSquare']\n",
    "        return df\n",
    "\n",
    "    def room_outlier(self, df):\n",
    "        df['Rooms_outlier'] = 0\n",
    "        df.loc[(df['Rooms'] == 0) | (df['Rooms'] > 6), 'Rooms_outlier'] = 1\n",
    "        return df\n",
    "\n",
    "    def house_floor_outlier(self, df):\n",
    "        df['HouseFloor_outlier'] = 0\n",
    "        df.loc[df['HouseFloor'] == 0, 'HouseFloor_outlier'] = 1\n",
    "        df.loc[df['HouseFloor'] < df['Floor'], 'HouseFloor_outlier'] = 1\n",
    "        return df\n",
    "\n",
    "data_preprocessing = DataPreprocessing()\n",
    "data_preprocessing.fit_median_quantile(df_train)\n",
    "data_preprocessing.transform_df(df_train)\n",
    "data_preprocessing.transform_df(df_test)\n",
    "\n",
    "data_preprocessing.data_astype(df_train)\n",
    "data_preprocessing.data_astype(df_test)"
   ],
   "metadata": {
    "collapsed": false,
    "pycharm": {
     "name": "#%%\n"
    }
   }
  },
  {
   "cell_type": "code",
   "execution_count": 560,
   "outputs": [
    {
     "data": {
      "text/plain": "         Id DistrictId  Rooms      Square  LifeSquare  KitchenSquare  Floor  \\\n0     11809         27    3.0  115.027311  105.027311           10.0      4   \n1      3013         22    1.0   39.832524   23.169223            8.0      7   \n2      8215          1    3.0   78.342215   47.671972           10.0      2   \n3      2352          1    1.0   40.409907   37.409907            3.0     10   \n4     13866         94    2.0   64.285067   38.562517            9.0     16   \n...     ...        ...    ...         ...         ...            ...    ...   \n9995   1260         61    2.0   49.090728   33.272626            6.0      3   \n9996  16265         27    2.0   64.307684   37.038420            9.0     13   \n9997   2795        178    1.0   29.648057   16.555363            5.0      3   \n9998  14561         21    1.0   32.330292   22.326870            5.0      3   \n9999   7202         94    1.0   35.815476   22.301367            6.0      9   \n\n      HouseFloor  HouseYear  Ecology_1 Ecology_2 Ecology_3  Social_1  \\\n0           10.0       2014   0.075424         B         B        11   \n1            8.0       1966   0.118537         B         B        30   \n2           17.0       1988   0.025609         B         B        33   \n3           22.0       1977   0.007122         B         B         1   \n4           16.0       1972   0.282798         B         B        33   \n...          ...        ...        ...       ...       ...       ...   \n9995        12.0       1981   0.300323         B         B        52   \n9996        13.0       1977   0.072158         B         B         2   \n9997         5.0       1958   0.460556         B         B        20   \n9998         9.0       1969   0.194489         B         B        47   \n9999         9.0       1975   0.127376         B         B        43   \n\n      Social_2  Social_3  Healthcare_1  Helthcare_2  Shops_1 Shops_2  \\\n0         3097         0           NaN            0        0       B   \n1         6207         1        1183.0            1        0       B   \n2         5261         0         240.0            3        1       B   \n3          264         0           NaN            0        1       B   \n4         8667         2           NaN            0        6       B   \n...        ...       ...           ...          ...      ...     ...   \n9995     10311         6           NaN            1        9       B   \n9996       629         1           NaN            0        0       A   \n9997      4386        14           NaN            1        5       B   \n9998      8004         3         125.0            3        5       B   \n9999      8429         3           NaN            3        9       B   \n\n              Price  Rooms_outlier  HouseFloor_outlier  \n0     305018.871089              0                   0  \n1     177734.553407              0                   0  \n2     282078.720850              0                   0  \n3     168106.007630              0                   0  \n4     343995.102962              0                   0  \n...             ...            ...                 ...  \n9995  119367.455796              0                   0  \n9996  199715.148807              0                   1  \n9997  165953.912580              0                   0  \n9998  171842.411855              0                   0  \n9999  177685.627486              0                   0  \n\n[10000 rows x 22 columns]",
      "text/html": "<div>\n<style scoped>\n    .dataframe tbody tr th:only-of-type {\n        vertical-align: middle;\n    }\n\n    .dataframe tbody tr th {\n        vertical-align: top;\n    }\n\n    .dataframe thead th {\n        text-align: right;\n    }\n</style>\n<table border=\"1\" class=\"dataframe\">\n  <thead>\n    <tr style=\"text-align: right;\">\n      <th></th>\n      <th>Id</th>\n      <th>DistrictId</th>\n      <th>Rooms</th>\n      <th>Square</th>\n      <th>LifeSquare</th>\n      <th>KitchenSquare</th>\n      <th>Floor</th>\n      <th>HouseFloor</th>\n      <th>HouseYear</th>\n      <th>Ecology_1</th>\n      <th>Ecology_2</th>\n      <th>Ecology_3</th>\n      <th>Social_1</th>\n      <th>Social_2</th>\n      <th>Social_3</th>\n      <th>Healthcare_1</th>\n      <th>Helthcare_2</th>\n      <th>Shops_1</th>\n      <th>Shops_2</th>\n      <th>Price</th>\n      <th>Rooms_outlier</th>\n      <th>HouseFloor_outlier</th>\n    </tr>\n  </thead>\n  <tbody>\n    <tr>\n      <th>0</th>\n      <td>11809</td>\n      <td>27</td>\n      <td>3.0</td>\n      <td>115.027311</td>\n      <td>105.027311</td>\n      <td>10.0</td>\n      <td>4</td>\n      <td>10.0</td>\n      <td>2014</td>\n      <td>0.075424</td>\n      <td>B</td>\n      <td>B</td>\n      <td>11</td>\n      <td>3097</td>\n      <td>0</td>\n      <td>NaN</td>\n      <td>0</td>\n      <td>0</td>\n      <td>B</td>\n      <td>305018.871089</td>\n      <td>0</td>\n      <td>0</td>\n    </tr>\n    <tr>\n      <th>1</th>\n      <td>3013</td>\n      <td>22</td>\n      <td>1.0</td>\n      <td>39.832524</td>\n      <td>23.169223</td>\n      <td>8.0</td>\n      <td>7</td>\n      <td>8.0</td>\n      <td>1966</td>\n      <td>0.118537</td>\n      <td>B</td>\n      <td>B</td>\n      <td>30</td>\n      <td>6207</td>\n      <td>1</td>\n      <td>1183.0</td>\n      <td>1</td>\n      <td>0</td>\n      <td>B</td>\n      <td>177734.553407</td>\n      <td>0</td>\n      <td>0</td>\n    </tr>\n    <tr>\n      <th>2</th>\n      <td>8215</td>\n      <td>1</td>\n      <td>3.0</td>\n      <td>78.342215</td>\n      <td>47.671972</td>\n      <td>10.0</td>\n      <td>2</td>\n      <td>17.0</td>\n      <td>1988</td>\n      <td>0.025609</td>\n      <td>B</td>\n      <td>B</td>\n      <td>33</td>\n      <td>5261</td>\n      <td>0</td>\n      <td>240.0</td>\n      <td>3</td>\n      <td>1</td>\n      <td>B</td>\n      <td>282078.720850</td>\n      <td>0</td>\n      <td>0</td>\n    </tr>\n    <tr>\n      <th>3</th>\n      <td>2352</td>\n      <td>1</td>\n      <td>1.0</td>\n      <td>40.409907</td>\n      <td>37.409907</td>\n      <td>3.0</td>\n      <td>10</td>\n      <td>22.0</td>\n      <td>1977</td>\n      <td>0.007122</td>\n      <td>B</td>\n      <td>B</td>\n      <td>1</td>\n      <td>264</td>\n      <td>0</td>\n      <td>NaN</td>\n      <td>0</td>\n      <td>1</td>\n      <td>B</td>\n      <td>168106.007630</td>\n      <td>0</td>\n      <td>0</td>\n    </tr>\n    <tr>\n      <th>4</th>\n      <td>13866</td>\n      <td>94</td>\n      <td>2.0</td>\n      <td>64.285067</td>\n      <td>38.562517</td>\n      <td>9.0</td>\n      <td>16</td>\n      <td>16.0</td>\n      <td>1972</td>\n      <td>0.282798</td>\n      <td>B</td>\n      <td>B</td>\n      <td>33</td>\n      <td>8667</td>\n      <td>2</td>\n      <td>NaN</td>\n      <td>0</td>\n      <td>6</td>\n      <td>B</td>\n      <td>343995.102962</td>\n      <td>0</td>\n      <td>0</td>\n    </tr>\n    <tr>\n      <th>...</th>\n      <td>...</td>\n      <td>...</td>\n      <td>...</td>\n      <td>...</td>\n      <td>...</td>\n      <td>...</td>\n      <td>...</td>\n      <td>...</td>\n      <td>...</td>\n      <td>...</td>\n      <td>...</td>\n      <td>...</td>\n      <td>...</td>\n      <td>...</td>\n      <td>...</td>\n      <td>...</td>\n      <td>...</td>\n      <td>...</td>\n      <td>...</td>\n      <td>...</td>\n      <td>...</td>\n      <td>...</td>\n    </tr>\n    <tr>\n      <th>9995</th>\n      <td>1260</td>\n      <td>61</td>\n      <td>2.0</td>\n      <td>49.090728</td>\n      <td>33.272626</td>\n      <td>6.0</td>\n      <td>3</td>\n      <td>12.0</td>\n      <td>1981</td>\n      <td>0.300323</td>\n      <td>B</td>\n      <td>B</td>\n      <td>52</td>\n      <td>10311</td>\n      <td>6</td>\n      <td>NaN</td>\n      <td>1</td>\n      <td>9</td>\n      <td>B</td>\n      <td>119367.455796</td>\n      <td>0</td>\n      <td>0</td>\n    </tr>\n    <tr>\n      <th>9996</th>\n      <td>16265</td>\n      <td>27</td>\n      <td>2.0</td>\n      <td>64.307684</td>\n      <td>37.038420</td>\n      <td>9.0</td>\n      <td>13</td>\n      <td>13.0</td>\n      <td>1977</td>\n      <td>0.072158</td>\n      <td>B</td>\n      <td>B</td>\n      <td>2</td>\n      <td>629</td>\n      <td>1</td>\n      <td>NaN</td>\n      <td>0</td>\n      <td>0</td>\n      <td>A</td>\n      <td>199715.148807</td>\n      <td>0</td>\n      <td>1</td>\n    </tr>\n    <tr>\n      <th>9997</th>\n      <td>2795</td>\n      <td>178</td>\n      <td>1.0</td>\n      <td>29.648057</td>\n      <td>16.555363</td>\n      <td>5.0</td>\n      <td>3</td>\n      <td>5.0</td>\n      <td>1958</td>\n      <td>0.460556</td>\n      <td>B</td>\n      <td>B</td>\n      <td>20</td>\n      <td>4386</td>\n      <td>14</td>\n      <td>NaN</td>\n      <td>1</td>\n      <td>5</td>\n      <td>B</td>\n      <td>165953.912580</td>\n      <td>0</td>\n      <td>0</td>\n    </tr>\n    <tr>\n      <th>9998</th>\n      <td>14561</td>\n      <td>21</td>\n      <td>1.0</td>\n      <td>32.330292</td>\n      <td>22.326870</td>\n      <td>5.0</td>\n      <td>3</td>\n      <td>9.0</td>\n      <td>1969</td>\n      <td>0.194489</td>\n      <td>B</td>\n      <td>B</td>\n      <td>47</td>\n      <td>8004</td>\n      <td>3</td>\n      <td>125.0</td>\n      <td>3</td>\n      <td>5</td>\n      <td>B</td>\n      <td>171842.411855</td>\n      <td>0</td>\n      <td>0</td>\n    </tr>\n    <tr>\n      <th>9999</th>\n      <td>7202</td>\n      <td>94</td>\n      <td>1.0</td>\n      <td>35.815476</td>\n      <td>22.301367</td>\n      <td>6.0</td>\n      <td>9</td>\n      <td>9.0</td>\n      <td>1975</td>\n      <td>0.127376</td>\n      <td>B</td>\n      <td>B</td>\n      <td>43</td>\n      <td>8429</td>\n      <td>3</td>\n      <td>NaN</td>\n      <td>3</td>\n      <td>9</td>\n      <td>B</td>\n      <td>177685.627486</td>\n      <td>0</td>\n      <td>0</td>\n    </tr>\n  </tbody>\n</table>\n<p>10000 rows × 22 columns</p>\n</div>"
     },
     "execution_count": 560,
     "metadata": {},
     "output_type": "execute_result"
    }
   ],
   "source": [
    "# df_train\n",
    "df_test"
   ],
   "metadata": {
    "collapsed": false,
    "pycharm": {
     "name": "#%%\n"
    }
   }
  },
  {
   "cell_type": "code",
   "execution_count": 440,
   "outputs": [
    {
     "data": {
      "text/plain": "                Id    DistrictId         Rooms        Square    LifeSquare  \\\ncount  10000.00000  10000.000000  10000.000000  10000.000000  10000.000000   \nmean    8383.40770     50.400800      1.888000     56.315775     41.368574   \nstd     4859.01902     43.587592      0.812479     21.058732     77.727715   \nmin        0.00000      0.000000      1.000000      1.136859      0.370619   \n25%     4169.50000     20.000000      1.000000     41.774881     25.470423   \n50%     8394.50000     36.000000      2.000000     52.513310     36.555426   \n75%    12592.50000     75.000000      2.000000     65.900625     49.388022   \nmax    16798.00000    209.000000      6.000000    641.065193   7480.592129   \n\n       KitchenSquare         Floor    HouseFloor     HouseYear     Ecology_1  \\\ncount   10000.000000  10000.000000  10000.000000  10000.000000  10000.000000   \nmean        6.238200      7.416200     12.931500   1984.872800      0.118858   \nstd         2.794717      5.039436      6.241322     18.417132      0.119025   \nmin         3.000000      1.000000      1.000000   1910.000000      0.000000   \n25%         3.000000      3.000000      9.000000   1974.000000      0.017647   \n50%         6.000000      6.000000     13.000000   1977.000000      0.075424   \n75%         8.000000     11.000000     17.000000   2001.000000      0.195781   \nmax        13.000000     42.000000     48.000000   2022.000000      0.521867   \n\n           Social_1      Social_2      Social_3  Healthcare_1   Helthcare_2  \\\ncount  10000.000000  10000.000000  10000.000000   5202.000000  10000.000000   \nmean      24.687000   5352.157400      8.039200   1142.904460      1.319500   \nstd       17.532614   4006.799803     23.831875   1021.517264      1.493601   \nmin        0.000000    168.000000      0.000000      0.000000      0.000000   \n25%        6.000000   1564.000000      0.000000    350.000000      0.000000   \n50%       25.000000   5285.000000      2.000000    900.000000      1.000000   \n75%       36.000000   7227.000000      5.000000   1548.000000      2.000000   \nmax       74.000000  19083.000000    141.000000   4849.000000      6.000000   \n\n            Shops_1          Price  Rooms_outlier  HouseFloor_outlier  \ncount  10000.000000   10000.000000    10000.00000        10000.000000  \nmean       4.231300  214138.857399        0.00110            0.182500  \nstd        4.806341   92872.293865        0.03315            0.386275  \nmin        0.000000   59174.778028        0.00000            0.000000  \n25%        1.000000  153872.633942        0.00000            0.000000  \n50%        3.000000  192269.644879        0.00000            0.000000  \n75%        6.000000  249135.462171        0.00000            0.000000  \nmax       23.000000  633233.466570        1.00000            1.000000  ",
      "text/html": "<div>\n<style scoped>\n    .dataframe tbody tr th:only-of-type {\n        vertical-align: middle;\n    }\n\n    .dataframe tbody tr th {\n        vertical-align: top;\n    }\n\n    .dataframe thead th {\n        text-align: right;\n    }\n</style>\n<table border=\"1\" class=\"dataframe\">\n  <thead>\n    <tr style=\"text-align: right;\">\n      <th></th>\n      <th>Id</th>\n      <th>DistrictId</th>\n      <th>Rooms</th>\n      <th>Square</th>\n      <th>LifeSquare</th>\n      <th>KitchenSquare</th>\n      <th>Floor</th>\n      <th>HouseFloor</th>\n      <th>HouseYear</th>\n      <th>Ecology_1</th>\n      <th>Social_1</th>\n      <th>Social_2</th>\n      <th>Social_3</th>\n      <th>Healthcare_1</th>\n      <th>Helthcare_2</th>\n      <th>Shops_1</th>\n      <th>Price</th>\n      <th>Rooms_outlier</th>\n      <th>HouseFloor_outlier</th>\n    </tr>\n  </thead>\n  <tbody>\n    <tr>\n      <th>count</th>\n      <td>10000.00000</td>\n      <td>10000.000000</td>\n      <td>10000.000000</td>\n      <td>10000.000000</td>\n      <td>10000.000000</td>\n      <td>10000.000000</td>\n      <td>10000.000000</td>\n      <td>10000.000000</td>\n      <td>10000.000000</td>\n      <td>10000.000000</td>\n      <td>10000.000000</td>\n      <td>10000.000000</td>\n      <td>10000.000000</td>\n      <td>5202.000000</td>\n      <td>10000.000000</td>\n      <td>10000.000000</td>\n      <td>10000.000000</td>\n      <td>10000.00000</td>\n      <td>10000.000000</td>\n    </tr>\n    <tr>\n      <th>mean</th>\n      <td>8383.40770</td>\n      <td>50.400800</td>\n      <td>1.888000</td>\n      <td>56.315775</td>\n      <td>41.368574</td>\n      <td>6.238200</td>\n      <td>7.416200</td>\n      <td>12.931500</td>\n      <td>1984.872800</td>\n      <td>0.118858</td>\n      <td>24.687000</td>\n      <td>5352.157400</td>\n      <td>8.039200</td>\n      <td>1142.904460</td>\n      <td>1.319500</td>\n      <td>4.231300</td>\n      <td>214138.857399</td>\n      <td>0.00110</td>\n      <td>0.182500</td>\n    </tr>\n    <tr>\n      <th>std</th>\n      <td>4859.01902</td>\n      <td>43.587592</td>\n      <td>0.812479</td>\n      <td>21.058732</td>\n      <td>77.727715</td>\n      <td>2.794717</td>\n      <td>5.039436</td>\n      <td>6.241322</td>\n      <td>18.417132</td>\n      <td>0.119025</td>\n      <td>17.532614</td>\n      <td>4006.799803</td>\n      <td>23.831875</td>\n      <td>1021.517264</td>\n      <td>1.493601</td>\n      <td>4.806341</td>\n      <td>92872.293865</td>\n      <td>0.03315</td>\n      <td>0.386275</td>\n    </tr>\n    <tr>\n      <th>min</th>\n      <td>0.00000</td>\n      <td>0.000000</td>\n      <td>1.000000</td>\n      <td>1.136859</td>\n      <td>0.370619</td>\n      <td>3.000000</td>\n      <td>1.000000</td>\n      <td>1.000000</td>\n      <td>1910.000000</td>\n      <td>0.000000</td>\n      <td>0.000000</td>\n      <td>168.000000</td>\n      <td>0.000000</td>\n      <td>0.000000</td>\n      <td>0.000000</td>\n      <td>0.000000</td>\n      <td>59174.778028</td>\n      <td>0.00000</td>\n      <td>0.000000</td>\n    </tr>\n    <tr>\n      <th>25%</th>\n      <td>4169.50000</td>\n      <td>20.000000</td>\n      <td>1.000000</td>\n      <td>41.774881</td>\n      <td>25.470423</td>\n      <td>3.000000</td>\n      <td>3.000000</td>\n      <td>9.000000</td>\n      <td>1974.000000</td>\n      <td>0.017647</td>\n      <td>6.000000</td>\n      <td>1564.000000</td>\n      <td>0.000000</td>\n      <td>350.000000</td>\n      <td>0.000000</td>\n      <td>1.000000</td>\n      <td>153872.633942</td>\n      <td>0.00000</td>\n      <td>0.000000</td>\n    </tr>\n    <tr>\n      <th>50%</th>\n      <td>8394.50000</td>\n      <td>36.000000</td>\n      <td>2.000000</td>\n      <td>52.513310</td>\n      <td>36.555426</td>\n      <td>6.000000</td>\n      <td>6.000000</td>\n      <td>13.000000</td>\n      <td>1977.000000</td>\n      <td>0.075424</td>\n      <td>25.000000</td>\n      <td>5285.000000</td>\n      <td>2.000000</td>\n      <td>900.000000</td>\n      <td>1.000000</td>\n      <td>3.000000</td>\n      <td>192269.644879</td>\n      <td>0.00000</td>\n      <td>0.000000</td>\n    </tr>\n    <tr>\n      <th>75%</th>\n      <td>12592.50000</td>\n      <td>75.000000</td>\n      <td>2.000000</td>\n      <td>65.900625</td>\n      <td>49.388022</td>\n      <td>8.000000</td>\n      <td>11.000000</td>\n      <td>17.000000</td>\n      <td>2001.000000</td>\n      <td>0.195781</td>\n      <td>36.000000</td>\n      <td>7227.000000</td>\n      <td>5.000000</td>\n      <td>1548.000000</td>\n      <td>2.000000</td>\n      <td>6.000000</td>\n      <td>249135.462171</td>\n      <td>0.00000</td>\n      <td>0.000000</td>\n    </tr>\n    <tr>\n      <th>max</th>\n      <td>16798.00000</td>\n      <td>209.000000</td>\n      <td>6.000000</td>\n      <td>641.065193</td>\n      <td>7480.592129</td>\n      <td>13.000000</td>\n      <td>42.000000</td>\n      <td>48.000000</td>\n      <td>2022.000000</td>\n      <td>0.521867</td>\n      <td>74.000000</td>\n      <td>19083.000000</td>\n      <td>141.000000</td>\n      <td>4849.000000</td>\n      <td>6.000000</td>\n      <td>23.000000</td>\n      <td>633233.466570</td>\n      <td>1.00000</td>\n      <td>1.000000</td>\n    </tr>\n  </tbody>\n</table>\n</div>"
     },
     "execution_count": 440,
     "metadata": {},
     "output_type": "execute_result"
    }
   ],
   "source": [
    "df_train.describe()"
   ],
   "metadata": {
    "collapsed": false,
    "pycharm": {
     "name": "#%%\n"
    }
   }
  },
  {
   "cell_type": "markdown",
   "source": [
    "***\n",
    "### Built new sign\n"
   ],
   "metadata": {
    "collapsed": false
   }
  },
  {
   "cell_type": "code",
   "execution_count": 377,
   "outputs": [
    {
     "data": {
      "text/plain": "1977    2652\n2017     308\n2016     305\n2015     299\n2014     210\n        ... \n1947       1\n1928       1\n1916       1\n1914       1\n1910       1\nName: HouseYear, Length: 96, dtype: int64"
     },
     "execution_count": 377,
     "metadata": {},
     "output_type": "execute_result"
    }
   ],
   "source": [
    "df_train['HouseYear'].sort_values().value_counts()"
   ],
   "metadata": {
    "collapsed": false,
    "pycharm": {
     "name": "#%%\n"
    }
   }
  },
  {
   "cell_type": "code",
   "execution_count": 561,
   "outputs": [],
   "source": [
    "class FeatureGenerator:\n",
    "\n",
    "    def __init__(self, df):\n",
    "        self.df_median = df.median()\n",
    "\n",
    "    def feature_generate(self, df):\n",
    "        self.binary_replace(df)\n",
    "        df = self.district_size(df)\n",
    "        self.district_big(df)\n",
    "        # self.price_median_district(df)\n",
    "        self.floor_category(df)\n",
    "        self.year_category(df)\n",
    "        return df\n",
    "        # self.price_median_year(df)\n",
    "\n",
    "    def binary_replace(self, df):\n",
    "        sign_to_binary = {'A': 0, 'B': 1}\n",
    "\n",
    "        df['Ecology_2'] = df['Ecology_2'].replace(sign_to_binary)\n",
    "        df['Ecology_3'] = df['Ecology_3'].replace(sign_to_binary)\n",
    "        df['Shops_2'] = df['Shops_2'].replace(sign_to_binary)\n",
    "\n",
    "    def district_size(self, df):\n",
    "        df_district_id = df['DistrictId'].value_counts().reset_index().rename(columns={'index': 'DistrictId', 'DistrictId':'DistrictSize'})\n",
    "\n",
    "        return df.merge(df_district_id, on='DistrictId', how='left')\n",
    "\n",
    "\n",
    "    def district_big(self, df):\n",
    "        df['District_big'] = (df['DistrictSize'] > 100).astype(int)\n",
    "\n",
    "    # def price_median_district(self,df):\n",
    "    #     df_med_price_group = df.groupby(['DistrictId', 'Rooms'], as_index=False).agg({'Price': 'median'}).rename(columns={'Price': 'PriceMedian_district'})\n",
    "    #     df = df.merge(df_med_price_group, on=['DistrictId', 'Rooms'], how='left')\n",
    "\n",
    "    def floor_category(self, df):\n",
    "        df['Floor_category'] = pd.cut(df['Floor'], (df['Floor'].min(), 3, 8, 13, df['Floor'].max() + 1), labels=False, right=False)\n",
    "        df['Floor_category'].fillna(-1, inplace=True)\n",
    "\n",
    "    def year_category(self, df):\n",
    "        bins_bool = (df['HouseYear'].min()-1, 1950, 2000, df['HouseYear'].max())\n",
    "        df_year_cut = pd.cut(df['HouseYear'], bins=bins_bool, labels=False)\n",
    "        df_year_cut.fillna(-1, inplace=True)\n",
    "        df['Year_category'] = df_year_cut\n",
    "\n",
    "    # def price_median_year(self, df):\n",
    "    #     median_price_year_floor = df.groupby(['Year_category', 'Floor_category'], as_index=False)\\\n",
    "    #         .agg({'Price':'median'}).rename(columns={'Price': 'PriceMedian_Year'})\n",
    "    #     df = df.merge(median_price_year_floor, on=['Year_category', 'Floor_category'], how='left')\n",
    "\n",
    "    @staticmethod\n",
    "    def drop_sign(df):\n",
    "        df.drop(['Id', 'DistrictId' , 'Healthcare_1'], axis=1, inplace=True)\n",
    "\n",
    "    def replace_fillna_median(self, df):\n",
    "        df.fiilna(self.df_median, inplac=True)\n",
    "\n",
    "\n",
    "feat_generation = FeatureGenerator(df_train)\n",
    "df_train = feat_generation.feature_generate(df_train)\n",
    "df_test = feat_generation.feature_generate(df_test)"
   ],
   "metadata": {
    "collapsed": false,
    "pycharm": {
     "name": "#%%\n"
    }
   }
  },
  {
   "cell_type": "code",
   "execution_count": 563,
   "outputs": [
    {
     "data": {
      "text/plain": "         Id DistrictId  Rooms      Square  LifeSquare  KitchenSquare  Floor  \\\n0     11809         27    3.0  115.027311  105.027311           10.0      4   \n1      3013         22    1.0   39.832524   23.169223            8.0      7   \n2      8215          1    3.0   78.342215   47.671972           10.0      2   \n3      2352          1    1.0   40.409907   37.409907            3.0     10   \n4     13866         94    2.0   64.285067   38.562517            9.0     16   \n...     ...        ...    ...         ...         ...            ...    ...   \n9995   1260         61    2.0   49.090728   33.272626            6.0      3   \n9996  16265         27    2.0   64.307684   37.038420            9.0     13   \n9997   2795        178    1.0   29.648057   16.555363            5.0      3   \n9998  14561         21    1.0   32.330292   22.326870            5.0      3   \n9999   7202         94    1.0   35.815476   22.301367            6.0      9   \n\n      HouseFloor  HouseYear  Ecology_1  Ecology_2  Ecology_3  Social_1  \\\n0           10.0       2014   0.075424          1          1        11   \n1            8.0       1966   0.118537          1          1        30   \n2           17.0       1988   0.025609          1          1        33   \n3           22.0       1977   0.007122          1          1         1   \n4           16.0       1972   0.282798          1          1        33   \n...          ...        ...        ...        ...        ...       ...   \n9995        12.0       1981   0.300323          1          1        52   \n9996        13.0       1977   0.072158          1          1         2   \n9997         5.0       1958   0.460556          1          1        20   \n9998         9.0       1969   0.194489          1          1        47   \n9999         9.0       1975   0.127376          1          1        43   \n\n      Social_2  Social_3  Healthcare_1  Helthcare_2  Shops_1  Shops_2  \\\n0         3097         0           NaN            0        0        1   \n1         6207         1        1183.0            1        0        1   \n2         5261         0         240.0            3        1        1   \n3          264         0           NaN            0        1        1   \n4         8667         2           NaN            0        6        1   \n...        ...       ...           ...          ...      ...      ...   \n9995     10311         6           NaN            1        9        1   \n9996       629         1           NaN            0        0        0   \n9997      4386        14           NaN            1        5        1   \n9998      8004         3         125.0            3        5        1   \n9999      8429         3           NaN            3        9        1   \n\n              Price  Rooms_outlier  HouseFloor_outlier  DistrictSize  \\\n0     305018.871089              0                   0           851   \n1     177734.553407              0                   0            78   \n2     282078.720850              0                   0           652   \n3     168106.007630              0                   0           652   \n4     343995.102962              0                   0            89   \n...             ...            ...                 ...           ...   \n9995  119367.455796              0                   0           118   \n9996  199715.148807              0                   1           851   \n9997  165953.912580              0                   0             7   \n9998  171842.411855              0                   0           165   \n9999  177685.627486              0                   0            89   \n\n      District_big  Floor_category  Year_category  \n0                1               1              2  \n1                0               1              1  \n2                1               0              1  \n3                1               2              1  \n4                0               3              1  \n...            ...             ...            ...  \n9995             1               1              1  \n9996             1               3              1  \n9997             0               1              1  \n9998             1               1              1  \n9999             0               2              1  \n\n[10000 rows x 26 columns]",
      "text/html": "<div>\n<style scoped>\n    .dataframe tbody tr th:only-of-type {\n        vertical-align: middle;\n    }\n\n    .dataframe tbody tr th {\n        vertical-align: top;\n    }\n\n    .dataframe thead th {\n        text-align: right;\n    }\n</style>\n<table border=\"1\" class=\"dataframe\">\n  <thead>\n    <tr style=\"text-align: right;\">\n      <th></th>\n      <th>Id</th>\n      <th>DistrictId</th>\n      <th>Rooms</th>\n      <th>Square</th>\n      <th>LifeSquare</th>\n      <th>KitchenSquare</th>\n      <th>Floor</th>\n      <th>HouseFloor</th>\n      <th>HouseYear</th>\n      <th>Ecology_1</th>\n      <th>Ecology_2</th>\n      <th>Ecology_3</th>\n      <th>Social_1</th>\n      <th>Social_2</th>\n      <th>Social_3</th>\n      <th>Healthcare_1</th>\n      <th>Helthcare_2</th>\n      <th>Shops_1</th>\n      <th>Shops_2</th>\n      <th>Price</th>\n      <th>Rooms_outlier</th>\n      <th>HouseFloor_outlier</th>\n      <th>DistrictSize</th>\n      <th>District_big</th>\n      <th>Floor_category</th>\n      <th>Year_category</th>\n    </tr>\n  </thead>\n  <tbody>\n    <tr>\n      <th>0</th>\n      <td>11809</td>\n      <td>27</td>\n      <td>3.0</td>\n      <td>115.027311</td>\n      <td>105.027311</td>\n      <td>10.0</td>\n      <td>4</td>\n      <td>10.0</td>\n      <td>2014</td>\n      <td>0.075424</td>\n      <td>1</td>\n      <td>1</td>\n      <td>11</td>\n      <td>3097</td>\n      <td>0</td>\n      <td>NaN</td>\n      <td>0</td>\n      <td>0</td>\n      <td>1</td>\n      <td>305018.871089</td>\n      <td>0</td>\n      <td>0</td>\n      <td>851</td>\n      <td>1</td>\n      <td>1</td>\n      <td>2</td>\n    </tr>\n    <tr>\n      <th>1</th>\n      <td>3013</td>\n      <td>22</td>\n      <td>1.0</td>\n      <td>39.832524</td>\n      <td>23.169223</td>\n      <td>8.0</td>\n      <td>7</td>\n      <td>8.0</td>\n      <td>1966</td>\n      <td>0.118537</td>\n      <td>1</td>\n      <td>1</td>\n      <td>30</td>\n      <td>6207</td>\n      <td>1</td>\n      <td>1183.0</td>\n      <td>1</td>\n      <td>0</td>\n      <td>1</td>\n      <td>177734.553407</td>\n      <td>0</td>\n      <td>0</td>\n      <td>78</td>\n      <td>0</td>\n      <td>1</td>\n      <td>1</td>\n    </tr>\n    <tr>\n      <th>2</th>\n      <td>8215</td>\n      <td>1</td>\n      <td>3.0</td>\n      <td>78.342215</td>\n      <td>47.671972</td>\n      <td>10.0</td>\n      <td>2</td>\n      <td>17.0</td>\n      <td>1988</td>\n      <td>0.025609</td>\n      <td>1</td>\n      <td>1</td>\n      <td>33</td>\n      <td>5261</td>\n      <td>0</td>\n      <td>240.0</td>\n      <td>3</td>\n      <td>1</td>\n      <td>1</td>\n      <td>282078.720850</td>\n      <td>0</td>\n      <td>0</td>\n      <td>652</td>\n      <td>1</td>\n      <td>0</td>\n      <td>1</td>\n    </tr>\n    <tr>\n      <th>3</th>\n      <td>2352</td>\n      <td>1</td>\n      <td>1.0</td>\n      <td>40.409907</td>\n      <td>37.409907</td>\n      <td>3.0</td>\n      <td>10</td>\n      <td>22.0</td>\n      <td>1977</td>\n      <td>0.007122</td>\n      <td>1</td>\n      <td>1</td>\n      <td>1</td>\n      <td>264</td>\n      <td>0</td>\n      <td>NaN</td>\n      <td>0</td>\n      <td>1</td>\n      <td>1</td>\n      <td>168106.007630</td>\n      <td>0</td>\n      <td>0</td>\n      <td>652</td>\n      <td>1</td>\n      <td>2</td>\n      <td>1</td>\n    </tr>\n    <tr>\n      <th>4</th>\n      <td>13866</td>\n      <td>94</td>\n      <td>2.0</td>\n      <td>64.285067</td>\n      <td>38.562517</td>\n      <td>9.0</td>\n      <td>16</td>\n      <td>16.0</td>\n      <td>1972</td>\n      <td>0.282798</td>\n      <td>1</td>\n      <td>1</td>\n      <td>33</td>\n      <td>8667</td>\n      <td>2</td>\n      <td>NaN</td>\n      <td>0</td>\n      <td>6</td>\n      <td>1</td>\n      <td>343995.102962</td>\n      <td>0</td>\n      <td>0</td>\n      <td>89</td>\n      <td>0</td>\n      <td>3</td>\n      <td>1</td>\n    </tr>\n    <tr>\n      <th>...</th>\n      <td>...</td>\n      <td>...</td>\n      <td>...</td>\n      <td>...</td>\n      <td>...</td>\n      <td>...</td>\n      <td>...</td>\n      <td>...</td>\n      <td>...</td>\n      <td>...</td>\n      <td>...</td>\n      <td>...</td>\n      <td>...</td>\n      <td>...</td>\n      <td>...</td>\n      <td>...</td>\n      <td>...</td>\n      <td>...</td>\n      <td>...</td>\n      <td>...</td>\n      <td>...</td>\n      <td>...</td>\n      <td>...</td>\n      <td>...</td>\n      <td>...</td>\n      <td>...</td>\n    </tr>\n    <tr>\n      <th>9995</th>\n      <td>1260</td>\n      <td>61</td>\n      <td>2.0</td>\n      <td>49.090728</td>\n      <td>33.272626</td>\n      <td>6.0</td>\n      <td>3</td>\n      <td>12.0</td>\n      <td>1981</td>\n      <td>0.300323</td>\n      <td>1</td>\n      <td>1</td>\n      <td>52</td>\n      <td>10311</td>\n      <td>6</td>\n      <td>NaN</td>\n      <td>1</td>\n      <td>9</td>\n      <td>1</td>\n      <td>119367.455796</td>\n      <td>0</td>\n      <td>0</td>\n      <td>118</td>\n      <td>1</td>\n      <td>1</td>\n      <td>1</td>\n    </tr>\n    <tr>\n      <th>9996</th>\n      <td>16265</td>\n      <td>27</td>\n      <td>2.0</td>\n      <td>64.307684</td>\n      <td>37.038420</td>\n      <td>9.0</td>\n      <td>13</td>\n      <td>13.0</td>\n      <td>1977</td>\n      <td>0.072158</td>\n      <td>1</td>\n      <td>1</td>\n      <td>2</td>\n      <td>629</td>\n      <td>1</td>\n      <td>NaN</td>\n      <td>0</td>\n      <td>0</td>\n      <td>0</td>\n      <td>199715.148807</td>\n      <td>0</td>\n      <td>1</td>\n      <td>851</td>\n      <td>1</td>\n      <td>3</td>\n      <td>1</td>\n    </tr>\n    <tr>\n      <th>9997</th>\n      <td>2795</td>\n      <td>178</td>\n      <td>1.0</td>\n      <td>29.648057</td>\n      <td>16.555363</td>\n      <td>5.0</td>\n      <td>3</td>\n      <td>5.0</td>\n      <td>1958</td>\n      <td>0.460556</td>\n      <td>1</td>\n      <td>1</td>\n      <td>20</td>\n      <td>4386</td>\n      <td>14</td>\n      <td>NaN</td>\n      <td>1</td>\n      <td>5</td>\n      <td>1</td>\n      <td>165953.912580</td>\n      <td>0</td>\n      <td>0</td>\n      <td>7</td>\n      <td>0</td>\n      <td>1</td>\n      <td>1</td>\n    </tr>\n    <tr>\n      <th>9998</th>\n      <td>14561</td>\n      <td>21</td>\n      <td>1.0</td>\n      <td>32.330292</td>\n      <td>22.326870</td>\n      <td>5.0</td>\n      <td>3</td>\n      <td>9.0</td>\n      <td>1969</td>\n      <td>0.194489</td>\n      <td>1</td>\n      <td>1</td>\n      <td>47</td>\n      <td>8004</td>\n      <td>3</td>\n      <td>125.0</td>\n      <td>3</td>\n      <td>5</td>\n      <td>1</td>\n      <td>171842.411855</td>\n      <td>0</td>\n      <td>0</td>\n      <td>165</td>\n      <td>1</td>\n      <td>1</td>\n      <td>1</td>\n    </tr>\n    <tr>\n      <th>9999</th>\n      <td>7202</td>\n      <td>94</td>\n      <td>1.0</td>\n      <td>35.815476</td>\n      <td>22.301367</td>\n      <td>6.0</td>\n      <td>9</td>\n      <td>9.0</td>\n      <td>1975</td>\n      <td>0.127376</td>\n      <td>1</td>\n      <td>1</td>\n      <td>43</td>\n      <td>8429</td>\n      <td>3</td>\n      <td>NaN</td>\n      <td>3</td>\n      <td>9</td>\n      <td>1</td>\n      <td>177685.627486</td>\n      <td>0</td>\n      <td>0</td>\n      <td>89</td>\n      <td>0</td>\n      <td>2</td>\n      <td>1</td>\n    </tr>\n  </tbody>\n</table>\n<p>10000 rows × 26 columns</p>\n</div>"
     },
     "execution_count": 563,
     "metadata": {},
     "output_type": "execute_result"
    }
   ],
   "source": [
    "df_test"
   ],
   "metadata": {
    "collapsed": false,
    "pycharm": {
     "name": "#%%\n"
    }
   }
  },
  {
   "cell_type": "code",
   "execution_count": 564,
   "outputs": [],
   "source": [
    "pd.options.display.max_columns = None\n",
    "feat_generation.drop_sign(df_train)\n",
    "feat_generation.drop_sign(df_test)"
   ],
   "metadata": {
    "collapsed": false,
    "pycharm": {
     "name": "#%%\n"
    }
   }
  },
  {
   "cell_type": "markdown",
   "source": [
    "## 3 train test split"
   ],
   "metadata": {
    "collapsed": false,
    "pycharm": {
     "name": "#%% md\n"
    }
   }
  },
  {
   "cell_type": "code",
   "execution_count": 569,
   "outputs": [],
   "source": [
    "x = df_train.drop('Price', axis=1)\n",
    "y = pd.DataFrame(df_train['Price'], columns=['Price'])\n",
    "x_train, x_valid, y_train, y_valid = train_test_split(x, y, test_size=0.3, random_state=49, shuffle=True)"
   ],
   "metadata": {
    "collapsed": false,
    "pycharm": {
     "name": "#%%\n"
    }
   }
  },
  {
   "cell_type": "code",
   "execution_count": 574,
   "outputs": [
    {
     "data": {
      "text/plain": "      Rooms      Square  LifeSquare  KitchenSquare  Floor  HouseFloor  \\\n7825    3.0   95.388336   94.732596            3.0      1         1.0   \n9883    3.0   63.167270   45.647059            6.0      2         9.0   \n9304    3.0  117.237801   62.361490            6.0      2        15.0   \n2091    2.0   64.356748   61.356748            3.0      2         3.0   \n9115    2.0   71.304763   68.304763            3.0     13        20.0   \n...     ...         ...         ...            ...    ...         ...   \n8050    1.0   40.235879   22.564419           10.0     17        22.0   \n7924    2.0   67.078934   64.078934            3.0      5        17.0   \n3254    3.0   77.891596   74.891596            3.0      8        17.0   \n5805    1.0   48.105228   45.105228            3.0     16        17.0   \n426     1.0   44.469912   41.469912            3.0     17        17.0   \n\n      HouseYear  Ecology_1  Ecology_2  Ecology_3  Social_1  Social_2  \\\n7825       2014   0.041125          1          1        46      9515   \n9883       1977   0.012339          1          1        35      5776   \n9304       2008   0.035145          1          1        42      9292   \n2091       1977   0.437885          1          1        23      5735   \n9115       1977   0.072158          1          1         2       629   \n...         ...        ...        ...        ...       ...       ...   \n8050       1987   0.188784          1          1        31      6137   \n7924       1977   0.075779          1          1         6      1437   \n3254       1977   0.007122          1          1         1       264   \n5805       1977   0.243205          1          1         5      1564   \n426        1977   0.007122          1          1         1       264   \n\n      Social_3  Helthcare_2  Shops_1  Shops_2  Rooms_outlier  \\\n7825         5            1       10        1              0   \n9883         1            2        4        1              0   \n9304         3            0        3        1              0   \n2091         3            0        5        1              0   \n9115         1            0        0        0              0   \n...        ...          ...      ...      ...            ...   \n8050         4            0        1        1              0   \n7924         3            0        2        1              0   \n3254         0            0        1        1              0   \n5805         0            0        0        1              0   \n426          0            0        1        1              0   \n\n      HouseFloor_outlier  DistrictSize  District_big  Floor_category  \\\n7825                   1            90             0               0   \n9883                   0           129             1               0   \n9304                   0            78             0               0   \n2091                   0           179             1               0   \n9115                   0           247             1               3   \n...                  ...           ...           ...             ...   \n8050                   0           119             1               3   \n7924                   0           565             1               1   \n3254                   0           652             1               2   \n5805                   0           511             1               3   \n426                    0           652             1               3   \n\n      Year_category  \n7825              2  \n9883              1  \n9304              2  \n2091              1  \n9115              1  \n...             ...  \n8050              1  \n7924              1  \n3254              1  \n5805              1  \n426               1  \n\n[7000 rows x 22 columns]",
      "text/html": "<div>\n<style scoped>\n    .dataframe tbody tr th:only-of-type {\n        vertical-align: middle;\n    }\n\n    .dataframe tbody tr th {\n        vertical-align: top;\n    }\n\n    .dataframe thead th {\n        text-align: right;\n    }\n</style>\n<table border=\"1\" class=\"dataframe\">\n  <thead>\n    <tr style=\"text-align: right;\">\n      <th></th>\n      <th>Rooms</th>\n      <th>Square</th>\n      <th>LifeSquare</th>\n      <th>KitchenSquare</th>\n      <th>Floor</th>\n      <th>HouseFloor</th>\n      <th>HouseYear</th>\n      <th>Ecology_1</th>\n      <th>Ecology_2</th>\n      <th>Ecology_3</th>\n      <th>Social_1</th>\n      <th>Social_2</th>\n      <th>Social_3</th>\n      <th>Helthcare_2</th>\n      <th>Shops_1</th>\n      <th>Shops_2</th>\n      <th>Rooms_outlier</th>\n      <th>HouseFloor_outlier</th>\n      <th>DistrictSize</th>\n      <th>District_big</th>\n      <th>Floor_category</th>\n      <th>Year_category</th>\n    </tr>\n  </thead>\n  <tbody>\n    <tr>\n      <th>7825</th>\n      <td>3.0</td>\n      <td>95.388336</td>\n      <td>94.732596</td>\n      <td>3.0</td>\n      <td>1</td>\n      <td>1.0</td>\n      <td>2014</td>\n      <td>0.041125</td>\n      <td>1</td>\n      <td>1</td>\n      <td>46</td>\n      <td>9515</td>\n      <td>5</td>\n      <td>1</td>\n      <td>10</td>\n      <td>1</td>\n      <td>0</td>\n      <td>1</td>\n      <td>90</td>\n      <td>0</td>\n      <td>0</td>\n      <td>2</td>\n    </tr>\n    <tr>\n      <th>9883</th>\n      <td>3.0</td>\n      <td>63.167270</td>\n      <td>45.647059</td>\n      <td>6.0</td>\n      <td>2</td>\n      <td>9.0</td>\n      <td>1977</td>\n      <td>0.012339</td>\n      <td>1</td>\n      <td>1</td>\n      <td>35</td>\n      <td>5776</td>\n      <td>1</td>\n      <td>2</td>\n      <td>4</td>\n      <td>1</td>\n      <td>0</td>\n      <td>0</td>\n      <td>129</td>\n      <td>1</td>\n      <td>0</td>\n      <td>1</td>\n    </tr>\n    <tr>\n      <th>9304</th>\n      <td>3.0</td>\n      <td>117.237801</td>\n      <td>62.361490</td>\n      <td>6.0</td>\n      <td>2</td>\n      <td>15.0</td>\n      <td>2008</td>\n      <td>0.035145</td>\n      <td>1</td>\n      <td>1</td>\n      <td>42</td>\n      <td>9292</td>\n      <td>3</td>\n      <td>0</td>\n      <td>3</td>\n      <td>1</td>\n      <td>0</td>\n      <td>0</td>\n      <td>78</td>\n      <td>0</td>\n      <td>0</td>\n      <td>2</td>\n    </tr>\n    <tr>\n      <th>2091</th>\n      <td>2.0</td>\n      <td>64.356748</td>\n      <td>61.356748</td>\n      <td>3.0</td>\n      <td>2</td>\n      <td>3.0</td>\n      <td>1977</td>\n      <td>0.437885</td>\n      <td>1</td>\n      <td>1</td>\n      <td>23</td>\n      <td>5735</td>\n      <td>3</td>\n      <td>0</td>\n      <td>5</td>\n      <td>1</td>\n      <td>0</td>\n      <td>0</td>\n      <td>179</td>\n      <td>1</td>\n      <td>0</td>\n      <td>1</td>\n    </tr>\n    <tr>\n      <th>9115</th>\n      <td>2.0</td>\n      <td>71.304763</td>\n      <td>68.304763</td>\n      <td>3.0</td>\n      <td>13</td>\n      <td>20.0</td>\n      <td>1977</td>\n      <td>0.072158</td>\n      <td>1</td>\n      <td>1</td>\n      <td>2</td>\n      <td>629</td>\n      <td>1</td>\n      <td>0</td>\n      <td>0</td>\n      <td>0</td>\n      <td>0</td>\n      <td>0</td>\n      <td>247</td>\n      <td>1</td>\n      <td>3</td>\n      <td>1</td>\n    </tr>\n    <tr>\n      <th>...</th>\n      <td>...</td>\n      <td>...</td>\n      <td>...</td>\n      <td>...</td>\n      <td>...</td>\n      <td>...</td>\n      <td>...</td>\n      <td>...</td>\n      <td>...</td>\n      <td>...</td>\n      <td>...</td>\n      <td>...</td>\n      <td>...</td>\n      <td>...</td>\n      <td>...</td>\n      <td>...</td>\n      <td>...</td>\n      <td>...</td>\n      <td>...</td>\n      <td>...</td>\n      <td>...</td>\n      <td>...</td>\n    </tr>\n    <tr>\n      <th>8050</th>\n      <td>1.0</td>\n      <td>40.235879</td>\n      <td>22.564419</td>\n      <td>10.0</td>\n      <td>17</td>\n      <td>22.0</td>\n      <td>1987</td>\n      <td>0.188784</td>\n      <td>1</td>\n      <td>1</td>\n      <td>31</td>\n      <td>6137</td>\n      <td>4</td>\n      <td>0</td>\n      <td>1</td>\n      <td>1</td>\n      <td>0</td>\n      <td>0</td>\n      <td>119</td>\n      <td>1</td>\n      <td>3</td>\n      <td>1</td>\n    </tr>\n    <tr>\n      <th>7924</th>\n      <td>2.0</td>\n      <td>67.078934</td>\n      <td>64.078934</td>\n      <td>3.0</td>\n      <td>5</td>\n      <td>17.0</td>\n      <td>1977</td>\n      <td>0.075779</td>\n      <td>1</td>\n      <td>1</td>\n      <td>6</td>\n      <td>1437</td>\n      <td>3</td>\n      <td>0</td>\n      <td>2</td>\n      <td>1</td>\n      <td>0</td>\n      <td>0</td>\n      <td>565</td>\n      <td>1</td>\n      <td>1</td>\n      <td>1</td>\n    </tr>\n    <tr>\n      <th>3254</th>\n      <td>3.0</td>\n      <td>77.891596</td>\n      <td>74.891596</td>\n      <td>3.0</td>\n      <td>8</td>\n      <td>17.0</td>\n      <td>1977</td>\n      <td>0.007122</td>\n      <td>1</td>\n      <td>1</td>\n      <td>1</td>\n      <td>264</td>\n      <td>0</td>\n      <td>0</td>\n      <td>1</td>\n      <td>1</td>\n      <td>0</td>\n      <td>0</td>\n      <td>652</td>\n      <td>1</td>\n      <td>2</td>\n      <td>1</td>\n    </tr>\n    <tr>\n      <th>5805</th>\n      <td>1.0</td>\n      <td>48.105228</td>\n      <td>45.105228</td>\n      <td>3.0</td>\n      <td>16</td>\n      <td>17.0</td>\n      <td>1977</td>\n      <td>0.243205</td>\n      <td>1</td>\n      <td>1</td>\n      <td>5</td>\n      <td>1564</td>\n      <td>0</td>\n      <td>0</td>\n      <td>0</td>\n      <td>1</td>\n      <td>0</td>\n      <td>0</td>\n      <td>511</td>\n      <td>1</td>\n      <td>3</td>\n      <td>1</td>\n    </tr>\n    <tr>\n      <th>426</th>\n      <td>1.0</td>\n      <td>44.469912</td>\n      <td>41.469912</td>\n      <td>3.0</td>\n      <td>17</td>\n      <td>17.0</td>\n      <td>1977</td>\n      <td>0.007122</td>\n      <td>1</td>\n      <td>1</td>\n      <td>1</td>\n      <td>264</td>\n      <td>0</td>\n      <td>0</td>\n      <td>1</td>\n      <td>1</td>\n      <td>0</td>\n      <td>0</td>\n      <td>652</td>\n      <td>1</td>\n      <td>3</td>\n      <td>1</td>\n    </tr>\n  </tbody>\n</table>\n<p>7000 rows × 22 columns</p>\n</div>"
     },
     "execution_count": 574,
     "metadata": {},
     "output_type": "execute_result"
    }
   ],
   "source": [
    "x_train"
   ],
   "metadata": {
    "collapsed": false,
    "pycharm": {
     "name": "#%%\n"
    }
   }
  },
  {
   "cell_type": "markdown",
   "source": [
    "***\n",
    "## 4 data processing use model"
   ],
   "metadata": {
    "collapsed": false,
    "pycharm": {
     "name": "#%% md\n"
    }
   }
  },
  {
   "cell_type": "code",
   "execution_count": 465,
   "outputs": [
    {
     "name": "stdout",
     "output_type": "stream",
     "text": [
      "Memory usage start 1230.46875 KB\n",
      "memory after reduce 656.25\n"
     ]
    },
    {
     "data": {
      "text/plain": "      Rooms     Square  LifeSquare  KitchenSquare  Floor  HouseFloor  \\\n7825    3.0   95.37500    94.75000            3.0    1.0         1.0   \n9883    3.0   63.15625    45.65625            6.0    2.0         9.0   \n9304    3.0  117.25000    62.37500            6.0    2.0        15.0   \n2091    2.0   64.37500    61.34375            3.0    2.0         3.0   \n9115    2.0   71.31250    68.31250            3.0   13.0        20.0   \n...     ...        ...         ...            ...    ...         ...   \n8050    1.0   40.25000    22.56250           10.0   17.0        22.0   \n7924    2.0   67.06250    64.06250            3.0    5.0        17.0   \n3254    3.0   77.87500    74.87500            3.0    8.0        17.0   \n5805    1.0   48.09375    45.09375            3.0   16.0        17.0   \n426     1.0   44.46875    41.46875            3.0   17.0        17.0   \n\n      HouseYear  Ecology_1  Ecology_2  Ecology_3  Social_1  Social_2  \\\n7825       2014   0.041138          1          1        46      9515   \n9883       1977   0.012337          1          1        35      5776   \n9304       2008   0.035156          1          1        42      9292   \n2091       1977   0.437988          1          1        23      5735   \n9115       1977   0.072144          1          1         2       629   \n...         ...        ...        ...        ...       ...       ...   \n8050       1987   0.188843          1          1        31      6137   \n7924       1977   0.075806          1          1         6      1437   \n3254       1977   0.007122          1          1         1       264   \n5805       1977   0.243164          1          1         5      1564   \n426        1977   0.007122          1          1         1       264   \n\n      Social_3  Helthcare_2  Shops_1  Shops_2  Rooms_outlier  \\\n7825         5            1       10        1              0   \n9883         1            2        4        1              0   \n9304         3            0        3        1              0   \n2091         3            0        5        1              0   \n9115         1            0        0        0              0   \n...        ...          ...      ...      ...            ...   \n8050         4            0        1        1              0   \n7924         3            0        2        1              0   \n3254         0            0        1        1              0   \n5805         0            0        0        1              0   \n426          0            0        1        1              0   \n\n      HouseFloor_outlier  Floor_category  Year_category  DistrictSize  \\\n7825                   0               0              2            90   \n9883                   0               0              1           129   \n9304                   0               0              2            78   \n2091                   0               0              1           179   \n9115                   0               3              1           247   \n...                  ...             ...            ...           ...   \n8050                   0               3              1           119   \n7924                   0               1              1           565   \n3254                   0               2              1           652   \n5805                   0               3              1           511   \n426                    0               3              1           652   \n\n      District_big  \n7825             0  \n9883             1  \n9304             0  \n2091             1  \n9115             1  \n...            ...  \n8050             1  \n7924             1  \n3254             1  \n5805             1  \n426              1  \n\n[7000 rows x 22 columns]",
      "text/html": "<div>\n<style scoped>\n    .dataframe tbody tr th:only-of-type {\n        vertical-align: middle;\n    }\n\n    .dataframe tbody tr th {\n        vertical-align: top;\n    }\n\n    .dataframe thead th {\n        text-align: right;\n    }\n</style>\n<table border=\"1\" class=\"dataframe\">\n  <thead>\n    <tr style=\"text-align: right;\">\n      <th></th>\n      <th>Rooms</th>\n      <th>Square</th>\n      <th>LifeSquare</th>\n      <th>KitchenSquare</th>\n      <th>Floor</th>\n      <th>HouseFloor</th>\n      <th>HouseYear</th>\n      <th>Ecology_1</th>\n      <th>Ecology_2</th>\n      <th>Ecology_3</th>\n      <th>Social_1</th>\n      <th>Social_2</th>\n      <th>Social_3</th>\n      <th>Helthcare_2</th>\n      <th>Shops_1</th>\n      <th>Shops_2</th>\n      <th>Rooms_outlier</th>\n      <th>HouseFloor_outlier</th>\n      <th>Floor_category</th>\n      <th>Year_category</th>\n      <th>DistrictSize</th>\n      <th>District_big</th>\n    </tr>\n  </thead>\n  <tbody>\n    <tr>\n      <th>7825</th>\n      <td>3.0</td>\n      <td>95.37500</td>\n      <td>94.75000</td>\n      <td>3.0</td>\n      <td>1.0</td>\n      <td>1.0</td>\n      <td>2014</td>\n      <td>0.041138</td>\n      <td>1</td>\n      <td>1</td>\n      <td>46</td>\n      <td>9515</td>\n      <td>5</td>\n      <td>1</td>\n      <td>10</td>\n      <td>1</td>\n      <td>0</td>\n      <td>0</td>\n      <td>0</td>\n      <td>2</td>\n      <td>90</td>\n      <td>0</td>\n    </tr>\n    <tr>\n      <th>9883</th>\n      <td>3.0</td>\n      <td>63.15625</td>\n      <td>45.65625</td>\n      <td>6.0</td>\n      <td>2.0</td>\n      <td>9.0</td>\n      <td>1977</td>\n      <td>0.012337</td>\n      <td>1</td>\n      <td>1</td>\n      <td>35</td>\n      <td>5776</td>\n      <td>1</td>\n      <td>2</td>\n      <td>4</td>\n      <td>1</td>\n      <td>0</td>\n      <td>0</td>\n      <td>0</td>\n      <td>1</td>\n      <td>129</td>\n      <td>1</td>\n    </tr>\n    <tr>\n      <th>9304</th>\n      <td>3.0</td>\n      <td>117.25000</td>\n      <td>62.37500</td>\n      <td>6.0</td>\n      <td>2.0</td>\n      <td>15.0</td>\n      <td>2008</td>\n      <td>0.035156</td>\n      <td>1</td>\n      <td>1</td>\n      <td>42</td>\n      <td>9292</td>\n      <td>3</td>\n      <td>0</td>\n      <td>3</td>\n      <td>1</td>\n      <td>0</td>\n      <td>0</td>\n      <td>0</td>\n      <td>2</td>\n      <td>78</td>\n      <td>0</td>\n    </tr>\n    <tr>\n      <th>2091</th>\n      <td>2.0</td>\n      <td>64.37500</td>\n      <td>61.34375</td>\n      <td>3.0</td>\n      <td>2.0</td>\n      <td>3.0</td>\n      <td>1977</td>\n      <td>0.437988</td>\n      <td>1</td>\n      <td>1</td>\n      <td>23</td>\n      <td>5735</td>\n      <td>3</td>\n      <td>0</td>\n      <td>5</td>\n      <td>1</td>\n      <td>0</td>\n      <td>0</td>\n      <td>0</td>\n      <td>1</td>\n      <td>179</td>\n      <td>1</td>\n    </tr>\n    <tr>\n      <th>9115</th>\n      <td>2.0</td>\n      <td>71.31250</td>\n      <td>68.31250</td>\n      <td>3.0</td>\n      <td>13.0</td>\n      <td>20.0</td>\n      <td>1977</td>\n      <td>0.072144</td>\n      <td>1</td>\n      <td>1</td>\n      <td>2</td>\n      <td>629</td>\n      <td>1</td>\n      <td>0</td>\n      <td>0</td>\n      <td>0</td>\n      <td>0</td>\n      <td>0</td>\n      <td>3</td>\n      <td>1</td>\n      <td>247</td>\n      <td>1</td>\n    </tr>\n    <tr>\n      <th>...</th>\n      <td>...</td>\n      <td>...</td>\n      <td>...</td>\n      <td>...</td>\n      <td>...</td>\n      <td>...</td>\n      <td>...</td>\n      <td>...</td>\n      <td>...</td>\n      <td>...</td>\n      <td>...</td>\n      <td>...</td>\n      <td>...</td>\n      <td>...</td>\n      <td>...</td>\n      <td>...</td>\n      <td>...</td>\n      <td>...</td>\n      <td>...</td>\n      <td>...</td>\n      <td>...</td>\n      <td>...</td>\n    </tr>\n    <tr>\n      <th>8050</th>\n      <td>1.0</td>\n      <td>40.25000</td>\n      <td>22.56250</td>\n      <td>10.0</td>\n      <td>17.0</td>\n      <td>22.0</td>\n      <td>1987</td>\n      <td>0.188843</td>\n      <td>1</td>\n      <td>1</td>\n      <td>31</td>\n      <td>6137</td>\n      <td>4</td>\n      <td>0</td>\n      <td>1</td>\n      <td>1</td>\n      <td>0</td>\n      <td>0</td>\n      <td>3</td>\n      <td>1</td>\n      <td>119</td>\n      <td>1</td>\n    </tr>\n    <tr>\n      <th>7924</th>\n      <td>2.0</td>\n      <td>67.06250</td>\n      <td>64.06250</td>\n      <td>3.0</td>\n      <td>5.0</td>\n      <td>17.0</td>\n      <td>1977</td>\n      <td>0.075806</td>\n      <td>1</td>\n      <td>1</td>\n      <td>6</td>\n      <td>1437</td>\n      <td>3</td>\n      <td>0</td>\n      <td>2</td>\n      <td>1</td>\n      <td>0</td>\n      <td>0</td>\n      <td>1</td>\n      <td>1</td>\n      <td>565</td>\n      <td>1</td>\n    </tr>\n    <tr>\n      <th>3254</th>\n      <td>3.0</td>\n      <td>77.87500</td>\n      <td>74.87500</td>\n      <td>3.0</td>\n      <td>8.0</td>\n      <td>17.0</td>\n      <td>1977</td>\n      <td>0.007122</td>\n      <td>1</td>\n      <td>1</td>\n      <td>1</td>\n      <td>264</td>\n      <td>0</td>\n      <td>0</td>\n      <td>1</td>\n      <td>1</td>\n      <td>0</td>\n      <td>0</td>\n      <td>2</td>\n      <td>1</td>\n      <td>652</td>\n      <td>1</td>\n    </tr>\n    <tr>\n      <th>5805</th>\n      <td>1.0</td>\n      <td>48.09375</td>\n      <td>45.09375</td>\n      <td>3.0</td>\n      <td>16.0</td>\n      <td>17.0</td>\n      <td>1977</td>\n      <td>0.243164</td>\n      <td>1</td>\n      <td>1</td>\n      <td>5</td>\n      <td>1564</td>\n      <td>0</td>\n      <td>0</td>\n      <td>0</td>\n      <td>1</td>\n      <td>0</td>\n      <td>0</td>\n      <td>3</td>\n      <td>1</td>\n      <td>511</td>\n      <td>1</td>\n    </tr>\n    <tr>\n      <th>426</th>\n      <td>1.0</td>\n      <td>44.46875</td>\n      <td>41.46875</td>\n      <td>3.0</td>\n      <td>17.0</td>\n      <td>17.0</td>\n      <td>1977</td>\n      <td>0.007122</td>\n      <td>1</td>\n      <td>1</td>\n      <td>1</td>\n      <td>264</td>\n      <td>0</td>\n      <td>0</td>\n      <td>1</td>\n      <td>1</td>\n      <td>0</td>\n      <td>0</td>\n      <td>3</td>\n      <td>1</td>\n      <td>652</td>\n      <td>1</td>\n    </tr>\n  </tbody>\n</table>\n<p>7000 rows × 22 columns</p>\n</div>"
     },
     "execution_count": 465,
     "metadata": {},
     "output_type": "execute_result"
    }
   ],
   "source": [
    "# reduce_mem_df(x_train)\n",
    "# reduce_mem_df(x_valid)"
   ],
   "metadata": {
    "collapsed": false,
    "pycharm": {
     "name": "#%%\n"
    }
   }
  },
  {
   "cell_type": "code",
   "execution_count": 468,
   "outputs": [],
   "source": [
    "model_scale = StandardScaler()\n",
    "x_train = model_scale.fit_transform(x_train)\n",
    "x_valid = model_scale.transform(x_valid)"
   ],
   "metadata": {
    "collapsed": false,
    "pycharm": {
     "name": "#%%\n"
    }
   }
  },
  {
   "cell_type": "markdown",
   "source": [
    "## test model learn"
   ],
   "metadata": {
    "collapsed": false,
    "pycharm": {
     "name": "#%% md\n"
    }
   }
  },
  {
   "cell_type": "code",
   "execution_count": 575,
   "outputs": [
    {
     "data": {
      "text/plain": "0.7117992118600124"
     },
     "execution_count": 575,
     "metadata": {},
     "output_type": "execute_result"
    }
   ],
   "source": [
    "model_regressor = BaggingRegressor(n_estimators=180, max_features=15, max_samples=720, oob_score='r2', random_state=49)\n",
    "model_regressor.fit(x_train, y_train)\n",
    "y_pred_valid = model_regressor.predict(x_valid)\n",
    "r_2(y_valid, y_pred_valid)"
   ],
   "metadata": {
    "collapsed": false,
    "pycharm": {
     "name": "#%%\n"
    }
   }
  },
  {
   "cell_type": "code",
   "execution_count": 576,
   "outputs": [
    {
     "data": {
      "text/plain": "0.7557037325335731"
     },
     "execution_count": 576,
     "metadata": {},
     "output_type": "execute_result"
    }
   ],
   "source": [
    "y_pred_train = model_regressor.predict(x_train)\n",
    "r_2(y_train, y_pred_train)"
   ],
   "metadata": {
    "collapsed": false,
    "pycharm": {
     "name": "#%%\n"
    }
   }
  },
  {
   "cell_type": "code",
   "execution_count": 527,
   "outputs": [
    {
     "name": "stdout",
     "output_type": "stream",
     "text": [
      "0.7132489537901588 R2 valid \n",
      " 0.7553287750939452 R2 train \t value 710 \n",
      "\n",
      "0.7148135992601867 R2 valid \n",
      " 0.7561739308811268 R2 train \t value 720 \n",
      "\n",
      "0.7125338453464168 R2 valid \n",
      " 0.7566124551412432 R2 train \t value 730 \n",
      "\n",
      "0.7130430332851261 R2 valid \n",
      " 0.7583109574251619 R2 train \t value 740 \n",
      "\n",
      "0.7136339910101099 R2 valid \n",
      " 0.7584531721075652 R2 train \t value 750 \n",
      "\n",
      "0.7125474542647908 R2 valid \n",
      " 0.7583273391688183 R2 train \t value 760 \n",
      "\n",
      "0.7110661019033844 R2 valid \n",
      " 0.7593625206440001 R2 train \t value 770 \n",
      "\n",
      "0.7114524571145211 R2 valid \n",
      " 0.7601386886304802 R2 train \t value 780 \n",
      "\n",
      "0.7127092477329383 R2 valid \n",
      " 0.762295774290753 R2 train \t value 790 \n",
      "\n",
      "0.7122287891353759 R2 valid \n",
      " 0.762354920312901 R2 train \t value 800 \n",
      "\n"
     ]
    }
   ],
   "source": [
    "def model_bagging(x_train, x_valid, y_train, y_valid):\n",
    "    r2_train_list = list()\n",
    "    r2_valid_list = list()\n",
    "    for val in np.arange(710, 810, 10):\n",
    "        model_regressor = BaggingRegressor(n_estimators=180, max_features=15, max_samples=val, random_state=49)\n",
    "        model_regressor.fit(x_train, y_train)\n",
    "        y_pred_valid = model_regressor.predict(x_valid)\n",
    "        y_pred_train = model_regressor.predict(x_train)\n",
    "        r2_valid = r_2(y_valid, y_pred_valid)\n",
    "        r2_train = r_2(y_train, y_pred_train)\n",
    "        r2_train_list.append(r2_train)\n",
    "        r2_valid_list.append(r2_valid)\n",
    "        print(r2_valid, 'R2 valid', '\\n',\n",
    "              r2_train, 'R2 train', '\\t',  f'value {val}', '\\n')\n",
    "    return r2_train_list, r2_valid_list\n",
    "\n",
    "r2_train, r2_valid = model_bagging(x_train, x_valid, y_train, y_valid)"
   ],
   "metadata": {
    "collapsed": false,
    "pycharm": {
     "name": "#%%\n"
    }
   }
  },
  {
   "cell_type": "code",
   "execution_count": null,
   "outputs": [],
   "source": [
    "x_train = model_scale.inverse_transform(x_train)\n",
    "x_valid = model_scale.inverse_transform(x_valid)"
   ],
   "metadata": {
    "collapsed": false,
    "pycharm": {
     "name": "#%%\n"
    }
   }
  },
  {
   "cell_type": "markdown",
   "source": [
    "## BaggingRegressor\n",
    "max_features = 15\n",
    "max_samples=val = 720\n",
    "n_estimators = 180\n",
    "***\n",
    "R2_valid = 0.7148135"
   ],
   "metadata": {
    "collapsed": false,
    "pycharm": {
     "name": "#%% md\n"
    }
   }
  },
  {
   "cell_type": "code",
   "execution_count": 529,
   "outputs": [
    {
     "data": {
      "text/plain": "<matplotlib.legend.Legend at 0xc73ae76af0>"
     },
     "execution_count": 529,
     "metadata": {},
     "output_type": "execute_result"
    },
    {
     "data": {
      "text/plain": "<Figure size 432x288 with 1 Axes>",
      "image/png": "[encoded data removed]"
     },
     "metadata": {},
     "output_type": "display_data"
    }
   ],
   "source": [
    "x_axes = np.arange(710, 810, 10)\n",
    "plt.style.use('fivethirtyeight')\n",
    "plt.plot(x_axes, r2_valid, label='valid')\n",
    "plt.plot(x_axes, r2_train, label='train')\n",
    "plt.xlabel('val')\n",
    "plt.ylabel('R2')\n",
    "plt.legend()"
   ],
   "metadata": {
    "collapsed": false,
    "pycharm": {
     "name": "#%%\n"
    }
   }
  },
  {
   "cell_type": "markdown",
   "source": [
    "***"
   ],
   "metadata": {
    "collapsed": false,
    "pycharm": {
     "name": "#%% md\n"
    }
   }
  },
  {
   "cell_type": "code",
   "execution_count": 548,
   "outputs": [],
   "source": [
    "def scale_data(x_tr, x_val):\n",
    "    model_scale = RobustScaler()\n",
    "    x_train = model_scale.fit_transform(x_tr)\n",
    "    x_valid = model_scale.transform(x_val)\n",
    "    return x_train, x_valid"
   ],
   "metadata": {
    "collapsed": false,
    "pycharm": {
     "name": "#%%\n"
    }
   }
  },
  {
   "cell_type": "code",
   "execution_count": 546,
   "outputs": [
    {
     "name": "stdout",
     "output_type": "stream",
     "text": [
      "0.7584897387537013 R2 valid \n",
      " 0.8577894095610265 R2 train \t value 100 \n",
      "\n",
      "0.7589856132796376 R2 valid \n",
      " 0.8610135275574037 R2 train \t value 105 \n",
      "\n",
      "0.7589609203604644 R2 valid \n",
      " 0.8641741747174505 R2 train \t value 110 \n",
      "\n",
      "0.7579621732342052 R2 valid \n",
      " 0.8665149797472055 R2 train \t value 115 \n",
      "\n",
      "0.7582217419847712 R2 valid \n",
      " 0.8703752097624418 R2 train \t value 120 \n",
      "\n",
      "0.7579367078714248 R2 valid \n",
      " 0.8727021320250109 R2 train \t value 125 \n",
      "\n",
      "0.7579749752822251 R2 valid \n",
      " 0.8750147855330648 R2 train \t value 130 \n",
      "\n",
      "0.7582681037120687 R2 valid \n",
      " 0.8785568702600735 R2 train \t value 135 \n",
      "\n",
      "0.7585728879246948 R2 valid \n",
      " 0.8807564522345305 R2 train \t value 140 \n",
      "\n",
      "0.7588337837507853 R2 valid \n",
      " 0.8822713273041206 R2 train \t value 145 \n",
      "\n"
     ]
    }
   ],
   "source": [
    "def model_gradient(x_train, x_valid, y_train, y_valid):\n",
    "    r2_train_list = list()\n",
    "    r2_valid_list = list()\n",
    "    for val in np.arange(100, 150, 5):\n",
    "        model_regressor = GradientBoostingRegressor(n_estimators=val, max_depth=5, max_features=18, random_state=49)\n",
    "        model_regressor.fit(x_train, y_train)\n",
    "        y_pred_valid = model_regressor.predict(x_valid)\n",
    "        y_pred_train = model_regressor.predict(x_train)\n",
    "        r2_valid = r_2(y_valid, y_pred_valid)\n",
    "        r2_train = r_2(y_train, y_pred_train)\n",
    "        r2_train_list.append(r2_train)\n",
    "        r2_valid_list.append(r2_valid)\n",
    "        print(r2_valid, 'R2 valid', '\\n',\n",
    "              r2_train, 'R2 train', '\\t',  f'value {val}', '\\n')\n",
    "    return r2_train_list, r2_valid_list\n",
    "\n",
    "r2_train, r2_valid = model_gradient(x_train, x_valid, y_train, y_valid)"
   ],
   "metadata": {
    "collapsed": false,
    "pycharm": {
     "name": "#%%\n"
    }
   }
  },
  {
   "cell_type": "markdown",
   "source": [
    "### GradientBoostingRegressor\n",
    "\n",
    "n_estimators = 100\n",
    "max_depth = 5\n",
    "max_features = 18\n",
    "***\n",
    "R2 = 0.7584"
   ],
   "metadata": {
    "collapsed": false,
    "pycharm": {
     "name": "#%% md\n"
    }
   }
  },
  {
   "cell_type": "code",
   "execution_count": 547,
   "outputs": [
    {
     "data": {
      "text/plain": "<matplotlib.legend.Legend at 0xc7486fb1c0>"
     },
     "execution_count": 547,
     "metadata": {},
     "output_type": "execute_result"
    },
    {
     "data": {
      "text/plain": "<Figure size 432x288 with 1 Axes>",
      "image/png": "[encoded data removed]"
     },
     "metadata": {},
     "output_type": "display_data"
    }
   ],
   "source": [
    "x_axes = np.arange(100, 150, 5)\n",
    "plt.style.use('fivethirtyeight')\n",
    "plt.plot(x_axes, r2_valid, label='valid')\n",
    "plt.plot(x_axes, r2_train, label='train')\n",
    "plt.xlabel('val')\n",
    "plt.ylabel('R2')\n",
    "plt.legend()"
   ],
   "metadata": {
    "collapsed": false,
    "pycharm": {
     "name": "#%%\n"
    }
   }
  },
  {
   "cell_type": "markdown",
   "source": [
    "## I chose model and suitable parameters"
   ],
   "metadata": {
    "collapsed": false,
    "pycharm": {
     "name": "#%% md\n"
    }
   }
  },
  {
   "cell_type": "code",
   "execution_count": 549,
   "outputs": [],
   "source": [
    "x_train, x_test = scale_data(x_train, x_valid)"
   ],
   "metadata": {
    "collapsed": false,
    "pycharm": {
     "name": "#%%\n"
    }
   }
  },
  {
   "cell_type": "code",
   "execution_count": 578,
   "outputs": [
    {
     "name": "stdout",
     "output_type": "stream",
     "text": [
      "0.7501262731067215 R2 valid \n",
      " 0.860805978901262 R2 train \t\n"
     ]
    }
   ],
   "source": [
    "\n",
    "def get_result(x_train, x_valid, y_train, y_valid, x_test):\n",
    "    model_regressor = GradientBoostingRegressor(n_estimators=100, max_depth=5, max_features=18, random_state=49)\n",
    "    model_regressor.fit(x_train, y_train)\n",
    "    y_pred_test = model_regressor.predict(x_test)\n",
    "    y_pred_valid = model_regressor.predict(x_valid)\n",
    "    y_pred_train = model_regressor.predict(x_train)\n",
    "    r2_valid = r_2(y_valid, y_pred_valid)\n",
    "    r2_train = r_2(y_train, y_pred_train)\n",
    "    print(r2_valid, 'R2 valid', '\\n',\n",
    "              r2_train, 'R2 train', '\\t')\n",
    "    return y_pred_test\n",
    "\n",
    "y_pred_result = get_result(x_train, x_valid, y_train, y_valid, x_test)"
   ],
   "metadata": {
    "collapsed": false,
    "pycharm": {
     "name": "#%%\n"
    }
   }
  },
  {
   "cell_type": "code",
   "execution_count": 579,
   "outputs": [],
   "source": [
    "df_id = pd.read_csv('datasets/sample_submission.csv')"
   ],
   "metadata": {
    "collapsed": false,
    "pycharm": {
     "name": "#%%\n"
    }
   }
  },
  {
   "cell_type": "code",
   "execution_count": 581,
   "outputs": [],
   "source": [
    "df_id['Price'] = y_pred_result"
   ],
   "metadata": {
    "collapsed": false,
    "pycharm": {
     "name": "#%%\n"
    }
   }
  },
  {
   "cell_type": "code",
   "execution_count": 585,
   "outputs": [],
   "source": [
    "df_id.to_csv('df_submit_2.csv', index=False)"
   ],
   "metadata": {
    "collapsed": false,
    "pycharm": {
     "name": "#%%\n"
    }
   }
  }
 ],
 "metadata": {
  "kernelspec": {
   "display_name": "Python 3",
   "language": "python",
   "name": "python3"
  },
  "language_info": {
   "codemirror_mode": {
    "name": "ipython",
    "version": 2
   },
   "file_extension": ".py",
   "mimetype": "text/x-python",
   "name": "python",
   "nbconvert_exporter": "python",
   "pygments_lexer": "ipython2",
   "version": "2.7.6"
  }
 },
 "nbformat": 4,
 "nbformat_minor": 0
}