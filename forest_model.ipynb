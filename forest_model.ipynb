{
 "cells": [
  {
   "cell_type": "code",
   "execution_count": 21,
   "metadata": {
    "collapsed": true
   },
   "outputs": [],
   "source": [
    "import numpy as np\n",
    "import pandas as pd\n",
    "import matplotlib.pyplot as  plt\n",
    "from sklearn.metrics import r2_score\n",
    "from sklearn.model_selection import train_test_split, GridSearchCV\n",
    "from sklearn.ensemble import RandomForestRegressor\n",
    "from sklearn.preprocessing import RobustScaler, MinMaxScaler, StandardScaler"
   ]
  },
  {
   "cell_type": "markdown",
   "source": [
    "I want to find the best parameters for random forest model"
   ],
   "metadata": {
    "collapsed": false,
    "pycharm": {
     "name": "#%% md\n"
    }
   }
  },
  {
   "cell_type": "code",
   "execution_count": null,
   "outputs": [],
   "source": [
    "df_train = pd.read_csv('datasets/train.csv')\n",
    "df_test = pd.read_csv('datasets/test.csv')"
   ],
   "metadata": {
    "collapsed": false,
    "pycharm": {
     "name": "#%%\n"
    }
   }
  },
  {
   "cell_type": "code",
   "execution_count": null,
   "outputs": [],
   "source": [
    "class ModelDataHandler:\n",
    "\n",
    "    def __init__(self, df_train, df_test):\n",
    "        self.df_train = self.data_clean(df_train)\n",
    "        self.df_test = self.data_clean(df_test)\n",
    "\n",
    "    def data_clean(self, df):\n",
    "        df.drop('Healthcare_1', axis=1, inplace=True)\n",
    "        df.loc[df_train['LifeSquare'] > 1000, 'LifeSquare'] = df['LifeSquare'].median()\n",
    "        df['LifeSquare'] = df['LifeSquare'].fillna(df['LifeSquare'].mean())\n",
    "        df.drop('Id', axis=1, inplace=True)\n",
    "        self.reduce_mem_df(df)\n",
    "        return df\n",
    "\n",
    "    def get_df(self):\n",
    "        return self.df_train, self.df_test\n",
    "\n",
    "    def reduce_mem_df(self, df):\n",
    "        start_mem = df.memory_usage().sum() / 1024\n",
    "        print(f'Memory usage start {start_mem} KB')\n",
    "\n",
    "        for column in df.columns:\n",
    "            col_type = df[column].dtype\n",
    "\n",
    "            if col_type.kind != 'O':\n",
    "                col_min = df[column].min()\n",
    "                col_max = df[column].max()\n",
    "\n",
    "                if df[column].dtype.kind == 'i':\n",
    "                    for int_param in [np.int8, np.int16, np.int32]:\n",
    "                        if col_min > np.iinfo(int_param).min and col_max < np.iinfo(int_param).max:\n",
    "                            df[column] = df[column].astype(int_param)\n",
    "                else:\n",
    "                    for float_param in [np.float16, np.float32]:\n",
    "                        if col_min > np.finfo(float_param).min and col_max < np.finfo(float_param).max:\n",
    "                            df[column] = df[column].astype(float_param)\n",
    "            else:\n",
    "                df[column] = df[column].astype('category')\n",
    "\n",
    "        end_mem = df.memory_usage().sum() / 1024\n",
    "        print(f'memory after reduce {end_mem}')\n",
    "        return df\n",
    "\n",
    "my_model_handler = ModelDataHandler(df_train, df_test)\n",
    "df_train, df_test = my_model_handler.get_df()"
   ],
   "metadata": {
    "collapsed": false,
    "pycharm": {
     "name": "#%%\n"
    }
   }
  },
  {
   "cell_type": "code",
   "execution_count": 105,
   "outputs": [
    {
     "name": "stderr",
     "output_type": "stream",
     "text": [
      "c:\\users\\user\\desktop\\data-science\\venv\\lib\\site-packages\\seaborn\\_decorators.py:36: FutureWarning: Pass the following variable as a keyword arg: x. From version 0.12, the only valid positional argument will be `data`, and passing other arguments without an explicit keyword will result in an error or misinterpretation.\n",
      "  warnings.warn(\n"
     ]
    },
    {
     "data": {
      "text/plain": "<AxesSubplot:xlabel='LifeSquare'>"
     },
     "execution_count": 105,
     "metadata": {},
     "output_type": "execute_result"
    },
    {
     "data": {
      "text/plain": "<Figure size 432x216 with 1 Axes>",
      "image/png": "[encoded data removed]"
     },
     "metadata": {
      "needs_background": "light"
     },
     "output_type": "display_data"
    }
   ],
   "source": [
    "import  seaborn as sns\n",
    "\n",
    "plt.figure(figsize=(6, 3))\n",
    "sns.boxplot(df_train['LifeSquare'], whis=1.5)"
   ],
   "metadata": {
    "collapsed": false,
    "pycharm": {
     "name": "#%%\n"
    }
   }
  },
  {
   "cell_type": "code",
   "execution_count": null,
   "outputs": [],
   "source": [
    "\"\"\" Drop column Healthcare_1 because it have 5743 not Nan\"\"\"\n",
    "def drop_inplace(df):\n",
    "    df.drop('Healthcare_1', axis=1, inplace=True)\n",
    "    df.loc[df['LifeSquare'] > 1000, 'LifeSquare'] = df_train['LifeSquare'].median()\n",
    "    df['LifeSquare'] = df['LifeSquare'].fillna(df['LifeSquare'].mean())\n",
    "\n",
    "\n",
    "drop_inplace(df_train)"
   ],
   "metadata": {
    "collapsed": false,
    "pycharm": {
     "name": "#%%\n"
    }
   }
  },
  {
   "cell_type": "code",
   "execution_count": 5,
   "outputs": [
    {
     "data": {
      "text/plain": "                Id    DistrictId         Rooms        Square    LifeSquare  \\\ncount  10000.00000  10000.000000  10000.000000  10000.000000  10000.000000   \nmean    8383.40770     50.400800      1.890500     56.315613     36.255436   \nstd     4859.01902     43.587592      0.839512     21.058096     18.004549   \nmin        0.00000      0.000000      0.000000      1.136719      0.370605   \n25%     4169.50000     20.000000      1.000000     41.781250     25.523438   \n50%     8394.50000     36.000000      2.000000     52.500000     36.255436   \n75%    12592.50000     75.000000      2.000000     65.875000     41.437500   \nmax    16798.00000    209.000000     19.000000    641.000000    638.000000   \n\n       KitchenSquare         Floor    HouseFloor     HouseYear     Ecology_1  \\\ncount   10000.000000  10000.000000  10000.000000  1.000000e+04  10000.000000   \nmean        6.273300      8.526700     12.609400  3.990166e+03      0.118856   \nstd        28.560917      5.241148      6.775974  2.005003e+05      0.119024   \nmin         0.000000      1.000000      0.000000  1.910000e+03      0.000000   \n25%         1.000000      4.000000      9.000000  1.974000e+03      0.017654   \n50%         6.000000      7.000000     13.000000  1.977000e+03      0.075439   \n75%         9.000000     12.000000     17.000000  2.001000e+03      0.195801   \nmax      2014.000000     42.000000    117.000000  2.005201e+07      0.521973   \n\n           Social_1      Social_2      Social_3   Helthcare_2       Shops_1  \\\ncount  10000.000000  10000.000000  10000.000000  10000.000000  10000.000000   \nmean      24.687000   5352.157400      8.039200      1.319500      4.231300   \nstd       17.532614   4006.799803     23.831875      1.493601      4.806341   \nmin        0.000000    168.000000      0.000000      0.000000      0.000000   \n25%        6.000000   1564.000000      0.000000      0.000000      1.000000   \n50%       25.000000   5285.000000      2.000000      1.000000      3.000000   \n75%       36.000000   7227.000000      5.000000      2.000000      6.000000   \nmax       74.000000  19083.000000    141.000000      6.000000     23.000000   \n\n               Price  \ncount   10000.000000  \nmean   214138.859375  \nstd     92872.289062  \nmin     59174.777344  \n25%    153872.628906  \n50%    192269.648438  \n75%    249135.460938  \nmax    633233.437500  ",
      "text/html": "<div>\n<style scoped>\n    .dataframe tbody tr th:only-of-type {\n        vertical-align: middle;\n    }\n\n    .dataframe tbody tr th {\n        vertical-align: top;\n    }\n\n    .dataframe thead th {\n        text-align: right;\n    }\n</style>\n<table border=\"1\" class=\"dataframe\">\n  <thead>\n    <tr style=\"text-align: right;\">\n      <th></th>\n      <th>Id</th>\n      <th>DistrictId</th>\n      <th>Rooms</th>\n      <th>Square</th>\n      <th>LifeSquare</th>\n      <th>KitchenSquare</th>\n      <th>Floor</th>\n      <th>HouseFloor</th>\n      <th>HouseYear</th>\n      <th>Ecology_1</th>\n      <th>Social_1</th>\n      <th>Social_2</th>\n      <th>Social_3</th>\n      <th>Helthcare_2</th>\n      <th>Shops_1</th>\n      <th>Price</th>\n    </tr>\n  </thead>\n  <tbody>\n    <tr>\n      <th>count</th>\n      <td>10000.00000</td>\n      <td>10000.000000</td>\n      <td>10000.000000</td>\n      <td>10000.000000</td>\n      <td>10000.000000</td>\n      <td>10000.000000</td>\n      <td>10000.000000</td>\n      <td>10000.000000</td>\n      <td>1.000000e+04</td>\n      <td>10000.000000</td>\n      <td>10000.000000</td>\n      <td>10000.000000</td>\n      <td>10000.000000</td>\n      <td>10000.000000</td>\n      <td>10000.000000</td>\n      <td>10000.000000</td>\n    </tr>\n    <tr>\n      <th>mean</th>\n      <td>8383.40770</td>\n      <td>50.400800</td>\n      <td>1.890500</td>\n      <td>56.315613</td>\n      <td>36.255436</td>\n      <td>6.273300</td>\n      <td>8.526700</td>\n      <td>12.609400</td>\n      <td>3.990166e+03</td>\n      <td>0.118856</td>\n      <td>24.687000</td>\n      <td>5352.157400</td>\n      <td>8.039200</td>\n      <td>1.319500</td>\n      <td>4.231300</td>\n      <td>214138.859375</td>\n    </tr>\n    <tr>\n      <th>std</th>\n      <td>4859.01902</td>\n      <td>43.587592</td>\n      <td>0.839512</td>\n      <td>21.058096</td>\n      <td>18.004549</td>\n      <td>28.560917</td>\n      <td>5.241148</td>\n      <td>6.775974</td>\n      <td>2.005003e+05</td>\n      <td>0.119024</td>\n      <td>17.532614</td>\n      <td>4006.799803</td>\n      <td>23.831875</td>\n      <td>1.493601</td>\n      <td>4.806341</td>\n      <td>92872.289062</td>\n    </tr>\n    <tr>\n      <th>min</th>\n      <td>0.00000</td>\n      <td>0.000000</td>\n      <td>0.000000</td>\n      <td>1.136719</td>\n      <td>0.370605</td>\n      <td>0.000000</td>\n      <td>1.000000</td>\n      <td>0.000000</td>\n      <td>1.910000e+03</td>\n      <td>0.000000</td>\n      <td>0.000000</td>\n      <td>168.000000</td>\n      <td>0.000000</td>\n      <td>0.000000</td>\n      <td>0.000000</td>\n      <td>59174.777344</td>\n    </tr>\n    <tr>\n      <th>25%</th>\n      <td>4169.50000</td>\n      <td>20.000000</td>\n      <td>1.000000</td>\n      <td>41.781250</td>\n      <td>25.523438</td>\n      <td>1.000000</td>\n      <td>4.000000</td>\n      <td>9.000000</td>\n      <td>1.974000e+03</td>\n      <td>0.017654</td>\n      <td>6.000000</td>\n      <td>1564.000000</td>\n      <td>0.000000</td>\n      <td>0.000000</td>\n      <td>1.000000</td>\n      <td>153872.628906</td>\n    </tr>\n    <tr>\n      <th>50%</th>\n      <td>8394.50000</td>\n      <td>36.000000</td>\n      <td>2.000000</td>\n      <td>52.500000</td>\n      <td>36.255436</td>\n      <td>6.000000</td>\n      <td>7.000000</td>\n      <td>13.000000</td>\n      <td>1.977000e+03</td>\n      <td>0.075439</td>\n      <td>25.000000</td>\n      <td>5285.000000</td>\n      <td>2.000000</td>\n      <td>1.000000</td>\n      <td>3.000000</td>\n      <td>192269.648438</td>\n    </tr>\n    <tr>\n      <th>75%</th>\n      <td>12592.50000</td>\n      <td>75.000000</td>\n      <td>2.000000</td>\n      <td>65.875000</td>\n      <td>41.437500</td>\n      <td>9.000000</td>\n      <td>12.000000</td>\n      <td>17.000000</td>\n      <td>2.001000e+03</td>\n      <td>0.195801</td>\n      <td>36.000000</td>\n      <td>7227.000000</td>\n      <td>5.000000</td>\n      <td>2.000000</td>\n      <td>6.000000</td>\n      <td>249135.460938</td>\n    </tr>\n    <tr>\n      <th>max</th>\n      <td>16798.00000</td>\n      <td>209.000000</td>\n      <td>19.000000</td>\n      <td>641.000000</td>\n      <td>638.000000</td>\n      <td>2014.000000</td>\n      <td>42.000000</td>\n      <td>117.000000</td>\n      <td>2.005201e+07</td>\n      <td>0.521973</td>\n      <td>74.000000</td>\n      <td>19083.000000</td>\n      <td>141.000000</td>\n      <td>6.000000</td>\n      <td>23.000000</td>\n      <td>633233.437500</td>\n    </tr>\n  </tbody>\n</table>\n</div>"
     },
     "execution_count": 5,
     "metadata": {},
     "output_type": "execute_result"
    }
   ],
   "source": [
    "df_train.describe()"
   ],
   "metadata": {
    "collapsed": false,
    "pycharm": {
     "name": "#%%\n"
    }
   }
  },
  {
   "cell_type": "code",
   "execution_count": 8,
   "outputs": [],
   "source": [
    "df_train.drop('Id', axis=1, inplace=True)"
   ],
   "metadata": {
    "collapsed": false,
    "pycharm": {
     "name": "#%%\n"
    }
   }
  },
  {
   "cell_type": "code",
   "execution_count": 12,
   "outputs": [],
   "source": [
    "df_train = pd.get_dummies(df_train)"
   ],
   "metadata": {
    "collapsed": false,
    "pycharm": {
     "name": "#%%\n"
    }
   }
  },
  {
   "cell_type": "markdown",
   "source": [
    "### 3 train test split"
   ],
   "metadata": {
    "collapsed": false,
    "pycharm": {
     "name": "#%% md\n"
    }
   }
  },
  {
   "cell_type": "code",
   "execution_count": 13,
   "outputs": [],
   "source": [
    "def split_data(df):\n",
    "    x = df.drop('Price', axis=1)\n",
    "    y = df['Price']\n",
    "    return train_test_split(x, y, test_size=0.3, random_state=49)\n",
    "\n",
    "x_train, x_valid, y_train, y_valid = split_data(df_train)"
   ],
   "metadata": {
    "collapsed": false,
    "pycharm": {
     "name": "#%%\n"
    }
   }
  },
  {
   "cell_type": "markdown",
   "source": [
    "Random Forest\n",
    "\n",
    "RobustScaler, MinMaxScaler, StandardScaler"
   ],
   "metadata": {
    "collapsed": false,
    "pycharm": {
     "name": "#%% md\n"
    }
   }
  },
  {
   "cell_type": "code",
   "execution_count": 19,
   "outputs": [],
   "source": [
    "def scale_data(df_train, df_valid, model):\n",
    "    scaler_model = model\n",
    "    df_train = scaler_model.fit_transform(df_train)\n",
    "    df_valid = scaler_model.transform(df_valid)\n",
    "    return df_train, df_valid\n",
    "\n",
    "x_train, x_valid = scale_data(x_train, x_valid, RobustScaler())"
   ],
   "metadata": {
    "collapsed": false,
    "pycharm": {
     "name": "#%%\n"
    }
   }
  },
  {
   "cell_type": "code",
   "execution_count": 22,
   "outputs": [
    {
     "name": "stdout",
     "output_type": "stream",
     "text": [
      "0.727164474338994\n"
     ]
    }
   ],
   "source": [
    "class BuiltModelForest:\n",
    "    def __init__(self, x_train, x_valid, y_train, y_valid):\n",
    "        self.x_train = x_train\n",
    "        self.x_valid = x_valid\n",
    "        self.y_train = y_train\n",
    "        self.y_valid = y_valid\n",
    "\n",
    "    def fit(self):\n",
    "        model = RandomForestRegressor(n_estimators=100, max_depth=9, max_features=16, random_state=49)\n",
    "        self.model_learn  = model.fit(self.x_train, self.y_train)\n",
    "\n",
    "    def predict(self):\n",
    "        self.fit()\n",
    "        self.y_pred_valid = self.model_learn.predict(self.x_valid)\n",
    "        return self.y_pred_valid\n",
    "\n",
    "    def metrics_score(self):\n",
    "        return r2_score(self.y_valid, self.predict())\n",
    "\n",
    "my_model = BuiltModelForest(x_train, x_valid, y_train, y_valid)\n",
    "r2 = my_model.metrics_score()\n",
    "print(r2)"
   ],
   "metadata": {
    "collapsed": false,
    "pycharm": {
     "name": "#%%\n"
    }
   }
  },
  {
   "cell_type": "code",
   "execution_count": 23,
   "outputs": [
    {
     "data": {
      "text/plain": "0.8190041816087099"
     },
     "execution_count": 23,
     "metadata": {},
     "output_type": "execute_result"
    }
   ],
   "source": [
    "y_pred_train = my_model.model_learn.predict(x_train)\n",
    "r2_score(y_train, y_pred_train)"
   ],
   "metadata": {
    "collapsed": false,
    "pycharm": {
     "name": "#%%\n"
    }
   }
  },
  {
   "cell_type": "code",
   "execution_count": 28,
   "outputs": [
    {
     "data": {
      "text/plain": "(7000, 20)"
     },
     "execution_count": 28,
     "metadata": {},
     "output_type": "execute_result"
    }
   ],
   "source": [
    "x_train.shape\n",
    "# my_model.model_learn.feature_importances_"
   ],
   "metadata": {
    "collapsed": false,
    "pycharm": {
     "name": "#%%\n"
    }
   }
  },
  {
   "cell_type": "code",
   "execution_count": 31,
   "outputs": [],
   "source": [
    "parameters = [{'n_estimators': [50, 100, 150, 200],\n",
    "               'max_features': np.arange(14, 18),\n",
    "               'max_depth': np.arange(7, 12)}]\n",
    "grid_forest = GridSearchCV(estimator=RandomForestRegressor(random_state=49),\n",
    "                           param_grid=parameters,\n",
    "                           scoring='r2',\n",
    "                           cv=5)\n",
    "\n",
    "grid_forest.fit(x_train, y_train)\n",
    "y_pred_valid = grid_forest.predict(x_valid)"
   ],
   "metadata": {
    "collapsed": false,
    "pycharm": {
     "name": "#%%\n"
    }
   }
  },
  {
   "cell_type": "code",
   "execution_count": 32,
   "outputs": [
    {
     "data": {
      "text/plain": "{'max_depth': 11, 'max_features': 15, 'n_estimators': 200}"
     },
     "execution_count": 32,
     "metadata": {},
     "output_type": "execute_result"
    }
   ],
   "source": [
    "grid_forest.best_params_"
   ],
   "metadata": {
    "collapsed": false,
    "pycharm": {
     "name": "#%%\n"
    }
   }
  },
  {
   "cell_type": "code",
   "execution_count": 38,
   "outputs": [
    {
     "data": {
      "text/plain": "dict_keys(['mean_fit_time', 'std_fit_time', 'mean_score_time', 'std_score_time', 'param_max_depth', 'param_max_features', 'param_n_estimators', 'params', 'split0_test_score', 'split1_test_score', 'split2_test_score', 'split3_test_score', 'split4_test_score', 'mean_test_score', 'std_test_score', 'rank_test_score'])"
     },
     "execution_count": 38,
     "metadata": {},
     "output_type": "execute_result"
    }
   ],
   "source": [
    "grid_forest.cv_results_.keys()"
   ],
   "metadata": {
    "collapsed": false,
    "pycharm": {
     "name": "#%%\n"
    }
   }
  },
  {
   "cell_type": "code",
   "execution_count": 39,
   "outputs": [],
   "source": [
    "y_pred_train = grid_forest.predict(x_train)"
   ],
   "metadata": {
    "collapsed": false,
    "pycharm": {
     "name": "#%%\n"
    }
   }
  },
  {
   "cell_type": "code",
   "execution_count": 40,
   "outputs": [
    {
     "data": {
      "text/plain": "0.8774308006225957"
     },
     "execution_count": 40,
     "metadata": {},
     "output_type": "execute_result"
    }
   ],
   "source": [
    "r2_score(y_train, y_pred_train)"
   ],
   "metadata": {
    "collapsed": false,
    "pycharm": {
     "name": "#%%\n"
    }
   }
  },
  {
   "cell_type": "markdown",
   "source": [
    "### {'max_depth': 11, 'max_features': 15, 'n_estimators': 200}\n",
    "\n"
   ],
   "metadata": {
    "collapsed": false,
    "pycharm": {
     "name": "#%% md\n"
    }
   }
  },
  {
   "cell_type": "code",
   "execution_count": 42,
   "outputs": [
    {
     "data": {
      "text/plain": "                 Id   DistrictId        Rooms       Square   LifeSquare  \\\ncount   5000.000000  5000.000000  5000.000000  5000.000000  3959.000000   \nmean    8412.595400    51.279200     1.910000    56.449500    36.158810   \nstd     4832.674037    44.179466     0.838594    19.092787    17.825287   \nmin        1.000000     0.000000     0.000000     1.378543     0.333490   \n25%     4221.750000    21.000000     1.000000    41.906231    23.092026   \n50%     8320.500000    37.000000     2.000000    52.921340    32.925087   \n75%    12598.250000    77.000000     2.000000    66.285129    45.174091   \nmax    16795.000000   212.000000    17.000000   223.453689   303.071094   \n\n       KitchenSquare        Floor   HouseFloor    HouseYear    Ecology_1  \\\ncount    5000.000000  5000.000000  5000.000000  5000.000000  5000.000000   \nmean        5.976800     8.632000    12.601000  1984.392600     0.119874   \nstd         9.950018     5.483228     6.789213    18.573149     0.120070   \nmin         0.000000     1.000000     0.000000  1908.000000     0.000000   \n25%         1.000000     4.000000     9.000000  1973.000000     0.019509   \n50%         6.000000     7.000000    12.000000  1977.000000     0.072158   \n75%         9.000000    12.000000    17.000000  2000.000000     0.195781   \nmax       620.000000    78.000000    99.000000  2020.000000     0.521867   \n\n          Social_1      Social_2     Social_3  Healthcare_1  Helthcare_2  \\\ncount  5000.000000   5000.000000  5000.000000   2623.000000   5000.00000   \nmean     24.933800   5406.900000     8.262600   1146.657263      1.31940   \nstd      17.532202   4026.614773    23.863762   1044.744231      1.47994   \nmin       0.000000    168.000000     0.000000      0.000000      0.00000   \n25%       6.000000   1564.000000     0.000000    325.000000      0.00000   \n50%      25.000000   5285.000000     2.000000    900.000000      1.00000   \n75%      36.000000   7287.000000     5.000000   1548.000000      2.00000   \nmax      74.000000  19083.000000   141.000000   4849.000000      6.00000   \n\n           Shops_1  \ncount  5000.000000  \nmean      4.242800  \nstd       4.777365  \nmin       0.000000  \n25%       1.000000  \n50%       3.000000  \n75%       6.000000  \nmax      23.000000  ",
      "text/html": "<div>\n<style scoped>\n    .dataframe tbody tr th:only-of-type {\n        vertical-align: middle;\n    }\n\n    .dataframe tbody tr th {\n        vertical-align: top;\n    }\n\n    .dataframe thead th {\n        text-align: right;\n    }\n</style>\n<table border=\"1\" class=\"dataframe\">\n  <thead>\n    <tr style=\"text-align: right;\">\n      <th></th>\n      <th>Id</th>\n      <th>DistrictId</th>\n      <th>Rooms</th>\n      <th>Square</th>\n      <th>LifeSquare</th>\n      <th>KitchenSquare</th>\n      <th>Floor</th>\n      <th>HouseFloor</th>\n      <th>HouseYear</th>\n      <th>Ecology_1</th>\n      <th>Social_1</th>\n      <th>Social_2</th>\n      <th>Social_3</th>\n      <th>Healthcare_1</th>\n      <th>Helthcare_2</th>\n      <th>Shops_1</th>\n    </tr>\n  </thead>\n  <tbody>\n    <tr>\n      <th>count</th>\n      <td>5000.000000</td>\n      <td>5000.000000</td>\n      <td>5000.000000</td>\n      <td>5000.000000</td>\n      <td>3959.000000</td>\n      <td>5000.000000</td>\n      <td>5000.000000</td>\n      <td>5000.000000</td>\n      <td>5000.000000</td>\n      <td>5000.000000</td>\n      <td>5000.000000</td>\n      <td>5000.000000</td>\n      <td>5000.000000</td>\n      <td>2623.000000</td>\n      <td>5000.00000</td>\n      <td>5000.000000</td>\n    </tr>\n    <tr>\n      <th>mean</th>\n      <td>8412.595400</td>\n      <td>51.279200</td>\n      <td>1.910000</td>\n      <td>56.449500</td>\n      <td>36.158810</td>\n      <td>5.976800</td>\n      <td>8.632000</td>\n      <td>12.601000</td>\n      <td>1984.392600</td>\n      <td>0.119874</td>\n      <td>24.933800</td>\n      <td>5406.900000</td>\n      <td>8.262600</td>\n      <td>1146.657263</td>\n      <td>1.31940</td>\n      <td>4.242800</td>\n    </tr>\n    <tr>\n      <th>std</th>\n      <td>4832.674037</td>\n      <td>44.179466</td>\n      <td>0.838594</td>\n      <td>19.092787</td>\n      <td>17.825287</td>\n      <td>9.950018</td>\n      <td>5.483228</td>\n      <td>6.789213</td>\n      <td>18.573149</td>\n      <td>0.120070</td>\n      <td>17.532202</td>\n      <td>4026.614773</td>\n      <td>23.863762</td>\n      <td>1044.744231</td>\n      <td>1.47994</td>\n      <td>4.777365</td>\n    </tr>\n    <tr>\n      <th>min</th>\n      <td>1.000000</td>\n      <td>0.000000</td>\n      <td>0.000000</td>\n      <td>1.378543</td>\n      <td>0.333490</td>\n      <td>0.000000</td>\n      <td>1.000000</td>\n      <td>0.000000</td>\n      <td>1908.000000</td>\n      <td>0.000000</td>\n      <td>0.000000</td>\n      <td>168.000000</td>\n      <td>0.000000</td>\n      <td>0.000000</td>\n      <td>0.00000</td>\n      <td>0.000000</td>\n    </tr>\n    <tr>\n      <th>25%</th>\n      <td>4221.750000</td>\n      <td>21.000000</td>\n      <td>1.000000</td>\n      <td>41.906231</td>\n      <td>23.092026</td>\n      <td>1.000000</td>\n      <td>4.000000</td>\n      <td>9.000000</td>\n      <td>1973.000000</td>\n      <td>0.019509</td>\n      <td>6.000000</td>\n      <td>1564.000000</td>\n      <td>0.000000</td>\n      <td>325.000000</td>\n      <td>0.00000</td>\n      <td>1.000000</td>\n    </tr>\n    <tr>\n      <th>50%</th>\n      <td>8320.500000</td>\n      <td>37.000000</td>\n      <td>2.000000</td>\n      <td>52.921340</td>\n      <td>32.925087</td>\n      <td>6.000000</td>\n      <td>7.000000</td>\n      <td>12.000000</td>\n      <td>1977.000000</td>\n      <td>0.072158</td>\n      <td>25.000000</td>\n      <td>5285.000000</td>\n      <td>2.000000</td>\n      <td>900.000000</td>\n      <td>1.00000</td>\n      <td>3.000000</td>\n    </tr>\n    <tr>\n      <th>75%</th>\n      <td>12598.250000</td>\n      <td>77.000000</td>\n      <td>2.000000</td>\n      <td>66.285129</td>\n      <td>45.174091</td>\n      <td>9.000000</td>\n      <td>12.000000</td>\n      <td>17.000000</td>\n      <td>2000.000000</td>\n      <td>0.195781</td>\n      <td>36.000000</td>\n      <td>7287.000000</td>\n      <td>5.000000</td>\n      <td>1548.000000</td>\n      <td>2.00000</td>\n      <td>6.000000</td>\n    </tr>\n    <tr>\n      <th>max</th>\n      <td>16795.000000</td>\n      <td>212.000000</td>\n      <td>17.000000</td>\n      <td>223.453689</td>\n      <td>303.071094</td>\n      <td>620.000000</td>\n      <td>78.000000</td>\n      <td>99.000000</td>\n      <td>2020.000000</td>\n      <td>0.521867</td>\n      <td>74.000000</td>\n      <td>19083.000000</td>\n      <td>141.000000</td>\n      <td>4849.000000</td>\n      <td>6.00000</td>\n      <td>23.000000</td>\n    </tr>\n  </tbody>\n</table>\n</div>"
     },
     "execution_count": 42,
     "metadata": {},
     "output_type": "execute_result"
    }
   ],
   "source": [
    "df_test.describe()\n"
   ],
   "metadata": {
    "collapsed": false,
    "pycharm": {
     "name": "#%%\n"
    }
   }
  },
  {
   "cell_type": "code",
   "execution_count": 55,
   "outputs": [],
   "source": [
    "def dummies_df(df):\n",
    "    df = pd.get_dummies(df)\n",
    "    return df\n",
    "\n",
    "df_train = dummies_df(df_train)\n",
    "df_test = dummies_df(df_test)"
   ],
   "metadata": {
    "collapsed": false,
    "pycharm": {
     "name": "#%%\n"
    }
   }
  },
  {
   "cell_type": "code",
   "execution_count": 57,
   "outputs": [],
   "source": [
    "def split_data(df):\n",
    "    x = df.drop('Price', axis=1)\n",
    "    y = df['Price']\n",
    "    return train_test_split(x, y, test_size=0.3, random_state=49)\n",
    "\n",
    "x_train, x_valid, y_train, y_valid = split_data(df_train)"
   ],
   "metadata": {
    "collapsed": false,
    "pycharm": {
     "name": "#%%\n"
    }
   }
  },
  {
   "cell_type": "code",
   "execution_count": 58,
   "outputs": [],
   "source": [
    "def scale_data(df_train, df_valid, df_test, model):\n",
    "    scaler_model = model\n",
    "    df_train = scaler_model.fit_transform(df_train)\n",
    "    df_valid = scaler_model.transform(df_valid)\n",
    "    df_test = scaler_model.transform(df_test)\n",
    "    return df_train, df_valid, df_test\n",
    "\n",
    "x_train, x_valid, df_test = scale_data(x_train, x_valid, df_test, RobustScaler())"
   ],
   "metadata": {
    "collapsed": false,
    "pycharm": {
     "name": "#%%\n"
    }
   }
  },
  {
   "cell_type": "markdown",
   "source": [
    "\n",
    "Built model random forest"
   ],
   "metadata": {
    "collapsed": false
   }
  },
  {
   "cell_type": "code",
   "execution_count": 65,
   "outputs": [
    {
     "name": "stdout",
     "output_type": "stream",
     "text": [
      "0.727343495444118\n"
     ]
    }
   ],
   "source": [
    "class BuiltModelForest:\n",
    "    def __init__(self, x_train, x_valid, y_train, y_valid):\n",
    "        self.x_train = x_train\n",
    "        self.x_valid = x_valid\n",
    "        self.y_train = y_train\n",
    "        self.y_valid = y_valid\n",
    "\n",
    "    def fit(self):\n",
    "        model = RandomForestRegressor(n_estimators=150, max_depth=9, max_features=15, random_state=49)\n",
    "        self.model_learn  = model.fit(self.x_train, self.y_train)\n",
    "\n",
    "    def predict(self):\n",
    "        self.fit()\n",
    "        self.y_pred_valid = self.model_learn.predict(self.x_valid)\n",
    "        return self.y_pred_valid\n",
    "\n",
    "    def metrics_score(self):\n",
    "        return r2_score(self.y_valid, self.predict())\n",
    "\n",
    "my_model = BuiltModelForest(x_train, x_valid, y_train, y_valid)\n",
    "r2 = my_model.metrics_score()\n",
    "print(r2)"
   ],
   "metadata": {
    "collapsed": false,
    "pycharm": {
     "name": "#%%\n"
    }
   }
  },
  {
   "cell_type": "code",
   "execution_count": 66,
   "outputs": [
    {
     "data": {
      "text/plain": "0.8179205629047268"
     },
     "execution_count": 66,
     "metadata": {},
     "output_type": "execute_result"
    }
   ],
   "source": [
    "y_pred_train = my_model.model_learn.predict(x_train)\n",
    "r2_score(y_train, y_pred_train)"
   ],
   "metadata": {
    "collapsed": false,
    "pycharm": {
     "name": "#%%\n"
    }
   }
  },
  {
   "cell_type": "code",
   "execution_count": 67,
   "outputs": [],
   "source": [
    "y_pred_test = my_model.model_learn.predict(df_test)"
   ],
   "metadata": {
    "collapsed": false,
    "pycharm": {
     "name": "#%%\n"
    }
   }
  },
  {
   "cell_type": "code",
   "execution_count": 71,
   "outputs": [],
   "source": [
    "df_id = pd.read_csv('datasets/sample_submission.csv')"
   ],
   "metadata": {
    "collapsed": false,
    "pycharm": {
     "name": "#%%\n"
    }
   }
  },
  {
   "cell_type": "code",
   "execution_count": 72,
   "outputs": [
    {
     "data": {
      "text/plain": "0        4567\n1        5925\n2         960\n3        3848\n4         746\n        ...  \n4995    10379\n4996    16138\n4997     3912\n4998     5722\n4999    11004\nName: Id, Length: 5000, dtype: int64"
     },
     "execution_count": 72,
     "metadata": {},
     "output_type": "execute_result"
    }
   ],
   "source": [
    "df_id['Id']"
   ],
   "metadata": {
    "collapsed": false,
    "pycharm": {
     "name": "#%%\n"
    }
   }
  },
  {
   "cell_type": "code",
   "execution_count": 99,
   "outputs": [
    {
     "data": {
      "text/plain": "              Price\n0     159794.600838\n1     123376.689514\n2     153824.374127\n3     135370.260455\n4     209363.495061\n...             ...\n4995  186290.607505\n4996  385053.010105\n4997  156800.231677\n4998  189084.223271\n4999  251408.631805\n\n[5000 rows x 1 columns]",
      "text/html": "<div>\n<style scoped>\n    .dataframe tbody tr th:only-of-type {\n        vertical-align: middle;\n    }\n\n    .dataframe tbody tr th {\n        vertical-align: top;\n    }\n\n    .dataframe thead th {\n        text-align: right;\n    }\n</style>\n<table border=\"1\" class=\"dataframe\">\n  <thead>\n    <tr style=\"text-align: right;\">\n      <th></th>\n      <th>Price</th>\n    </tr>\n  </thead>\n  <tbody>\n    <tr>\n      <th>0</th>\n      <td>159794.600838</td>\n    </tr>\n    <tr>\n      <th>1</th>\n      <td>123376.689514</td>\n    </tr>\n    <tr>\n      <th>2</th>\n      <td>153824.374127</td>\n    </tr>\n    <tr>\n      <th>3</th>\n      <td>135370.260455</td>\n    </tr>\n    <tr>\n      <th>4</th>\n      <td>209363.495061</td>\n    </tr>\n    <tr>\n      <th>...</th>\n      <td>...</td>\n    </tr>\n    <tr>\n      <th>4995</th>\n      <td>186290.607505</td>\n    </tr>\n    <tr>\n      <th>4996</th>\n      <td>385053.010105</td>\n    </tr>\n    <tr>\n      <th>4997</th>\n      <td>156800.231677</td>\n    </tr>\n    <tr>\n      <th>4998</th>\n      <td>189084.223271</td>\n    </tr>\n    <tr>\n      <th>4999</th>\n      <td>251408.631805</td>\n    </tr>\n  </tbody>\n</table>\n<p>5000 rows × 1 columns</p>\n</div>"
     },
     "execution_count": 99,
     "metadata": {},
     "output_type": "execute_result"
    }
   ],
   "source": [
    "y_pred_test = pd.DataFrame(y_pred_test, columns=['Price'])"
   ],
   "metadata": {
    "collapsed": false,
    "pycharm": {
     "name": "#%%\n"
    }
   }
  },
  {
   "cell_type": "code",
   "execution_count": 100,
   "outputs": [],
   "source": [
    "df_finish = pd.concat([df_id['Id'], y_pred_test], axis=1)"
   ],
   "metadata": {
    "collapsed": false,
    "pycharm": {
     "name": "#%%\n"
    }
   }
  },
  {
   "cell_type": "code",
   "execution_count": 101,
   "outputs": [
    {
     "data": {
      "text/plain": "         Id          Price\n0      4567  159794.600838\n1      5925  123376.689514\n2       960  153824.374127\n3      3848  135370.260455\n4       746  209363.495061\n...     ...            ...\n4995  10379  186290.607505\n4996  16138  385053.010105\n4997   3912  156800.231677\n4998   5722  189084.223271\n4999  11004  251408.631805\n\n[5000 rows x 2 columns]",
      "text/html": "<div>\n<style scoped>\n    .dataframe tbody tr th:only-of-type {\n        vertical-align: middle;\n    }\n\n    .dataframe tbody tr th {\n        vertical-align: top;\n    }\n\n    .dataframe thead th {\n        text-align: right;\n    }\n</style>\n<table border=\"1\" class=\"dataframe\">\n  <thead>\n    <tr style=\"text-align: right;\">\n      <th></th>\n      <th>Id</th>\n      <th>Price</th>\n    </tr>\n  </thead>\n  <tbody>\n    <tr>\n      <th>0</th>\n      <td>4567</td>\n      <td>159794.600838</td>\n    </tr>\n    <tr>\n      <th>1</th>\n      <td>5925</td>\n      <td>123376.689514</td>\n    </tr>\n    <tr>\n      <th>2</th>\n      <td>960</td>\n      <td>153824.374127</td>\n    </tr>\n    <tr>\n      <th>3</th>\n      <td>3848</td>\n      <td>135370.260455</td>\n    </tr>\n    <tr>\n      <th>4</th>\n      <td>746</td>\n      <td>209363.495061</td>\n    </tr>\n    <tr>\n      <th>...</th>\n      <td>...</td>\n      <td>...</td>\n    </tr>\n    <tr>\n      <th>4995</th>\n      <td>10379</td>\n      <td>186290.607505</td>\n    </tr>\n    <tr>\n      <th>4996</th>\n      <td>16138</td>\n      <td>385053.010105</td>\n    </tr>\n    <tr>\n      <th>4997</th>\n      <td>3912</td>\n      <td>156800.231677</td>\n    </tr>\n    <tr>\n      <th>4998</th>\n      <td>5722</td>\n      <td>189084.223271</td>\n    </tr>\n    <tr>\n      <th>4999</th>\n      <td>11004</td>\n      <td>251408.631805</td>\n    </tr>\n  </tbody>\n</table>\n<p>5000 rows × 2 columns</p>\n</div>"
     },
     "execution_count": 101,
     "metadata": {},
     "output_type": "execute_result"
    }
   ],
   "source": [
    "df_finish"
   ],
   "metadata": {
    "collapsed": false,
    "pycharm": {
     "name": "#%%\n"
    }
   }
  },
  {
   "cell_type": "code",
   "execution_count": 102,
   "outputs": [],
   "source": [
    "df_finish.to_csv('df_submit_1.csv', index=False)"
   ],
   "metadata": {
    "collapsed": false,
    "pycharm": {
     "name": "#%%\n"
    }
   }
  }
 ],
 "metadata": {
  "kernelspec": {
   "display_name": "Python 3",
   "language": "python",
   "name": "python3"
  },
  "language_info": {
   "codemirror_mode": {
    "name": "ipython",
    "version": 2
   },
   "file_extension": ".py",
   "mimetype": "text/x-python",
   "name": "python",
   "nbconvert_exporter": "python",
   "pygments_lexer": "ipython2",
   "version": "2.7.6"
  }
 },
 "nbformat": 4,
 "nbformat_minor": 0
}