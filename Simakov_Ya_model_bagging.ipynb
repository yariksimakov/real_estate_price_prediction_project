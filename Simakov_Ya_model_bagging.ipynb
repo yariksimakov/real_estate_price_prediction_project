{
 "cells": [
  {
   "cell_type": "code",
   "execution_count": 45,
   "outputs": [],
   "source": [
    "import numpy as np\n",
    "import pandas as pd\n",
    "from sklearn.model_selection import train_test_split\n",
    "from sklearn.preprocessing import StandardScaler, MinMaxScaler\n",
    "from sklearn.ensemble import BaggingRegressor, GradientBoostingRegressor\n",
    "from sklearn.metrics import r2_score as r_2\n",
    "import matplotlib as mpl\n",
    "import matplotlib.pyplot as plt\n",
    "import warnings\n",
    "\n",
    "warnings.filterwarnings('ignore')\n",
    "mpl.rcParams.update({'font.size': 18})\n",
    "%matplotlib inline"
   ],
   "metadata": {
    "collapsed": false,
    "pycharm": {
     "name": "#%%\n"
    }
   }
  },
  {
   "cell_type": "code",
   "execution_count": 2,
   "outputs": [],
   "source": [
    "df_train = pd.read_pickle('df_train.pkl')\n",
    "df_test = pd.read_pickle('df_test.pkl')\n",
    "\n",
    "TARGET_COLUMN = 'Price'\n",
    "CATEGORY_COLUMNS = ['DistrictId', 'Rooms', 'Ecology_1', 'Ecology_2', 'Shops_1', 'Helthcare_2', 'Rooms_outlier', 'HouseFloor_outlier',\n",
    "                   'District_big', 'Floor_category', 'Year_category', 'Healthcare_1_outlier', 'DistrictSize', 'PriceMedian_year', 'PriceMedian_district']\n",
    "NUMBER_COLUMNS = df_train.columns.drop(CATEGORY_COLUMNS).tolist()\n",
    "NUMBER_COLUMNS.remove(TARGET_COLUMN)\n",
    "NUMBER_COLUMNS.remove('Id')"
   ],
   "metadata": {
    "collapsed": false,
    "pycharm": {
     "name": "#%%\n"
    }
   }
  },
  {
   "cell_type": "markdown",
   "source": [
    "## 3 train test split"
   ],
   "metadata": {
    "collapsed": false
   }
  },
  {
   "cell_type": "code",
   "execution_count": 13,
   "outputs": [],
   "source": [
    "# df_train.drop(columns='Id', inplace=True)\n",
    "\n",
    "def split_data(df, share_of_dough):\n",
    "    x = df.drop(TARGET_COLUMN, axis=1)\n",
    "    y = df[TARGET_COLUMN]\n",
    "    return train_test_split(x, y, test_size=share_of_dough, random_state=49)\n",
    "\n",
    "x_train, x_valid, y_train, y_valid = split_data(df_train, .25)\n"
   ],
   "metadata": {
    "collapsed": false,
    "pycharm": {
     "name": "#%%\n"
    }
   }
  },
  {
   "cell_type": "code",
   "execution_count": 14,
   "outputs": [],
   "source": [
    "model_scaler = StandardScaler()\n",
    "x_train[NUMBER_COLUMNS] = model_scaler.fit_transform(x_train[NUMBER_COLUMNS])\n",
    "x_valid[NUMBER_COLUMNS] = model_scaler.transform(x_valid[NUMBER_COLUMNS])"
   ],
   "metadata": {
    "collapsed": false,
    "pycharm": {
     "name": "#%%\n"
    }
   }
  },
  {
   "cell_type": "markdown",
   "source": [
    "## model learn"
   ],
   "metadata": {
    "collapsed": false
   }
  },
  {
   "cell_type": "code",
   "execution_count": 17,
   "outputs": [
    {
     "name": "stdout",
     "output_type": "stream",
     "text": [
      "0.7808267433744104\tTRAIN\n",
      "0.7296320321953952\tVALID\n"
     ]
    }
   ],
   "source": [
    "model_regression = BaggingRegressor(n_estimators=180, max_features=15, max_samples=720, oob_score='r2', random_state=49)\n",
    "model_regression.fit(x_train, y_train)\n",
    "pred_train = model_regression.predict(x_train)\n",
    "pred_valid = model_regression.predict(x_valid)\n",
    "print(r_2(y_train, pred_train), 'TRAIN', sep='\\t')\n",
    "print(r_2(y_valid, pred_valid), 'VALID', sep='\\t')\n"
   ],
   "metadata": {
    "collapsed": false,
    "pycharm": {
     "name": "#%%\n"
    }
   }
  },
  {
   "cell_type": "code",
   "execution_count": 31,
   "outputs": [
    {
     "name": "stdout",
     "output_type": "stream",
     "text": [
      "0.7235296964011382 R2 valid \n",
      " 0.7687408542246768 R2 train \t value 14 \n",
      "\n",
      "0.726558660452203 R2 valid \n",
      " 0.7718830181384273 R2 train \t value 16 \n",
      "\n",
      "0.7264842313402062 R2 valid \n",
      " 0.7735297458520134 R2 train \t value 18 \n",
      "\n",
      "0.7270935520697661 R2 valid \n",
      " 0.7762353697980245 R2 train \t value 20 \n",
      "\n",
      "0.7280351843656541 R2 valid \n",
      " 0.7775484526220562 R2 train \t value 22 \n",
      "\n",
      "0.7244005248580108 R2 valid \n",
      " 0.7768195784401597 R2 train \t value 24 \n",
      "\n"
     ]
    },
    {
     "data": {
      "text/plain": "<matplotlib.legend.Legend at 0x66d3212ee0>"
     },
     "execution_count": 31,
     "metadata": {},
     "output_type": "execute_result"
    },
    {
     "data": {
      "text/plain": "<Figure size 432x288 with 1 Axes>",
      "image/png": "[encoded data removed]"
     },
     "metadata": {
      "needs_background": "light"
     },
     "output_type": "display_data"
    }
   ],
   "source": [
    "param_range = np.arange(14, 26, 2)\n",
    "\n",
    "def model_bagging(x_train, x_valid, y_train, y_valid):\n",
    "    r2_train_list = list()\n",
    "    r2_valid_list = list()\n",
    "    for val in param_range:\n",
    "        model_regressor = BaggingRegressor(n_estimators=180, max_features=val, max_samples=610, random_state=49)\n",
    "        model_regressor.fit(x_train, y_train)\n",
    "        y_pred_valid = model_regressor.predict(x_valid)\n",
    "        y_pred_train = model_regressor.predict(x_train)\n",
    "        r2_valid = r_2(y_valid, y_pred_valid)\n",
    "        r2_train = r_2(y_train, y_pred_train)\n",
    "        r2_train_list.append(r2_train)\n",
    "        r2_valid_list.append(r2_valid)\n",
    "        print(r2_valid, 'R2 valid', '\\n',\n",
    "              r2_train, 'R2 train', '\\t',  f'value {val}', '\\n')\n",
    "    return r2_train_list, r2_valid_list\n",
    "\n",
    "r2_train, r2_valid = model_bagging(x_train, x_valid, y_train, y_valid)\n",
    "\n",
    "value = list(param_range)\n",
    "plt.plot(value, r2_train, color='b', label='Train')\n",
    "plt.plot(value, r2_valid, color='r', label='Valid')\n",
    "plt.legend()\n",
    "\n",
    "# The best parameters\n",
    "# max_samples = 610\n",
    "# n_estimators = 180\n",
    "# max_features = 22"
   ],
   "metadata": {
    "collapsed": false,
    "pycharm": {
     "name": "#%%\n"
    }
   }
  },
  {
   "cell_type": "code",
   "execution_count": 32,
   "outputs": [
    {
     "name": "stdout",
     "output_type": "stream",
     "text": [
      "0.7775484526220562 R2 train \n",
      " 0.7280351843656541 R2 valid\n"
     ]
    }
   ],
   "source": [
    "model_bagging_result = BaggingRegressor(n_estimators=180, max_samples=610, max_features=22, random_state=49)\n",
    "model_bagging_result.fit(x_train, y_train)\n",
    "pred_train = model_bagging_result.predict(x_train)\n",
    "pred_valid = model_bagging_result.predict(x_valid)\n",
    "\n",
    "print(r_2(y_train, pred_train), 'R2 train', '\\n',\n",
    "        r_2(y_valid, pred_valid), 'R2 valid')\n",
    "\n",
    "# 0.7775484526220562 R2 train\n",
    "#  0.7280351843656541 R2 valid"
   ],
   "metadata": {
    "collapsed": false,
    "pycharm": {
     "name": "#%%\n"
    }
   }
  },
  {
   "cell_type": "code",
   "execution_count": 40,
   "outputs": [
    {
     "name": "stdout",
     "output_type": "stream",
     "text": [
      "0.7532480539404904 R2 valid \n",
      " 0.8204692941653043 R2 train \t value 16 \n",
      "\n",
      "0.7529415941396929 R2 valid \n",
      " 0.8223990028856466 R2 train \t value 17 \n",
      "\n",
      "0.753621112077468 R2 valid \n",
      " 0.8202411034760501 R2 train \t value 18 \n",
      "\n",
      "0.7475947338229962 R2 valid \n",
      " 0.8193763017930943 R2 train \t value 19 \n",
      "\n",
      "0.747302651236319 R2 valid \n",
      " 0.8181324770283382 R2 train \t value 20 \n",
      "\n",
      "0.7508351708896295 R2 valid \n",
      " 0.8220188201256139 R2 train \t value 21 \n",
      "\n"
     ]
    },
    {
     "data": {
      "text/plain": "<matplotlib.legend.Legend at 0x66d45ef4c0>"
     },
     "execution_count": 40,
     "metadata": {},
     "output_type": "execute_result"
    },
    {
     "data": {
      "text/plain": "<Figure size 432x288 with 1 Axes>",
      "image/png": "[encoded data removed]"
     },
     "metadata": {},
     "output_type": "display_data"
    }
   ],
   "source": [
    "param_range = np.arange(16, 22, 1)\n",
    "\n",
    "def model_gradient(x_train, x_valid, y_train, y_valid):\n",
    "    r2_train_list = list()\n",
    "    r2_valid_list = list()\n",
    "    for val in param_range:\n",
    "        model_regressor = GradientBoostingRegressor(n_estimators=80, max_depth=4, max_features=val, random_state=49)\n",
    "        model_regressor.fit(x_train, y_train)\n",
    "        y_pred_valid = model_regressor.predict(x_valid)\n",
    "        y_pred_train = model_regressor.predict(x_train)\n",
    "        r2_valid = r_2(y_valid, y_pred_valid)\n",
    "        r2_train = r_2(y_train, y_pred_train)\n",
    "        r2_train_list.append(r2_train)\n",
    "        r2_valid_list.append(r2_valid)\n",
    "        print(r2_valid, 'R2 valid', '\\n',\n",
    "              r2_train, 'R2 train', '\\t',  f'value {val}', '\\n')\n",
    "    return r2_train_list, r2_valid_list\n",
    "\n",
    "r2_train, r2_valid = model_gradient(x_train, x_valid, y_train, y_valid)\n",
    "\n",
    "value = list(param_range)\n",
    "plt.style.use('fivethirtyeight')\n",
    "plt.plot(value, r2_valid, label='valid')\n",
    "plt.plot(value, r2_train, label='train')\n",
    "plt.xlabel('value param')\n",
    "plt.ylabel('R2')\n",
    "plt.legend()\n",
    "\n",
    "# The best parameters\n",
    "# n_estimators = 80\n",
    "# max_depth = 4\n",
    "# max_features = 18"
   ],
   "metadata": {
    "collapsed": false,
    "pycharm": {
     "name": "#%%\n"
    }
   }
  },
  {
   "cell_type": "code",
   "execution_count": 47,
   "outputs": [
    {
     "name": "stdout",
     "output_type": "stream",
     "text": [
      "0.8202411034760501\tTRAIN\n",
      "0.7280351843656541\tVALID\n"
     ]
    }
   ],
   "source": [
    "model_gradient_result = GradientBoostingRegressor(n_estimators=80, max_depth=4, max_features=18, random_state=49)\n",
    "model_gradient_result.fit(x_train, y_train)\n",
    "pred_train = model_gradient_result.predict(x_train)\n",
    "pred_valid = model_bagging_result.predict(x_valid)\n",
    "print(r_2(y_train, pred_train), 'TRAIN', sep='\\t')\n",
    "print(r_2(y_valid, pred_valid), 'VALID', sep='\\t')\n",
    "\n",
    "# 0.8202411034760501\tTRAIN\n",
    "# 0.7280351843656541\tVALID"
   ],
   "metadata": {
    "collapsed": false,
    "pycharm": {
     "name": "#%%\n"
    }
   }
  },
  {
   "cell_type": "markdown",
   "source": [
    "## I chose BaggingRegressor model because this model is less retrained"
   ],
   "metadata": {
    "collapsed": false
   }
  },
  {
   "cell_type": "code",
   "execution_count": 50,
   "outputs": [
    {
     "name": "stdout",
     "output_type": "stream",
     "text": [
      "0.7280351843656541 R2 valid \n",
      " 0.7775484526220562 R2 train \t\n"
     ]
    }
   ],
   "source": [
    "id_test = df_test['Id']\n",
    "df_test.drop('Id', axis=1, inplace=True)\n",
    "\n",
    "def get_result(x_train, x_valid, y_train, y_valid, x_test):\n",
    "    model_regression = BaggingRegressor(n_estimators=180, max_samples=610, max_features=22, random_state=49)\n",
    "    model_regression.fit(x_train, y_train)\n",
    "    y_pred_test = model_regression.predict(x_test)\n",
    "    y_pred_valid = model_regression.predict(x_valid)\n",
    "    y_pred_train = model_regression.predict(x_train)\n",
    "    r2_valid = r_2(y_valid, y_pred_valid)\n",
    "    r2_train = r_2(y_train, y_pred_train)\n",
    "    print(r2_valid, 'R2 valid', '\\n',\n",
    "              r2_train, 'R2 train', '\\t')\n",
    "    return y_pred_test, model_regression\n",
    "\n",
    "y_pred_result, final_model = get_result(x_train, x_valid, y_train, y_valid, df_test)"
   ],
   "metadata": {
    "collapsed": false,
    "pycharm": {
     "name": "#%%\n"
    }
   }
  },
  {
   "cell_type": "code",
   "execution_count": 52,
   "outputs": [
    {
     "data": {
      "text/plain": "         Id          Price\n0      4567  280513.146918\n1      5925  225186.014236\n2       960  254646.095443\n3      3848  246551.025738\n4       746  269491.821007\n...     ...            ...\n4995  10379  314216.687847\n4996  16138  419612.126432\n4997   3912  253945.805208\n4998   5722  287105.227344\n4999  11004  318540.770226\n\n[5000 rows x 2 columns]",
      "text/html": "<div>\n<style scoped>\n    .dataframe tbody tr th:only-of-type {\n        vertical-align: middle;\n    }\n\n    .dataframe tbody tr th {\n        vertical-align: top;\n    }\n\n    .dataframe thead th {\n        text-align: right;\n    }\n</style>\n<table border=\"1\" class=\"dataframe\">\n  <thead>\n    <tr style=\"text-align: right;\">\n      <th></th>\n      <th>Id</th>\n      <th>Price</th>\n    </tr>\n  </thead>\n  <tbody>\n    <tr>\n      <th>0</th>\n      <td>4567</td>\n      <td>280513.146918</td>\n    </tr>\n    <tr>\n      <th>1</th>\n      <td>5925</td>\n      <td>225186.014236</td>\n    </tr>\n    <tr>\n      <th>2</th>\n      <td>960</td>\n      <td>254646.095443</td>\n    </tr>\n    <tr>\n      <th>3</th>\n      <td>3848</td>\n      <td>246551.025738</td>\n    </tr>\n    <tr>\n      <th>4</th>\n      <td>746</td>\n      <td>269491.821007</td>\n    </tr>\n    <tr>\n      <th>...</th>\n      <td>...</td>\n      <td>...</td>\n    </tr>\n    <tr>\n      <th>4995</th>\n      <td>10379</td>\n      <td>314216.687847</td>\n    </tr>\n    <tr>\n      <th>4996</th>\n      <td>16138</td>\n      <td>419612.126432</td>\n    </tr>\n    <tr>\n      <th>4997</th>\n      <td>3912</td>\n      <td>253945.805208</td>\n    </tr>\n    <tr>\n      <th>4998</th>\n      <td>5722</td>\n      <td>287105.227344</td>\n    </tr>\n    <tr>\n      <th>4999</th>\n      <td>11004</td>\n      <td>318540.770226</td>\n    </tr>\n  </tbody>\n</table>\n<p>5000 rows × 2 columns</p>\n</div>"
     },
     "execution_count": 52,
     "metadata": {},
     "output_type": "execute_result"
    }
   ],
   "source": [
    "result_df = pd.DataFrame({'Id': id_test, 'Price': y_pred_result}, columns=['Id', 'Price'])\n",
    "result_df"
   ],
   "metadata": {
    "collapsed": false,
    "pycharm": {
     "name": "#%%\n"
    }
   }
  },
  {
   "cell_type": "code",
   "execution_count": 55,
   "outputs": [],
   "source": [
    "result_df.to_csv('Simakov_Ya_bagging_predict.csv', index=False)\n"
   ],
   "metadata": {
    "collapsed": false,
    "pycharm": {
     "name": "#%%\n"
    }
   }
  }
 ],
 "metadata": {
  "kernelspec": {
   "display_name": "Python 3",
   "language": "python",
   "name": "python3"
  },
  "language_info": {
   "codemirror_mode": {
    "name": "ipython",
    "version": 2
   },
   "file_extension": ".py",
   "mimetype": "text/x-python",
   "name": "python",
   "nbconvert_exporter": "python",
   "pygments_lexer": "ipython2",
   "version": "2.7.6"
  }
 },
 "nbformat": 4,
 "nbformat_minor": 0
}